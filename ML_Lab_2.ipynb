{
  "nbformat": 4,
  "nbformat_minor": 0,
  "metadata": {
    "colab": {
      "provenance": [],
      "authorship_tag": "ABX9TyPeB0p/ZZ1VujBl9A8EbHN1",
      "include_colab_link": true
    },
    "kernelspec": {
      "name": "python3",
      "display_name": "Python 3"
    },
    "language_info": {
      "name": "python"
    }
  },
  "cells": [
    {
      "cell_type": "markdown",
      "metadata": {
        "id": "view-in-github",
        "colab_type": "text"
      },
      "source": [
        "<a href=\"https://colab.research.google.com/github/Kushalpatel3121/ML-Labs/blob/main/ML_Lab_2.ipynb\" target=\"_parent\"><img src=\"https://colab.research.google.com/assets/colab-badge.svg\" alt=\"Open In Colab\"/></a>"
      ]
    },
    {
      "cell_type": "markdown",
      "source": [
        "Steps for Data Transformation"
      ],
      "metadata": {
        "id": "_iUxgs0Ux2MA"
      }
    },
    {
      "cell_type": "code",
      "execution_count": null,
      "metadata": {
        "id": "uRS30rPhf2ox"
      },
      "outputs": [],
      "source": [
        "#step 1 Import libraries\n",
        "import numpy as np\n",
        "import pandas as pd\n",
        "from sklearn.preprocessing import MinMaxScaler, StandardScaler"
      ]
    },
    {
      "cell_type": "code",
      "source": [
        "# step 2 load data\n",
        "datasets = pd.read_csv('Data_for_Transformation.csv')\n",
        "print(\"\\nData :\\n\",datasets)\n",
        "print(\"\\nData statistics\\n\",datasets.describe())\n",
        "# Step 3: Seprate Input and Output attributes\n",
        "# All rows, all columns except last\n",
        "X = datasets.iloc[:, :-1].values\n",
        "# Only last column\n",
        "Y = datasets.iloc[:, -1].values\n",
        "print(\"\\n\\nInput : \\n\", X)\n",
        "print(\"\\n\\nOutput: \\n\", Y)\n",
        "X_new = datasets.iloc[:,1:3].values\n",
        "print(\"\\n\\nX for transformation : \\n\", X_new)\n"
      ],
      "metadata": {
        "colab": {
          "base_uri": "https://localhost:8080/"
        },
        "id": "6_pgAxTDwipA",
        "outputId": "a8ca1508-f0fd-4117-a41b-b719edff54ca"
      },
      "execution_count": null,
      "outputs": [
        {
          "output_type": "stream",
          "name": "stdout",
          "text": [
            "\n",
            "Data :\n",
            "     Country  Age  Salary Purchased\n",
            "0    France   44   72000        No\n",
            "1     Spain   27   48000       Yes\n",
            "2   Germany   30   54000        No\n",
            "3     Spain   38   61000        No\n",
            "4   Germany   40   68000       Yes\n",
            "5    France   35   58000       Yes\n",
            "6     Spain   39   52000        No\n",
            "7    France   48   79000       Yes\n",
            "8   Germany   50   83000        No\n",
            "9    France   37   67000       Yes\n",
            "10    Spain   45   55000        No\n",
            "\n",
            "Data statistics\n",
            "              Age        Salary\n",
            "count  11.000000     11.000000\n",
            "mean   39.363636  63363.636364\n",
            "std     7.131237  11386.594989\n",
            "min    27.000000  48000.000000\n",
            "25%    36.000000  54500.000000\n",
            "50%    39.000000  61000.000000\n",
            "75%    44.500000  70000.000000\n",
            "max    50.000000  83000.000000\n",
            "\n",
            "\n",
            "Input : \n",
            " [['France' 44 72000]\n",
            " ['Spain' 27 48000]\n",
            " ['Germany' 30 54000]\n",
            " ['Spain' 38 61000]\n",
            " ['Germany' 40 68000]\n",
            " ['France' 35 58000]\n",
            " ['Spain' 39 52000]\n",
            " ['France' 48 79000]\n",
            " ['Germany' 50 83000]\n",
            " ['France' 37 67000]\n",
            " ['Spain' 45 55000]]\n",
            "\n",
            "\n",
            "Output: \n",
            " ['No' 'Yes' 'No' 'No' 'Yes' 'Yes' 'No' 'Yes' 'No' 'Yes' 'No']\n",
            "\n",
            "\n",
            "X for transformation : \n",
            " [[   44 72000]\n",
            " [   27 48000]\n",
            " [   30 54000]\n",
            " [   38 61000]\n",
            " [   40 68000]\n",
            " [   35 58000]\n",
            " [   39 52000]\n",
            " [   48 79000]\n",
            " [   50 83000]\n",
            " [   37 67000]\n",
            " [   45 55000]]\n"
          ]
        }
      ]
    },
    {
      "cell_type": "code",
      "source": [
        "# Step 4 : Perform scaling on age and salary\n",
        "# (x-xmin)/(xmax-xmin)\n",
        "scaler = MinMaxScaler()\n",
        "X_scaled = scaler.fit_transform(X_new)\n",
        "print(\"\\n\\nScaled X : \\n\", X_scaled)\n"
      ],
      "metadata": {
        "colab": {
          "base_uri": "https://localhost:8080/"
        },
        "id": "iEpS2fVqxKau",
        "outputId": "3bcd74f7-0c06-4c30-b853-71e3052acb9d"
      },
      "execution_count": null,
      "outputs": [
        {
          "output_type": "stream",
          "name": "stdout",
          "text": [
            "\n",
            "\n",
            "Scaled X : \n",
            " [[0.73913043 0.68571429]\n",
            " [0.         0.        ]\n",
            " [0.13043478 0.17142857]\n",
            " [0.47826087 0.37142857]\n",
            " [0.56521739 0.57142857]\n",
            " [0.34782609 0.28571429]\n",
            " [0.52173913 0.11428571]\n",
            " [0.91304348 0.88571429]\n",
            " [1.         1.        ]\n",
            " [0.43478261 0.54285714]\n",
            " [0.7826087  0.2       ]]\n"
          ]
        }
      ]
    },
    {
      "cell_type": "code",
      "source": [
        " # Step 5 : Perform standardization on age and salary\n",
        "#  (x-xmean)/(xmax-xmin)\n",
        "std = StandardScaler()\n",
        "X_std = std.fit_transform(X_new)\n",
        "print(\"\\n\\nStandardized X : \\n\", X_std)\n"
      ],
      "metadata": {
        "colab": {
          "base_uri": "https://localhost:8080/"
        },
        "id": "HsxGi9qnxZfj",
        "outputId": "b71fc19b-c503-476b-fab2-c6e09aa1be71"
      },
      "execution_count": null,
      "outputs": [
        {
          "output_type": "stream",
          "name": "stdout",
          "text": [
            "\n",
            "\n",
            "Standardized X : \n",
            " [[ 0.68188156  0.79548755]\n",
            " [-1.81835082 -1.41513049]\n",
            " [-1.37713334 -0.86247598]\n",
            " [-0.2005534  -0.21771238]\n",
            " [ 0.09359159  0.42705121]\n",
            " [-0.64177088 -0.49403964]\n",
            " [-0.05348091 -1.04669415]\n",
            " [ 1.27017153  1.44025115]\n",
            " [ 1.56431652  1.80868749]\n",
            " [-0.34762589  0.33494213]\n",
            " [ 0.82895405 -0.77036689]]\n"
          ]
        }
      ]
    },
    {
      "cell_type": "markdown",
      "source": [
        "Steps for Handling Categorical Data\n",
        "\n",
        "1.   List item\n",
        "2.   List item\n",
        "\n"
      ],
      "metadata": {
        "id": "qJllaqSyx78N"
      }
    },
    {
      "cell_type": "code",
      "source": [
        "# Step 1: Import Libraries\n",
        "import numpy as np\n",
        "import pandas as pd\n",
        "from sklearn.preprocessing import LabelEncoder,OneHotEncoder"
      ],
      "metadata": {
        "id": "Jco5KGgyyAMH"
      },
      "execution_count": null,
      "outputs": []
    },
    {
      "cell_type": "code",
      "source": [
        "# Step 2: Load Data\n",
        "datasets = pd.read_csv('Data_for_Categorical_Values.csv')\n",
        "print(\"\\nData :\\n\",datasets)\n",
        "print(\"\\nData statistics\\n\",datasets.describe())"
      ],
      "metadata": {
        "colab": {
          "base_uri": "https://localhost:8080/"
        },
        "id": "xy3q4Ab0yEPk",
        "outputId": "2a1ad51b-f515-400f-ebd9-d62aea1c8ce9"
      },
      "execution_count": null,
      "outputs": [
        {
          "output_type": "stream",
          "name": "stdout",
          "text": [
            "\n",
            "Data :\n",
            "     Country  Age  Salary Purchased\n",
            "0    France   44   72000        No\n",
            "1     Spain   27   48000       Yes\n",
            "2   Germany   30   54000        No\n",
            "3     Spain   38   61000        No\n",
            "4   Germany   40   68000       Yes\n",
            "5    France   35   58000       Yes\n",
            "6     Spain   39   52000        No\n",
            "7    France   48   79000       Yes\n",
            "8   Germany   50   83000        No\n",
            "9    France   37   67000       Yes\n",
            "10    Spain   45   55000        No\n",
            "\n",
            "Data statistics\n",
            "              Age        Salary\n",
            "count  11.000000     11.000000\n",
            "mean   39.363636  63363.636364\n",
            "std     7.131237  11386.594989\n",
            "min    27.000000  48000.000000\n",
            "25%    36.000000  54500.000000\n",
            "50%    39.000000  61000.000000\n",
            "75%    44.500000  70000.000000\n",
            "max    50.000000  83000.000000\n"
          ]
        }
      ]
    },
    {
      "cell_type": "code",
      "source": [
        "# Step 3: Seprate Input and Output attributes\n",
        "# All rows, all columns except last\n",
        "X = datasets.iloc[:, :-1].values\n",
        "# Only last column\n",
        "Y = datasets.iloc[:, -1].values\n",
        "print(\"\\n\\nInput : \\n\", X)\n",
        "print(\"\\n\\nOutput: \\n\", Y)"
      ],
      "metadata": {
        "colab": {
          "base_uri": "https://localhost:8080/"
        },
        "id": "N5Mzzh8EyRb-",
        "outputId": "1cbbf778-140a-45dd-c6d3-30fb6f4d8563"
      },
      "execution_count": null,
      "outputs": [
        {
          "output_type": "stream",
          "name": "stdout",
          "text": [
            "\n",
            "\n",
            "Input : \n",
            " [['France' 44 72000]\n",
            " ['Spain' 27 48000]\n",
            " ['Germany' 30 54000]\n",
            " ['Spain' 38 61000]\n",
            " ['Germany' 40 68000]\n",
            " ['France' 35 58000]\n",
            " ['Spain' 39 52000]\n",
            " ['France' 48 79000]\n",
            " ['Germany' 50 83000]\n",
            " ['France' 37 67000]\n",
            " ['Spain' 45 55000]]\n",
            "\n",
            "\n",
            "Output: \n",
            " ['No' 'Yes' 'No' 'No' 'Yes' 'Yes' 'No' 'Yes' 'No' 'Yes' 'No']\n"
          ]
        }
      ]
    },
    {
      "cell_type": "code",
      "source": [
        "# Step 4a: Apply LabelEncoder on the data\n",
        "# to convert country names into numeric values\n",
        "le = LabelEncoder()\n",
        "X[ : ,0] = le.fit_transform(X[ : ,0])\n",
        "print(\"\\n\\nInput : \\n\", X)"
      ],
      "metadata": {
        "colab": {
          "base_uri": "https://localhost:8080/"
        },
        "id": "gwz-E4kxyZmA",
        "outputId": "619848d9-402a-40f3-a1be-b8eadf943119"
      },
      "execution_count": null,
      "outputs": [
        {
          "output_type": "stream",
          "name": "stdout",
          "text": [
            "\n",
            "\n",
            "Input : \n",
            " [[0 44 72000]\n",
            " [2 27 48000]\n",
            " [1 30 54000]\n",
            " [2 38 61000]\n",
            " [1 40 68000]\n",
            " [0 35 58000]\n",
            " [2 39 52000]\n",
            " [0 48 79000]\n",
            " [1 50 83000]\n",
            " [0 37 67000]\n",
            " [2 45 55000]]\n"
          ]
        }
      ]
    },
    {
      "cell_type": "code",
      "source": [
        "# Step 4b: Use dummy variables from pandas library\n",
        "# to create one column for each country\n",
        "dummy = pd.get_dummies(datasets['Country'])\n",
        "print(\"\\n\\nDummy :\\n\",dummy)\n",
        "datasets = datasets.drop(['Country','Purchased'],axis=1)\n",
        "datasets = pd.concat([dummy,datasets],axis=1)\n",
        "print(\"\\n\\nFinal Data :\\n\",datasets)"
      ],
      "metadata": {
        "colab": {
          "base_uri": "https://localhost:8080/"
        },
        "id": "d9cro2-xykZz",
        "outputId": "b3928bf9-d73a-45f8-9da7-07810f894519"
      },
      "execution_count": null,
      "outputs": [
        {
          "output_type": "stream",
          "name": "stdout",
          "text": [
            "\n",
            "\n",
            "Dummy :\n",
            "     France  Germany  Spain\n",
            "0        1        0      0\n",
            "1        0        0      1\n",
            "2        0        1      0\n",
            "3        0        0      1\n",
            "4        0        1      0\n",
            "5        1        0      0\n",
            "6        0        0      1\n",
            "7        1        0      0\n",
            "8        0        1      0\n",
            "9        1        0      0\n",
            "10       0        0      1\n",
            "\n",
            "\n",
            "Final Data :\n",
            "     France  Germany  Spain  Age  Salary\n",
            "0        1        0      0   44   72000\n",
            "1        0        0      1   27   48000\n",
            "2        0        1      0   30   54000\n",
            "3        0        0      1   38   61000\n",
            "4        0        1      0   40   68000\n",
            "5        1        0      0   35   58000\n",
            "6        0        0      1   39   52000\n",
            "7        1        0      0   48   79000\n",
            "8        0        1      0   50   83000\n",
            "9        1        0      0   37   67000\n",
            "10       0        0      1   45   55000\n"
          ]
        }
      ]
    },
    {
      "cell_type": "code",
      "source": [
        "#Use One Hot Encoder from scikit learn\n",
        "onehotencoder = OneHotEncoder()\n",
        "#reshape the 1-D country array to 2-D as fit_transform expects 2-D and finally fit the object\n",
        "x = onehotencoder.fit_transform(datasets.Country.values.reshape(-1,1)).toarray()\n"
      ],
      "metadata": {
        "id": "PKfOe--5y-Aq"
      },
      "execution_count": null,
      "outputs": []
    },
    {
      "cell_type": "code",
      "source": [
        "x"
      ],
      "metadata": {
        "colab": {
          "base_uri": "https://localhost:8080/"
        },
        "id": "SxSh9KRczkLY",
        "outputId": "fff3334b-7124-4070-8515-0b0a78f0a65e"
      },
      "execution_count": null,
      "outputs": [
        {
          "output_type": "execute_result",
          "data": {
            "text/plain": [
              "array([[1., 0., 0.],\n",
              "       [0., 0., 1.],\n",
              "       [0., 1., 0.],\n",
              "       [0., 0., 1.],\n",
              "       [0., 1., 0.],\n",
              "       [1., 0., 0.],\n",
              "       [0., 0., 1.],\n",
              "       [1., 0., 0.],\n",
              "       [0., 1., 0.],\n",
              "       [1., 0., 0.],\n",
              "       [0., 0., 1.]])"
            ]
          },
          "metadata": {},
          "execution_count": 17
        }
      ]
    },
    {
      "cell_type": "code",
      "source": [
        "dfOneHot = pd.DataFrame(x, columns = [\"Country_\"+str(int(i)) for i in range(datasets.shape[1]-1)])\n",
        "df = pd.concat([datasets, dfOneHot], axis=1) #column\n",
        "#droping the country column\n",
        "df= df.drop(['Country'], axis=1)\n",
        "#printing to verify\n",
        "print(df.head())\n"
      ],
      "metadata": {
        "colab": {
          "base_uri": "https://localhost:8080/"
        },
        "id": "OInkSlVzzrmo",
        "outputId": "3a283d30-c019-4879-9dad-bb3271a3a9a5"
      },
      "execution_count": null,
      "outputs": [
        {
          "output_type": "stream",
          "name": "stdout",
          "text": [
            "   Age  Salary Purchased  Country_0  Country_1  Country_2\n",
            "0   44   72000        No        1.0        0.0        0.0\n",
            "1   27   48000       Yes        0.0        0.0        1.0\n",
            "2   30   54000        No        0.0        1.0        0.0\n",
            "3   38   61000        No        0.0        0.0        1.0\n",
            "4   40   68000       Yes        0.0        1.0        0.0\n"
          ]
        }
      ]
    },
    {
      "cell_type": "markdown",
      "source": [
        " Steps for Handling the missing value"
      ],
      "metadata": {
        "id": "QHBtyNNGz9Az"
      }
    },
    {
      "cell_type": "code",
      "source": [
        "# Step 1: Import Libraries\n",
        "import numpy as np\n",
        "import pandas as pd\n",
        "from sklearn.impute import SimpleImputer"
      ],
      "metadata": {
        "id": "c8NBnby0z7WC"
      },
      "execution_count": null,
      "outputs": []
    },
    {
      "cell_type": "code",
      "source": [
        "# Step 2: Load Data\n",
        "datasets = pd.read_csv('Data_for_Missing_Values.csv')\n",
        "print(\"\\nData :\\n\",datasets)\n",
        "print(\"\\nData statistics\\n\",datasets.describe())"
      ],
      "metadata": {
        "colab": {
          "base_uri": "https://localhost:8080/"
        },
        "id": "qBkvhVso0Azb",
        "outputId": "e0e080eb-8eaf-4806-8ed4-a93a6dda5d79"
      },
      "execution_count": null,
      "outputs": [
        {
          "output_type": "stream",
          "name": "stdout",
          "text": [
            "\n",
            "Data :\n",
            "     Country   Age   Salary Purchased\n",
            "0    France  44.0  72000.0        No\n",
            "1     Spain  27.0  48000.0       Yes\n",
            "2   Germany  30.0  54000.0        No\n",
            "3     Spain  38.0  61000.0        No\n",
            "4       NaN   NaN      NaN       NaN\n",
            "5   Germany  40.0      NaN       Yes\n",
            "6    France  35.0  58000.0       Yes\n",
            "7     Spain   NaN  52000.0        No\n",
            "8    France  48.0  79000.0       Yes\n",
            "9   Germany  50.0  83000.0        No\n",
            "10   France  37.0  67000.0       Yes\n",
            "11    Spain  45.0  55000.0        No\n",
            "\n",
            "Data statistics\n",
            "              Age        Salary\n",
            "count  10.000000     10.000000\n",
            "mean   39.400000  62900.000000\n",
            "std     7.515909  11892.574714\n",
            "min    27.000000  48000.000000\n",
            "25%    35.500000  54250.000000\n",
            "50%    39.000000  59500.000000\n",
            "75%    44.750000  70750.000000\n",
            "max    50.000000  83000.000000\n"
          ]
        }
      ]
    },
    {
      "cell_type": "code",
      "source": [
        "# Step 3: Seprate Input and Output attributes\n",
        "# All rows, all columns except last\n",
        "X = datasets.iloc[:, :-1].values\n",
        "# Only last column\n",
        "Y = datasets.iloc[:, -1].values\n",
        "print(\"\\n\\nInput : \\n\", X)\n",
        "print(\"\\n\\nOutput: \\n\", Y)"
      ],
      "metadata": {
        "colab": {
          "base_uri": "https://localhost:8080/"
        },
        "id": "MgBWpZQ70IW6",
        "outputId": "1b70f31b-4ffb-4014-f3ae-24451faf4a60"
      },
      "execution_count": null,
      "outputs": [
        {
          "output_type": "stream",
          "name": "stdout",
          "text": [
            "\n",
            "\n",
            "Input : \n",
            " [['France' 44.0 72000.0]\n",
            " ['Spain' 27.0 48000.0]\n",
            " ['Germany' 30.0 54000.0]\n",
            " ['Spain' 38.0 61000.0]\n",
            " ['France' 35.0 58000.0]\n",
            " ['France' 48.0 79000.0]\n",
            " ['Germany' 50.0 83000.0]\n",
            " ['France' 37.0 67000.0]\n",
            " ['Spain' 45.0 55000.0]]\n",
            "\n",
            "\n",
            "Output: \n",
            " ['No' 'Yes' 'No' 'No' 'Yes' 'Yes' 'No' 'Yes' 'No']\n"
          ]
        }
      ]
    },
    {
      "cell_type": "code",
      "source": [
        "# Step 4: Find the missing values and handle it in either way\n",
        "# 4a. Removing the row with all null values\n",
        "# removes one row\n",
        "datasets.dropna(axis=0,how='all',inplace=True)\n",
        "print(\"\\nNew Data :\",datasets)\n",
        "#4b. Removing the row with any one null values\n",
        "# removes 2 rows\n",
        "# datasets.dropna(axis=0,how='any',inplace=True)\n",
        "# print(\"\\nNew Data :\",datasets)"
      ],
      "metadata": {
        "colab": {
          "base_uri": "https://localhost:8080/"
        },
        "id": "xUgu0Ynq0MtD",
        "outputId": "46649b12-cc41-4bc4-b82e-d054e38fbafb"
      },
      "execution_count": null,
      "outputs": [
        {
          "output_type": "stream",
          "name": "stdout",
          "text": [
            "\n",
            "New Data :     Country   Age   Salary Purchased\n",
            "0    France  44.0  72000.0        No\n",
            "1     Spain  27.0  48000.0       Yes\n",
            "2   Germany  30.0  54000.0        No\n",
            "3     Spain  38.0  61000.0        No\n",
            "5   Germany  40.0      NaN       Yes\n",
            "6    France  35.0  58000.0       Yes\n",
            "7     Spain   NaN  52000.0        No\n",
            "8    France  48.0  79000.0       Yes\n",
            "9   Germany  50.0  83000.0        No\n",
            "10   France  37.0  67000.0       Yes\n",
            "11    Spain  45.0  55000.0        No\n"
          ]
        }
      ]
    },
    {
      "cell_type": "code",
      "source": [
        "updated_df = datasets;\n",
        "updated_df['Age']=updated_df['Age'].fillna(updated_df['Age'].mean())\n",
        "updated_df.info()"
      ],
      "metadata": {
        "colab": {
          "base_uri": "https://localhost:8080/"
        },
        "id": "YRj5RcVH0z_I",
        "outputId": "20fec482-80bd-4db3-c255-0b2cedf47bec"
      },
      "execution_count": null,
      "outputs": [
        {
          "output_type": "stream",
          "name": "stdout",
          "text": [
            "<class 'pandas.core.frame.DataFrame'>\n",
            "Int64Index: 11 entries, 0 to 11\n",
            "Data columns (total 4 columns):\n",
            " #   Column     Non-Null Count  Dtype  \n",
            "---  ------     --------------  -----  \n",
            " 0   Country    11 non-null     object \n",
            " 1   Age        11 non-null     float64\n",
            " 2   Salary     10 non-null     float64\n",
            " 3   Purchased  11 non-null     object \n",
            "dtypes: float64(2), object(2)\n",
            "memory usage: 440.0+ bytes\n"
          ]
        }
      ]
    },
    {
      "cell_type": "code",
      "source": [
        "print(updated_df)"
      ],
      "metadata": {
        "colab": {
          "base_uri": "https://localhost:8080/"
        },
        "id": "P9iGnoUo09Wu",
        "outputId": "e8dd872d-accc-43f3-ed16-5ec549af7c39"
      },
      "execution_count": null,
      "outputs": [
        {
          "output_type": "stream",
          "name": "stdout",
          "text": [
            "    Country   Age   Salary Purchased\n",
            "0    France  44.0  72000.0        No\n",
            "1     Spain  27.0  48000.0       Yes\n",
            "2   Germany  30.0  54000.0        No\n",
            "3     Spain  38.0  61000.0        No\n",
            "5   Germany  40.0      NaN       Yes\n",
            "6    France  35.0  58000.0       Yes\n",
            "7     Spain  39.4  52000.0        No\n",
            "8    France  48.0  79000.0       Yes\n",
            "9   Germany  50.0  83000.0        No\n",
            "10   France  37.0  67000.0       Yes\n",
            "11    Spain  45.0  55000.0        No\n"
          ]
        }
      ]
    },
    {
      "cell_type": "code",
      "source": [
        "datasets"
      ],
      "metadata": {
        "colab": {
          "base_uri": "https://localhost:8080/",
          "height": 394
        },
        "id": "nmi6VStd1Bbe",
        "outputId": "bb3c9c30-023e-4c93-e7dc-6a1c114c2749"
      },
      "execution_count": null,
      "outputs": [
        {
          "output_type": "execute_result",
          "data": {
            "text/plain": [
              "    Country   Age   Salary Purchased\n",
              "0    France  44.0  72000.0        No\n",
              "1     Spain  27.0  48000.0       Yes\n",
              "2   Germany  30.0  54000.0        No\n",
              "3     Spain  38.0  61000.0        No\n",
              "5   Germany  40.0      NaN       Yes\n",
              "6    France  35.0  58000.0       Yes\n",
              "7     Spain  39.4  52000.0        No\n",
              "8    France  48.0  79000.0       Yes\n",
              "9   Germany  50.0  83000.0        No\n",
              "10   France  37.0  67000.0       Yes\n",
              "11    Spain  45.0  55000.0        No"
            ],
            "text/html": [
              "\n",
              "  <div id=\"df-171468aa-3d66-40d2-8dc1-159c286ee28e\">\n",
              "    <div class=\"colab-df-container\">\n",
              "      <div>\n",
              "<style scoped>\n",
              "    .dataframe tbody tr th:only-of-type {\n",
              "        vertical-align: middle;\n",
              "    }\n",
              "\n",
              "    .dataframe tbody tr th {\n",
              "        vertical-align: top;\n",
              "    }\n",
              "\n",
              "    .dataframe thead th {\n",
              "        text-align: right;\n",
              "    }\n",
              "</style>\n",
              "<table border=\"1\" class=\"dataframe\">\n",
              "  <thead>\n",
              "    <tr style=\"text-align: right;\">\n",
              "      <th></th>\n",
              "      <th>Country</th>\n",
              "      <th>Age</th>\n",
              "      <th>Salary</th>\n",
              "      <th>Purchased</th>\n",
              "    </tr>\n",
              "  </thead>\n",
              "  <tbody>\n",
              "    <tr>\n",
              "      <th>0</th>\n",
              "      <td>France</td>\n",
              "      <td>44.0</td>\n",
              "      <td>72000.0</td>\n",
              "      <td>No</td>\n",
              "    </tr>\n",
              "    <tr>\n",
              "      <th>1</th>\n",
              "      <td>Spain</td>\n",
              "      <td>27.0</td>\n",
              "      <td>48000.0</td>\n",
              "      <td>Yes</td>\n",
              "    </tr>\n",
              "    <tr>\n",
              "      <th>2</th>\n",
              "      <td>Germany</td>\n",
              "      <td>30.0</td>\n",
              "      <td>54000.0</td>\n",
              "      <td>No</td>\n",
              "    </tr>\n",
              "    <tr>\n",
              "      <th>3</th>\n",
              "      <td>Spain</td>\n",
              "      <td>38.0</td>\n",
              "      <td>61000.0</td>\n",
              "      <td>No</td>\n",
              "    </tr>\n",
              "    <tr>\n",
              "      <th>5</th>\n",
              "      <td>Germany</td>\n",
              "      <td>40.0</td>\n",
              "      <td>NaN</td>\n",
              "      <td>Yes</td>\n",
              "    </tr>\n",
              "    <tr>\n",
              "      <th>6</th>\n",
              "      <td>France</td>\n",
              "      <td>35.0</td>\n",
              "      <td>58000.0</td>\n",
              "      <td>Yes</td>\n",
              "    </tr>\n",
              "    <tr>\n",
              "      <th>7</th>\n",
              "      <td>Spain</td>\n",
              "      <td>39.4</td>\n",
              "      <td>52000.0</td>\n",
              "      <td>No</td>\n",
              "    </tr>\n",
              "    <tr>\n",
              "      <th>8</th>\n",
              "      <td>France</td>\n",
              "      <td>48.0</td>\n",
              "      <td>79000.0</td>\n",
              "      <td>Yes</td>\n",
              "    </tr>\n",
              "    <tr>\n",
              "      <th>9</th>\n",
              "      <td>Germany</td>\n",
              "      <td>50.0</td>\n",
              "      <td>83000.0</td>\n",
              "      <td>No</td>\n",
              "    </tr>\n",
              "    <tr>\n",
              "      <th>10</th>\n",
              "      <td>France</td>\n",
              "      <td>37.0</td>\n",
              "      <td>67000.0</td>\n",
              "      <td>Yes</td>\n",
              "    </tr>\n",
              "    <tr>\n",
              "      <th>11</th>\n",
              "      <td>Spain</td>\n",
              "      <td>45.0</td>\n",
              "      <td>55000.0</td>\n",
              "      <td>No</td>\n",
              "    </tr>\n",
              "  </tbody>\n",
              "</table>\n",
              "</div>\n",
              "      <button class=\"colab-df-convert\" onclick=\"convertToInteractive('df-171468aa-3d66-40d2-8dc1-159c286ee28e')\"\n",
              "              title=\"Convert this dataframe to an interactive table.\"\n",
              "              style=\"display:none;\">\n",
              "        \n",
              "  <svg xmlns=\"http://www.w3.org/2000/svg\" height=\"24px\"viewBox=\"0 0 24 24\"\n",
              "       width=\"24px\">\n",
              "    <path d=\"M0 0h24v24H0V0z\" fill=\"none\"/>\n",
              "    <path d=\"M18.56 5.44l.94 2.06.94-2.06 2.06-.94-2.06-.94-.94-2.06-.94 2.06-2.06.94zm-11 1L8.5 8.5l.94-2.06 2.06-.94-2.06-.94L8.5 2.5l-.94 2.06-2.06.94zm10 10l.94 2.06.94-2.06 2.06-.94-2.06-.94-.94-2.06-.94 2.06-2.06.94z\"/><path d=\"M17.41 7.96l-1.37-1.37c-.4-.4-.92-.59-1.43-.59-.52 0-1.04.2-1.43.59L10.3 9.45l-7.72 7.72c-.78.78-.78 2.05 0 2.83L4 21.41c.39.39.9.59 1.41.59.51 0 1.02-.2 1.41-.59l7.78-7.78 2.81-2.81c.8-.78.8-2.07 0-2.86zM5.41 20L4 18.59l7.72-7.72 1.47 1.35L5.41 20z\"/>\n",
              "  </svg>\n",
              "      </button>\n",
              "      \n",
              "  <style>\n",
              "    .colab-df-container {\n",
              "      display:flex;\n",
              "      flex-wrap:wrap;\n",
              "      gap: 12px;\n",
              "    }\n",
              "\n",
              "    .colab-df-convert {\n",
              "      background-color: #E8F0FE;\n",
              "      border: none;\n",
              "      border-radius: 50%;\n",
              "      cursor: pointer;\n",
              "      display: none;\n",
              "      fill: #1967D2;\n",
              "      height: 32px;\n",
              "      padding: 0 0 0 0;\n",
              "      width: 32px;\n",
              "    }\n",
              "\n",
              "    .colab-df-convert:hover {\n",
              "      background-color: #E2EBFA;\n",
              "      box-shadow: 0px 1px 2px rgba(60, 64, 67, 0.3), 0px 1px 3px 1px rgba(60, 64, 67, 0.15);\n",
              "      fill: #174EA6;\n",
              "    }\n",
              "\n",
              "    [theme=dark] .colab-df-convert {\n",
              "      background-color: #3B4455;\n",
              "      fill: #D2E3FC;\n",
              "    }\n",
              "\n",
              "    [theme=dark] .colab-df-convert:hover {\n",
              "      background-color: #434B5C;\n",
              "      box-shadow: 0px 1px 3px 1px rgba(0, 0, 0, 0.15);\n",
              "      filter: drop-shadow(0px 1px 2px rgba(0, 0, 0, 0.3));\n",
              "      fill: #FFFFFF;\n",
              "    }\n",
              "  </style>\n",
              "\n",
              "      <script>\n",
              "        const buttonEl =\n",
              "          document.querySelector('#df-171468aa-3d66-40d2-8dc1-159c286ee28e button.colab-df-convert');\n",
              "        buttonEl.style.display =\n",
              "          google.colab.kernel.accessAllowed ? 'block' : 'none';\n",
              "\n",
              "        async function convertToInteractive(key) {\n",
              "          const element = document.querySelector('#df-171468aa-3d66-40d2-8dc1-159c286ee28e');\n",
              "          const dataTable =\n",
              "            await google.colab.kernel.invokeFunction('convertToInteractive',\n",
              "                                                     [key], {});\n",
              "          if (!dataTable) return;\n",
              "\n",
              "          const docLinkHtml = 'Like what you see? Visit the ' +\n",
              "            '<a target=\"_blank\" href=https://colab.research.google.com/notebooks/data_table.ipynb>data table notebook</a>'\n",
              "            + ' to learn more about interactive tables.';\n",
              "          element.innerHTML = '';\n",
              "          dataTable['output_type'] = 'display_data';\n",
              "          await google.colab.output.renderOutput(dataTable, element);\n",
              "          const docLink = document.createElement('div');\n",
              "          docLink.innerHTML = docLinkHtml;\n",
              "          element.appendChild(docLink);\n",
              "        }\n",
              "      </script>\n",
              "    </div>\n",
              "  </div>\n",
              "  "
            ]
          },
          "metadata": {},
          "execution_count": 32
        }
      ]
    },
    {
      "cell_type": "code",
      "source": [
        "updated_df = datasets;\n",
        "updated_df['Salary']=updated_df['Salary'].fillna(updated_df['Salary'].mean())\n",
        "updated_df.info()"
      ],
      "metadata": {
        "colab": {
          "base_uri": "https://localhost:8080/"
        },
        "id": "HqxIiYu41HrA",
        "outputId": "eeea786e-4cac-4247-de68-18413cbadc9d"
      },
      "execution_count": null,
      "outputs": [
        {
          "output_type": "stream",
          "name": "stdout",
          "text": [
            "<class 'pandas.core.frame.DataFrame'>\n",
            "Int64Index: 11 entries, 0 to 11\n",
            "Data columns (total 4 columns):\n",
            " #   Column     Non-Null Count  Dtype  \n",
            "---  ------     --------------  -----  \n",
            " 0   Country    11 non-null     object \n",
            " 1   Age        11 non-null     float64\n",
            " 2   Salary     11 non-null     float64\n",
            " 3   Purchased  11 non-null     object \n",
            "dtypes: float64(2), object(2)\n",
            "memory usage: 440.0+ bytes\n"
          ]
        }
      ]
    },
    {
      "cell_type": "code",
      "source": [
        "datasets\n"
      ],
      "metadata": {
        "colab": {
          "base_uri": "https://localhost:8080/",
          "height": 394
        },
        "id": "B_Hbel6a1Mk0",
        "outputId": "8ce96205-6380-4d17-803f-1dce891c3116"
      },
      "execution_count": null,
      "outputs": [
        {
          "output_type": "execute_result",
          "data": {
            "text/plain": [
              "    Country   Age   Salary Purchased\n",
              "0    France  44.0  72000.0        No\n",
              "1     Spain  27.0  48000.0       Yes\n",
              "2   Germany  30.0  54000.0        No\n",
              "3     Spain  38.0  61000.0        No\n",
              "5   Germany  40.0  62900.0       Yes\n",
              "6    France  35.0  58000.0       Yes\n",
              "7     Spain  39.4  52000.0        No\n",
              "8    France  48.0  79000.0       Yes\n",
              "9   Germany  50.0  83000.0        No\n",
              "10   France  37.0  67000.0       Yes\n",
              "11    Spain  45.0  55000.0        No"
            ],
            "text/html": [
              "\n",
              "  <div id=\"df-06dcefa1-309c-4d1e-8a2c-898a558391d2\">\n",
              "    <div class=\"colab-df-container\">\n",
              "      <div>\n",
              "<style scoped>\n",
              "    .dataframe tbody tr th:only-of-type {\n",
              "        vertical-align: middle;\n",
              "    }\n",
              "\n",
              "    .dataframe tbody tr th {\n",
              "        vertical-align: top;\n",
              "    }\n",
              "\n",
              "    .dataframe thead th {\n",
              "        text-align: right;\n",
              "    }\n",
              "</style>\n",
              "<table border=\"1\" class=\"dataframe\">\n",
              "  <thead>\n",
              "    <tr style=\"text-align: right;\">\n",
              "      <th></th>\n",
              "      <th>Country</th>\n",
              "      <th>Age</th>\n",
              "      <th>Salary</th>\n",
              "      <th>Purchased</th>\n",
              "    </tr>\n",
              "  </thead>\n",
              "  <tbody>\n",
              "    <tr>\n",
              "      <th>0</th>\n",
              "      <td>France</td>\n",
              "      <td>44.0</td>\n",
              "      <td>72000.0</td>\n",
              "      <td>No</td>\n",
              "    </tr>\n",
              "    <tr>\n",
              "      <th>1</th>\n",
              "      <td>Spain</td>\n",
              "      <td>27.0</td>\n",
              "      <td>48000.0</td>\n",
              "      <td>Yes</td>\n",
              "    </tr>\n",
              "    <tr>\n",
              "      <th>2</th>\n",
              "      <td>Germany</td>\n",
              "      <td>30.0</td>\n",
              "      <td>54000.0</td>\n",
              "      <td>No</td>\n",
              "    </tr>\n",
              "    <tr>\n",
              "      <th>3</th>\n",
              "      <td>Spain</td>\n",
              "      <td>38.0</td>\n",
              "      <td>61000.0</td>\n",
              "      <td>No</td>\n",
              "    </tr>\n",
              "    <tr>\n",
              "      <th>5</th>\n",
              "      <td>Germany</td>\n",
              "      <td>40.0</td>\n",
              "      <td>62900.0</td>\n",
              "      <td>Yes</td>\n",
              "    </tr>\n",
              "    <tr>\n",
              "      <th>6</th>\n",
              "      <td>France</td>\n",
              "      <td>35.0</td>\n",
              "      <td>58000.0</td>\n",
              "      <td>Yes</td>\n",
              "    </tr>\n",
              "    <tr>\n",
              "      <th>7</th>\n",
              "      <td>Spain</td>\n",
              "      <td>39.4</td>\n",
              "      <td>52000.0</td>\n",
              "      <td>No</td>\n",
              "    </tr>\n",
              "    <tr>\n",
              "      <th>8</th>\n",
              "      <td>France</td>\n",
              "      <td>48.0</td>\n",
              "      <td>79000.0</td>\n",
              "      <td>Yes</td>\n",
              "    </tr>\n",
              "    <tr>\n",
              "      <th>9</th>\n",
              "      <td>Germany</td>\n",
              "      <td>50.0</td>\n",
              "      <td>83000.0</td>\n",
              "      <td>No</td>\n",
              "    </tr>\n",
              "    <tr>\n",
              "      <th>10</th>\n",
              "      <td>France</td>\n",
              "      <td>37.0</td>\n",
              "      <td>67000.0</td>\n",
              "      <td>Yes</td>\n",
              "    </tr>\n",
              "    <tr>\n",
              "      <th>11</th>\n",
              "      <td>Spain</td>\n",
              "      <td>45.0</td>\n",
              "      <td>55000.0</td>\n",
              "      <td>No</td>\n",
              "    </tr>\n",
              "  </tbody>\n",
              "</table>\n",
              "</div>\n",
              "      <button class=\"colab-df-convert\" onclick=\"convertToInteractive('df-06dcefa1-309c-4d1e-8a2c-898a558391d2')\"\n",
              "              title=\"Convert this dataframe to an interactive table.\"\n",
              "              style=\"display:none;\">\n",
              "        \n",
              "  <svg xmlns=\"http://www.w3.org/2000/svg\" height=\"24px\"viewBox=\"0 0 24 24\"\n",
              "       width=\"24px\">\n",
              "    <path d=\"M0 0h24v24H0V0z\" fill=\"none\"/>\n",
              "    <path d=\"M18.56 5.44l.94 2.06.94-2.06 2.06-.94-2.06-.94-.94-2.06-.94 2.06-2.06.94zm-11 1L8.5 8.5l.94-2.06 2.06-.94-2.06-.94L8.5 2.5l-.94 2.06-2.06.94zm10 10l.94 2.06.94-2.06 2.06-.94-2.06-.94-.94-2.06-.94 2.06-2.06.94z\"/><path d=\"M17.41 7.96l-1.37-1.37c-.4-.4-.92-.59-1.43-.59-.52 0-1.04.2-1.43.59L10.3 9.45l-7.72 7.72c-.78.78-.78 2.05 0 2.83L4 21.41c.39.39.9.59 1.41.59.51 0 1.02-.2 1.41-.59l7.78-7.78 2.81-2.81c.8-.78.8-2.07 0-2.86zM5.41 20L4 18.59l7.72-7.72 1.47 1.35L5.41 20z\"/>\n",
              "  </svg>\n",
              "      </button>\n",
              "      \n",
              "  <style>\n",
              "    .colab-df-container {\n",
              "      display:flex;\n",
              "      flex-wrap:wrap;\n",
              "      gap: 12px;\n",
              "    }\n",
              "\n",
              "    .colab-df-convert {\n",
              "      background-color: #E8F0FE;\n",
              "      border: none;\n",
              "      border-radius: 50%;\n",
              "      cursor: pointer;\n",
              "      display: none;\n",
              "      fill: #1967D2;\n",
              "      height: 32px;\n",
              "      padding: 0 0 0 0;\n",
              "      width: 32px;\n",
              "    }\n",
              "\n",
              "    .colab-df-convert:hover {\n",
              "      background-color: #E2EBFA;\n",
              "      box-shadow: 0px 1px 2px rgba(60, 64, 67, 0.3), 0px 1px 3px 1px rgba(60, 64, 67, 0.15);\n",
              "      fill: #174EA6;\n",
              "    }\n",
              "\n",
              "    [theme=dark] .colab-df-convert {\n",
              "      background-color: #3B4455;\n",
              "      fill: #D2E3FC;\n",
              "    }\n",
              "\n",
              "    [theme=dark] .colab-df-convert:hover {\n",
              "      background-color: #434B5C;\n",
              "      box-shadow: 0px 1px 3px 1px rgba(0, 0, 0, 0.15);\n",
              "      filter: drop-shadow(0px 1px 2px rgba(0, 0, 0, 0.3));\n",
              "      fill: #FFFFFF;\n",
              "    }\n",
              "  </style>\n",
              "\n",
              "      <script>\n",
              "        const buttonEl =\n",
              "          document.querySelector('#df-06dcefa1-309c-4d1e-8a2c-898a558391d2 button.colab-df-convert');\n",
              "        buttonEl.style.display =\n",
              "          google.colab.kernel.accessAllowed ? 'block' : 'none';\n",
              "\n",
              "        async function convertToInteractive(key) {\n",
              "          const element = document.querySelector('#df-06dcefa1-309c-4d1e-8a2c-898a558391d2');\n",
              "          const dataTable =\n",
              "            await google.colab.kernel.invokeFunction('convertToInteractive',\n",
              "                                                     [key], {});\n",
              "          if (!dataTable) return;\n",
              "\n",
              "          const docLinkHtml = 'Like what you see? Visit the ' +\n",
              "            '<a target=\"_blank\" href=https://colab.research.google.com/notebooks/data_table.ipynb>data table notebook</a>'\n",
              "            + ' to learn more about interactive tables.';\n",
              "          element.innerHTML = '';\n",
              "          dataTable['output_type'] = 'display_data';\n",
              "          await google.colab.output.renderOutput(dataTable, element);\n",
              "          const docLink = document.createElement('div');\n",
              "          docLink.innerHTML = docLinkHtml;\n",
              "          element.appendChild(docLink);\n",
              "        }\n",
              "      </script>\n",
              "    </div>\n",
              "  </div>\n",
              "  "
            ]
          },
          "metadata": {},
          "execution_count": 34
        }
      ]
    },
    {
      "cell_type": "code",
      "source": [
        "new_X = datasets.iloc[:, :-1].values\n",
        "# Only last column\n",
        "new_Y = datasets.iloc[:, -1].values\n",
        "print(new_X)\n",
        "print(new_Y)"
      ],
      "metadata": {
        "colab": {
          "base_uri": "https://localhost:8080/"
        },
        "id": "WM51654_1Qjv",
        "outputId": "2e5da12e-d547-4cb4-fcc5-6124f79ea485"
      },
      "execution_count": null,
      "outputs": [
        {
          "output_type": "stream",
          "name": "stdout",
          "text": [
            "[['France' 44.0 72000.0]\n",
            " ['Spain' 27.0 48000.0]\n",
            " ['Germany' 30.0 54000.0]\n",
            " ['Spain' 38.0 61000.0]\n",
            " ['Germany' 40.0 62900.0]\n",
            " ['France' 35.0 58000.0]\n",
            " ['Spain' 39.4 52000.0]\n",
            " ['France' 48.0 79000.0]\n",
            " ['Germany' 50.0 83000.0]\n",
            " ['France' 37.0 67000.0]\n",
            " ['Spain' 45.0 55000.0]]\n",
            "['No' 'Yes' 'No' 'No' 'Yes' 'Yes' 'No' 'Yes' 'No' 'Yes' 'No']\n"
          ]
        }
      ]
    },
    {
      "cell_type": "markdown",
      "source": [
        "#Using SimpleImputer from Scikit-Learn Library\n",
        "\n",
        "> Indented block\n",
        "\n"
      ],
      "metadata": {
        "id": "KZCLEAPo1b5e"
      }
    },
    {
      "cell_type": "code",
      "source": [
        "# Step 1: Import Libraries\n",
        "import numpy as np\n",
        "import pandas as pd\n",
        "from sklearn.impute import SimpleImputer\n"
      ],
      "metadata": {
        "id": "vy3CohAm1dfo"
      },
      "execution_count": null,
      "outputs": []
    },
    {
      "cell_type": "code",
      "source": [
        "# Step 2: Load Data\n",
        "datasets = pd.read_csv('Data_for_Missing_Values.csv')\n",
        "print(\"\\nData :\\n\",datasets)\n",
        "print(\"\\nData statistics\\n\",datasets.describe())\n"
      ],
      "metadata": {
        "colab": {
          "base_uri": "https://localhost:8080/"
        },
        "id": "rewIML2o1gMx",
        "outputId": "22ae4281-4ef5-438c-9000-a2d11ae223ed"
      },
      "execution_count": null,
      "outputs": [
        {
          "output_type": "stream",
          "name": "stdout",
          "text": [
            "\n",
            "Data :\n",
            "     Country   Age   Salary Purchased\n",
            "0    France  44.0  72000.0        No\n",
            "1     Spain  27.0  48000.0       Yes\n",
            "2   Germany  30.0  54000.0        No\n",
            "3     Spain  38.0  61000.0        No\n",
            "4       NaN   NaN      NaN       NaN\n",
            "5   Germany  40.0      NaN       Yes\n",
            "6    France  35.0  58000.0       Yes\n",
            "7     Spain   NaN  52000.0        No\n",
            "8    France  48.0  79000.0       Yes\n",
            "9   Germany  50.0  83000.0        No\n",
            "10   France  37.0  67000.0       Yes\n",
            "11    Spain  45.0  55000.0        No\n",
            "\n",
            "Data statistics\n",
            "              Age        Salary\n",
            "count  10.000000     10.000000\n",
            "mean   39.400000  62900.000000\n",
            "std     7.515909  11892.574714\n",
            "min    27.000000  48000.000000\n",
            "25%    35.500000  54250.000000\n",
            "50%    39.000000  59500.000000\n",
            "75%    44.750000  70750.000000\n",
            "max    50.000000  83000.000000\n"
          ]
        }
      ]
    },
    {
      "cell_type": "code",
      "source": [
        "# Step 3: Seprate Input and Output attributes\n",
        "# All rows, all columns except last\n",
        "X = datasets.iloc[:, :-1].values\n",
        "# Only last column\n",
        "Y = datasets.iloc[:, -1].values\n",
        "print(\"\\n\\nInput : \\n\", X)\n",
        "print(\"\\n\\nOutput: \\n\", Y)"
      ],
      "metadata": {
        "colab": {
          "base_uri": "https://localhost:8080/"
        },
        "id": "DVETyRwV1jx_",
        "outputId": "0321a01b-357c-48e2-b0fd-84234fda5064"
      },
      "execution_count": null,
      "outputs": [
        {
          "output_type": "stream",
          "name": "stdout",
          "text": [
            "\n",
            "\n",
            "Input : \n",
            " [['France' 44.0 72000.0]\n",
            " ['Spain' 27.0 48000.0]\n",
            " ['Germany' 30.0 54000.0]\n",
            " ['Spain' 38.0 61000.0]\n",
            " [nan nan nan]\n",
            " ['Germany' 40.0 nan]\n",
            " ['France' 35.0 58000.0]\n",
            " ['Spain' nan 52000.0]\n",
            " ['France' 48.0 79000.0]\n",
            " ['Germany' 50.0 83000.0]\n",
            " ['France' 37.0 67000.0]\n",
            " ['Spain' 45.0 55000.0]]\n",
            "\n",
            "\n",
            "Output: \n",
            " ['No' 'Yes' 'No' 'No' nan 'Yes' 'Yes' 'No' 'Yes' 'No' 'Yes' 'No']\n"
          ]
        }
      ]
    },
    {
      "cell_type": "code",
      "source": [
        "# Step 4: Find the missing values and handle it in either way\n",
        "# 4a. Removing the row with all null values\n",
        "datasets.dropna(axis=0,how='all',inplace=True)\n",
        "print(\"\\nNew Data :\",datasets)\n",
        "#4b. Removing the row with any one null values\n",
        "#datasets.dropna(axis=0,how='any',inplace=True)"
      ],
      "metadata": {
        "colab": {
          "base_uri": "https://localhost:8080/"
        },
        "id": "zP-mrkcE1mz3",
        "outputId": "5bdd3673-078d-450f-a118-f5b70c158199"
      },
      "execution_count": null,
      "outputs": [
        {
          "output_type": "stream",
          "name": "stdout",
          "text": [
            "\n",
            "New Data :     Country   Age   Salary Purchased\n",
            "0    France  44.0  72000.0        No\n",
            "1     Spain  27.0  48000.0       Yes\n",
            "2   Germany  30.0  54000.0        No\n",
            "3     Spain  38.0  61000.0        No\n",
            "5   Germany  40.0      NaN       Yes\n",
            "6    France  35.0  58000.0       Yes\n",
            "7     Spain   NaN  52000.0        No\n",
            "8    France  48.0  79000.0       Yes\n",
            "9   Germany  50.0  83000.0        No\n",
            "10   France  37.0  67000.0       Yes\n",
            "11    Spain  45.0  55000.0        No\n"
          ]
        }
      ]
    },
    {
      "cell_type": "code",
      "source": [
        "# 4b. Imputation (Replacing null values with mean value of that attribute)\n",
        "# All rows, all columns except last\n",
        "new_X = datasets.iloc[:, :-1].values\n",
        "# Only last column\n",
        "new_Y = datasets.iloc[:, -1].values\n",
        "updated_df['Age'].fillna(updated_df['Age'].mean())\n",
        "# Using Imputer function to replace NaN values with mean of that parameter value\n",
        "imputer = SimpleImputer(missing_values = np.nan,strategy = \"mean\")\n",
        "# Fitting the data, function learns the stats\n",
        "imputer = imputer.fit(new_X[:, 1:3])\n",
        "# fit_transform() will execute those stats on the input ie. X[:, 1:3]\n",
        "new_X[:, 1:3] = imputer.transform(new_X[:, 1:3])\n",
        "# filling the missing value with mean\n",
        "print(\"\\n\\nNew Input with Mean Value for NaN : \\n\\n\", new_X)"
      ],
      "metadata": {
        "colab": {
          "base_uri": "https://localhost:8080/"
        },
        "id": "o_dmVhII1tge",
        "outputId": "d7634a67-6523-4fac-f0ab-d9c8f28a3513"
      },
      "execution_count": null,
      "outputs": [
        {
          "output_type": "stream",
          "name": "stdout",
          "text": [
            "\n",
            "\n",
            "New Input with Mean Value for NaN : \n",
            "\n",
            " [['France' 44.0 72000.0]\n",
            " ['Spain' 27.0 48000.0]\n",
            " ['Germany' 30.0 54000.0]\n",
            " ['Spain' 38.0 61000.0]\n",
            " ['Germany' 40.0 62900.0]\n",
            " ['France' 35.0 58000.0]\n",
            " ['Spain' 39.4 52000.0]\n",
            " ['France' 48.0 79000.0]\n",
            " ['Germany' 50.0 83000.0]\n",
            " ['France' 37.0 67000.0]\n",
            " ['Spain' 45.0 55000.0]]\n"
          ]
        }
      ]
    },
    {
      "cell_type": "markdown",
      "source": [
        "#Correlation"
      ],
      "metadata": {
        "id": "gbb18bLI2DZf"
      }
    },
    {
      "cell_type": "markdown",
      "source": [
        "**How does correlation help in feature selection?**\n",
        "\n",
        "*   Features with high correlation are more linearly dependent and hence have almost the same effect on the\n",
        "dependent variable. So, when two features have high correlation, we can drop one of the two features.\n",
        "\n",
        "\n"
      ],
      "metadata": {
        "id": "urIZ1jjT2Ida"
      }
    },
    {
      "cell_type": "code",
      "source": [
        "# step1  Import the necessary libraries\n",
        "import numpy as np\n",
        "import pandas as pd\n",
        "import seaborn as sns\n"
      ],
      "metadata": {
        "id": "Kh_aydaa2AXq"
      },
      "execution_count": null,
      "outputs": []
    },
    {
      "cell_type": "code",
      "source": [
        "# step2 Loading the dataset\n",
        "data = pd.read_csv('Data_for_Correlation.csv')\n",
        "data.head()\n"
      ],
      "metadata": {
        "colab": {
          "base_uri": "https://localhost:8080/",
          "height": 206
        },
        "id": "wTb6BkWj2blg",
        "outputId": "f43e9a77-cd87-43b9-8368-09beeae8f85c"
      },
      "execution_count": null,
      "outputs": [
        {
          "output_type": "execute_result",
          "data": {
            "text/plain": [
              "   X1  X2  X3  X4  Y\n",
              "0   1   1   4  -2  1\n",
              "1   2   4   5  -4  1\n",
              "2   3   9   6   3  0\n",
              "3   4  16   7   4  0\n",
              "4   5  25   8  25  1"
            ],
            "text/html": [
              "\n",
              "  <div id=\"df-a1960703-c521-4116-9ffe-26a30e863679\">\n",
              "    <div class=\"colab-df-container\">\n",
              "      <div>\n",
              "<style scoped>\n",
              "    .dataframe tbody tr th:only-of-type {\n",
              "        vertical-align: middle;\n",
              "    }\n",
              "\n",
              "    .dataframe tbody tr th {\n",
              "        vertical-align: top;\n",
              "    }\n",
              "\n",
              "    .dataframe thead th {\n",
              "        text-align: right;\n",
              "    }\n",
              "</style>\n",
              "<table border=\"1\" class=\"dataframe\">\n",
              "  <thead>\n",
              "    <tr style=\"text-align: right;\">\n",
              "      <th></th>\n",
              "      <th>X1</th>\n",
              "      <th>X2</th>\n",
              "      <th>X3</th>\n",
              "      <th>X4</th>\n",
              "      <th>Y</th>\n",
              "    </tr>\n",
              "  </thead>\n",
              "  <tbody>\n",
              "    <tr>\n",
              "      <th>0</th>\n",
              "      <td>1</td>\n",
              "      <td>1</td>\n",
              "      <td>4</td>\n",
              "      <td>-2</td>\n",
              "      <td>1</td>\n",
              "    </tr>\n",
              "    <tr>\n",
              "      <th>1</th>\n",
              "      <td>2</td>\n",
              "      <td>4</td>\n",
              "      <td>5</td>\n",
              "      <td>-4</td>\n",
              "      <td>1</td>\n",
              "    </tr>\n",
              "    <tr>\n",
              "      <th>2</th>\n",
              "      <td>3</td>\n",
              "      <td>9</td>\n",
              "      <td>6</td>\n",
              "      <td>3</td>\n",
              "      <td>0</td>\n",
              "    </tr>\n",
              "    <tr>\n",
              "      <th>3</th>\n",
              "      <td>4</td>\n",
              "      <td>16</td>\n",
              "      <td>7</td>\n",
              "      <td>4</td>\n",
              "      <td>0</td>\n",
              "    </tr>\n",
              "    <tr>\n",
              "      <th>4</th>\n",
              "      <td>5</td>\n",
              "      <td>25</td>\n",
              "      <td>8</td>\n",
              "      <td>25</td>\n",
              "      <td>1</td>\n",
              "    </tr>\n",
              "  </tbody>\n",
              "</table>\n",
              "</div>\n",
              "      <button class=\"colab-df-convert\" onclick=\"convertToInteractive('df-a1960703-c521-4116-9ffe-26a30e863679')\"\n",
              "              title=\"Convert this dataframe to an interactive table.\"\n",
              "              style=\"display:none;\">\n",
              "        \n",
              "  <svg xmlns=\"http://www.w3.org/2000/svg\" height=\"24px\"viewBox=\"0 0 24 24\"\n",
              "       width=\"24px\">\n",
              "    <path d=\"M0 0h24v24H0V0z\" fill=\"none\"/>\n",
              "    <path d=\"M18.56 5.44l.94 2.06.94-2.06 2.06-.94-2.06-.94-.94-2.06-.94 2.06-2.06.94zm-11 1L8.5 8.5l.94-2.06 2.06-.94-2.06-.94L8.5 2.5l-.94 2.06-2.06.94zm10 10l.94 2.06.94-2.06 2.06-.94-2.06-.94-.94-2.06-.94 2.06-2.06.94z\"/><path d=\"M17.41 7.96l-1.37-1.37c-.4-.4-.92-.59-1.43-.59-.52 0-1.04.2-1.43.59L10.3 9.45l-7.72 7.72c-.78.78-.78 2.05 0 2.83L4 21.41c.39.39.9.59 1.41.59.51 0 1.02-.2 1.41-.59l7.78-7.78 2.81-2.81c.8-.78.8-2.07 0-2.86zM5.41 20L4 18.59l7.72-7.72 1.47 1.35L5.41 20z\"/>\n",
              "  </svg>\n",
              "      </button>\n",
              "      \n",
              "  <style>\n",
              "    .colab-df-container {\n",
              "      display:flex;\n",
              "      flex-wrap:wrap;\n",
              "      gap: 12px;\n",
              "    }\n",
              "\n",
              "    .colab-df-convert {\n",
              "      background-color: #E8F0FE;\n",
              "      border: none;\n",
              "      border-radius: 50%;\n",
              "      cursor: pointer;\n",
              "      display: none;\n",
              "      fill: #1967D2;\n",
              "      height: 32px;\n",
              "      padding: 0 0 0 0;\n",
              "      width: 32px;\n",
              "    }\n",
              "\n",
              "    .colab-df-convert:hover {\n",
              "      background-color: #E2EBFA;\n",
              "      box-shadow: 0px 1px 2px rgba(60, 64, 67, 0.3), 0px 1px 3px 1px rgba(60, 64, 67, 0.15);\n",
              "      fill: #174EA6;\n",
              "    }\n",
              "\n",
              "    [theme=dark] .colab-df-convert {\n",
              "      background-color: #3B4455;\n",
              "      fill: #D2E3FC;\n",
              "    }\n",
              "\n",
              "    [theme=dark] .colab-df-convert:hover {\n",
              "      background-color: #434B5C;\n",
              "      box-shadow: 0px 1px 3px 1px rgba(0, 0, 0, 0.15);\n",
              "      filter: drop-shadow(0px 1px 2px rgba(0, 0, 0, 0.3));\n",
              "      fill: #FFFFFF;\n",
              "    }\n",
              "  </style>\n",
              "\n",
              "      <script>\n",
              "        const buttonEl =\n",
              "          document.querySelector('#df-a1960703-c521-4116-9ffe-26a30e863679 button.colab-df-convert');\n",
              "        buttonEl.style.display =\n",
              "          google.colab.kernel.accessAllowed ? 'block' : 'none';\n",
              "\n",
              "        async function convertToInteractive(key) {\n",
              "          const element = document.querySelector('#df-a1960703-c521-4116-9ffe-26a30e863679');\n",
              "          const dataTable =\n",
              "            await google.colab.kernel.invokeFunction('convertToInteractive',\n",
              "                                                     [key], {});\n",
              "          if (!dataTable) return;\n",
              "\n",
              "          const docLinkHtml = 'Like what you see? Visit the ' +\n",
              "            '<a target=\"_blank\" href=https://colab.research.google.com/notebooks/data_table.ipynb>data table notebook</a>'\n",
              "            + ' to learn more about interactive tables.';\n",
              "          element.innerHTML = '';\n",
              "          dataTable['output_type'] = 'display_data';\n",
              "          await google.colab.output.renderOutput(dataTable, element);\n",
              "          const docLink = document.createElement('div');\n",
              "          docLink.innerHTML = docLinkHtml;\n",
              "          element.appendChild(docLink);\n",
              "        }\n",
              "      </script>\n",
              "    </div>\n",
              "  </div>\n",
              "  "
            ]
          },
          "metadata": {},
          "execution_count": 43
        }
      ]
    },
    {
      "cell_type": "code",
      "source": [
        "# Removing the Class Label entry (Y)\n",
        "data = data.iloc[:,:-1]\n",
        "data.head()"
      ],
      "metadata": {
        "colab": {
          "base_uri": "https://localhost:8080/",
          "height": 206
        },
        "id": "XcpzDpFB2pz4",
        "outputId": "5194beaf-11c1-4349-976f-11f9dbe856a7"
      },
      "execution_count": null,
      "outputs": [
        {
          "output_type": "execute_result",
          "data": {
            "text/plain": [
              "   X1  X2  X3  X4\n",
              "0   1   1   4  -2\n",
              "1   2   4   5  -4\n",
              "2   3   9   6   3\n",
              "3   4  16   7   4\n",
              "4   5  25   8  25"
            ],
            "text/html": [
              "\n",
              "  <div id=\"df-3cfa2818-ae83-4338-a4b0-d2e9af8208d0\">\n",
              "    <div class=\"colab-df-container\">\n",
              "      <div>\n",
              "<style scoped>\n",
              "    .dataframe tbody tr th:only-of-type {\n",
              "        vertical-align: middle;\n",
              "    }\n",
              "\n",
              "    .dataframe tbody tr th {\n",
              "        vertical-align: top;\n",
              "    }\n",
              "\n",
              "    .dataframe thead th {\n",
              "        text-align: right;\n",
              "    }\n",
              "</style>\n",
              "<table border=\"1\" class=\"dataframe\">\n",
              "  <thead>\n",
              "    <tr style=\"text-align: right;\">\n",
              "      <th></th>\n",
              "      <th>X1</th>\n",
              "      <th>X2</th>\n",
              "      <th>X3</th>\n",
              "      <th>X4</th>\n",
              "    </tr>\n",
              "  </thead>\n",
              "  <tbody>\n",
              "    <tr>\n",
              "      <th>0</th>\n",
              "      <td>1</td>\n",
              "      <td>1</td>\n",
              "      <td>4</td>\n",
              "      <td>-2</td>\n",
              "    </tr>\n",
              "    <tr>\n",
              "      <th>1</th>\n",
              "      <td>2</td>\n",
              "      <td>4</td>\n",
              "      <td>5</td>\n",
              "      <td>-4</td>\n",
              "    </tr>\n",
              "    <tr>\n",
              "      <th>2</th>\n",
              "      <td>3</td>\n",
              "      <td>9</td>\n",
              "      <td>6</td>\n",
              "      <td>3</td>\n",
              "    </tr>\n",
              "    <tr>\n",
              "      <th>3</th>\n",
              "      <td>4</td>\n",
              "      <td>16</td>\n",
              "      <td>7</td>\n",
              "      <td>4</td>\n",
              "    </tr>\n",
              "    <tr>\n",
              "      <th>4</th>\n",
              "      <td>5</td>\n",
              "      <td>25</td>\n",
              "      <td>8</td>\n",
              "      <td>25</td>\n",
              "    </tr>\n",
              "  </tbody>\n",
              "</table>\n",
              "</div>\n",
              "      <button class=\"colab-df-convert\" onclick=\"convertToInteractive('df-3cfa2818-ae83-4338-a4b0-d2e9af8208d0')\"\n",
              "              title=\"Convert this dataframe to an interactive table.\"\n",
              "              style=\"display:none;\">\n",
              "        \n",
              "  <svg xmlns=\"http://www.w3.org/2000/svg\" height=\"24px\"viewBox=\"0 0 24 24\"\n",
              "       width=\"24px\">\n",
              "    <path d=\"M0 0h24v24H0V0z\" fill=\"none\"/>\n",
              "    <path d=\"M18.56 5.44l.94 2.06.94-2.06 2.06-.94-2.06-.94-.94-2.06-.94 2.06-2.06.94zm-11 1L8.5 8.5l.94-2.06 2.06-.94-2.06-.94L8.5 2.5l-.94 2.06-2.06.94zm10 10l.94 2.06.94-2.06 2.06-.94-2.06-.94-.94-2.06-.94 2.06-2.06.94z\"/><path d=\"M17.41 7.96l-1.37-1.37c-.4-.4-.92-.59-1.43-.59-.52 0-1.04.2-1.43.59L10.3 9.45l-7.72 7.72c-.78.78-.78 2.05 0 2.83L4 21.41c.39.39.9.59 1.41.59.51 0 1.02-.2 1.41-.59l7.78-7.78 2.81-2.81c.8-.78.8-2.07 0-2.86zM5.41 20L4 18.59l7.72-7.72 1.47 1.35L5.41 20z\"/>\n",
              "  </svg>\n",
              "      </button>\n",
              "      \n",
              "  <style>\n",
              "    .colab-df-container {\n",
              "      display:flex;\n",
              "      flex-wrap:wrap;\n",
              "      gap: 12px;\n",
              "    }\n",
              "\n",
              "    .colab-df-convert {\n",
              "      background-color: #E8F0FE;\n",
              "      border: none;\n",
              "      border-radius: 50%;\n",
              "      cursor: pointer;\n",
              "      display: none;\n",
              "      fill: #1967D2;\n",
              "      height: 32px;\n",
              "      padding: 0 0 0 0;\n",
              "      width: 32px;\n",
              "    }\n",
              "\n",
              "    .colab-df-convert:hover {\n",
              "      background-color: #E2EBFA;\n",
              "      box-shadow: 0px 1px 2px rgba(60, 64, 67, 0.3), 0px 1px 3px 1px rgba(60, 64, 67, 0.15);\n",
              "      fill: #174EA6;\n",
              "    }\n",
              "\n",
              "    [theme=dark] .colab-df-convert {\n",
              "      background-color: #3B4455;\n",
              "      fill: #D2E3FC;\n",
              "    }\n",
              "\n",
              "    [theme=dark] .colab-df-convert:hover {\n",
              "      background-color: #434B5C;\n",
              "      box-shadow: 0px 1px 3px 1px rgba(0, 0, 0, 0.15);\n",
              "      filter: drop-shadow(0px 1px 2px rgba(0, 0, 0, 0.3));\n",
              "      fill: #FFFFFF;\n",
              "    }\n",
              "  </style>\n",
              "\n",
              "      <script>\n",
              "        const buttonEl =\n",
              "          document.querySelector('#df-3cfa2818-ae83-4338-a4b0-d2e9af8208d0 button.colab-df-convert');\n",
              "        buttonEl.style.display =\n",
              "          google.colab.kernel.accessAllowed ? 'block' : 'none';\n",
              "\n",
              "        async function convertToInteractive(key) {\n",
              "          const element = document.querySelector('#df-3cfa2818-ae83-4338-a4b0-d2e9af8208d0');\n",
              "          const dataTable =\n",
              "            await google.colab.kernel.invokeFunction('convertToInteractive',\n",
              "                                                     [key], {});\n",
              "          if (!dataTable) return;\n",
              "\n",
              "          const docLinkHtml = 'Like what you see? Visit the ' +\n",
              "            '<a target=\"_blank\" href=https://colab.research.google.com/notebooks/data_table.ipynb>data table notebook</a>'\n",
              "            + ' to learn more about interactive tables.';\n",
              "          element.innerHTML = '';\n",
              "          dataTable['output_type'] = 'display_data';\n",
              "          await google.colab.output.renderOutput(dataTable, element);\n",
              "          const docLink = document.createElement('div');\n",
              "          docLink.innerHTML = docLinkHtml;\n",
              "          element.appendChild(docLink);\n",
              "        }\n",
              "      </script>\n",
              "    </div>\n",
              "  </div>\n",
              "  "
            ]
          },
          "metadata": {},
          "execution_count": 44
        }
      ]
    },
    {
      "cell_type": "code",
      "source": [
        "data.info()\n"
      ],
      "metadata": {
        "colab": {
          "base_uri": "https://localhost:8080/"
        },
        "id": "gTodT5U_2t3N",
        "outputId": "e45736ae-fee9-466a-a191-830d452b3bbe"
      },
      "execution_count": null,
      "outputs": [
        {
          "output_type": "stream",
          "name": "stdout",
          "text": [
            "<class 'pandas.core.frame.DataFrame'>\n",
            "RangeIndex: 14 entries, 0 to 13\n",
            "Data columns (total 4 columns):\n",
            " #   Column  Non-Null Count  Dtype\n",
            "---  ------  --------------  -----\n",
            " 0   X1      14 non-null     int64\n",
            " 1   X2      14 non-null     int64\n",
            " 2   X3      14 non-null     int64\n",
            " 3   X4      14 non-null     int64\n",
            "dtypes: int64(4)\n",
            "memory usage: 576.0 bytes\n"
          ]
        }
      ]
    },
    {
      "cell_type": "code",
      "source": [
        "# Selecting features based on correlation Generating the correlation matrix\n",
        "corr = data.corr()\n",
        "corr.head()"
      ],
      "metadata": {
        "colab": {
          "base_uri": "https://localhost:8080/",
          "height": 175
        },
        "id": "361OlheA20Qf",
        "outputId": "3f115e14-ee4c-4419-8e6c-95ea4ec48de1"
      },
      "execution_count": null,
      "outputs": [
        {
          "output_type": "execute_result",
          "data": {
            "text/plain": [
              "          X1        X2        X3        X4\n",
              "X1  1.000000  0.972714  1.000000  0.263266\n",
              "X2  0.972714  1.000000  0.972714  0.163575\n",
              "X3  1.000000  0.972714  1.000000  0.263266\n",
              "X4  0.263266  0.163575  0.263266  1.000000"
            ],
            "text/html": [
              "\n",
              "  <div id=\"df-bc2b094c-fec4-4b1b-b070-d78e3f6a1dc8\">\n",
              "    <div class=\"colab-df-container\">\n",
              "      <div>\n",
              "<style scoped>\n",
              "    .dataframe tbody tr th:only-of-type {\n",
              "        vertical-align: middle;\n",
              "    }\n",
              "\n",
              "    .dataframe tbody tr th {\n",
              "        vertical-align: top;\n",
              "    }\n",
              "\n",
              "    .dataframe thead th {\n",
              "        text-align: right;\n",
              "    }\n",
              "</style>\n",
              "<table border=\"1\" class=\"dataframe\">\n",
              "  <thead>\n",
              "    <tr style=\"text-align: right;\">\n",
              "      <th></th>\n",
              "      <th>X1</th>\n",
              "      <th>X2</th>\n",
              "      <th>X3</th>\n",
              "      <th>X4</th>\n",
              "    </tr>\n",
              "  </thead>\n",
              "  <tbody>\n",
              "    <tr>\n",
              "      <th>X1</th>\n",
              "      <td>1.000000</td>\n",
              "      <td>0.972714</td>\n",
              "      <td>1.000000</td>\n",
              "      <td>0.263266</td>\n",
              "    </tr>\n",
              "    <tr>\n",
              "      <th>X2</th>\n",
              "      <td>0.972714</td>\n",
              "      <td>1.000000</td>\n",
              "      <td>0.972714</td>\n",
              "      <td>0.163575</td>\n",
              "    </tr>\n",
              "    <tr>\n",
              "      <th>X3</th>\n",
              "      <td>1.000000</td>\n",
              "      <td>0.972714</td>\n",
              "      <td>1.000000</td>\n",
              "      <td>0.263266</td>\n",
              "    </tr>\n",
              "    <tr>\n",
              "      <th>X4</th>\n",
              "      <td>0.263266</td>\n",
              "      <td>0.163575</td>\n",
              "      <td>0.263266</td>\n",
              "      <td>1.000000</td>\n",
              "    </tr>\n",
              "  </tbody>\n",
              "</table>\n",
              "</div>\n",
              "      <button class=\"colab-df-convert\" onclick=\"convertToInteractive('df-bc2b094c-fec4-4b1b-b070-d78e3f6a1dc8')\"\n",
              "              title=\"Convert this dataframe to an interactive table.\"\n",
              "              style=\"display:none;\">\n",
              "        \n",
              "  <svg xmlns=\"http://www.w3.org/2000/svg\" height=\"24px\"viewBox=\"0 0 24 24\"\n",
              "       width=\"24px\">\n",
              "    <path d=\"M0 0h24v24H0V0z\" fill=\"none\"/>\n",
              "    <path d=\"M18.56 5.44l.94 2.06.94-2.06 2.06-.94-2.06-.94-.94-2.06-.94 2.06-2.06.94zm-11 1L8.5 8.5l.94-2.06 2.06-.94-2.06-.94L8.5 2.5l-.94 2.06-2.06.94zm10 10l.94 2.06.94-2.06 2.06-.94-2.06-.94-.94-2.06-.94 2.06-2.06.94z\"/><path d=\"M17.41 7.96l-1.37-1.37c-.4-.4-.92-.59-1.43-.59-.52 0-1.04.2-1.43.59L10.3 9.45l-7.72 7.72c-.78.78-.78 2.05 0 2.83L4 21.41c.39.39.9.59 1.41.59.51 0 1.02-.2 1.41-.59l7.78-7.78 2.81-2.81c.8-.78.8-2.07 0-2.86zM5.41 20L4 18.59l7.72-7.72 1.47 1.35L5.41 20z\"/>\n",
              "  </svg>\n",
              "      </button>\n",
              "      \n",
              "  <style>\n",
              "    .colab-df-container {\n",
              "      display:flex;\n",
              "      flex-wrap:wrap;\n",
              "      gap: 12px;\n",
              "    }\n",
              "\n",
              "    .colab-df-convert {\n",
              "      background-color: #E8F0FE;\n",
              "      border: none;\n",
              "      border-radius: 50%;\n",
              "      cursor: pointer;\n",
              "      display: none;\n",
              "      fill: #1967D2;\n",
              "      height: 32px;\n",
              "      padding: 0 0 0 0;\n",
              "      width: 32px;\n",
              "    }\n",
              "\n",
              "    .colab-df-convert:hover {\n",
              "      background-color: #E2EBFA;\n",
              "      box-shadow: 0px 1px 2px rgba(60, 64, 67, 0.3), 0px 1px 3px 1px rgba(60, 64, 67, 0.15);\n",
              "      fill: #174EA6;\n",
              "    }\n",
              "\n",
              "    [theme=dark] .colab-df-convert {\n",
              "      background-color: #3B4455;\n",
              "      fill: #D2E3FC;\n",
              "    }\n",
              "\n",
              "    [theme=dark] .colab-df-convert:hover {\n",
              "      background-color: #434B5C;\n",
              "      box-shadow: 0px 1px 3px 1px rgba(0, 0, 0, 0.15);\n",
              "      filter: drop-shadow(0px 1px 2px rgba(0, 0, 0, 0.3));\n",
              "      fill: #FFFFFF;\n",
              "    }\n",
              "  </style>\n",
              "\n",
              "      <script>\n",
              "        const buttonEl =\n",
              "          document.querySelector('#df-bc2b094c-fec4-4b1b-b070-d78e3f6a1dc8 button.colab-df-convert');\n",
              "        buttonEl.style.display =\n",
              "          google.colab.kernel.accessAllowed ? 'block' : 'none';\n",
              "\n",
              "        async function convertToInteractive(key) {\n",
              "          const element = document.querySelector('#df-bc2b094c-fec4-4b1b-b070-d78e3f6a1dc8');\n",
              "          const dataTable =\n",
              "            await google.colab.kernel.invokeFunction('convertToInteractive',\n",
              "                                                     [key], {});\n",
              "          if (!dataTable) return;\n",
              "\n",
              "          const docLinkHtml = 'Like what you see? Visit the ' +\n",
              "            '<a target=\"_blank\" href=https://colab.research.google.com/notebooks/data_table.ipynb>data table notebook</a>'\n",
              "            + ' to learn more about interactive tables.';\n",
              "          element.innerHTML = '';\n",
              "          dataTable['output_type'] = 'display_data';\n",
              "          await google.colab.output.renderOutput(dataTable, element);\n",
              "          const docLink = document.createElement('div');\n",
              "          docLink.innerHTML = docLinkHtml;\n",
              "          element.appendChild(docLink);\n",
              "        }\n",
              "      </script>\n",
              "    </div>\n",
              "  </div>\n",
              "  "
            ]
          },
          "metadata": {},
          "execution_count": 46
        }
      ]
    },
    {
      "cell_type": "code",
      "source": [
        "# Generating the correlation heatmap\n",
        "sns.heatmap(corr)\n"
      ],
      "metadata": {
        "colab": {
          "base_uri": "https://localhost:8080/",
          "height": 286
        },
        "id": "Q-ZosGeH5QZK",
        "outputId": "543f987f-d29e-4ff4-8578-6f6a0854de1e"
      },
      "execution_count": null,
      "outputs": [
        {
          "output_type": "execute_result",
          "data": {
            "text/plain": [
              "<matplotlib.axes._subplots.AxesSubplot at 0x7f66dad04a30>"
            ]
          },
          "metadata": {},
          "execution_count": 47
        },
        {
          "output_type": "display_data",
          "data": {
            "text/plain": [
              "<Figure size 432x288 with 2 Axes>"
            ],
            "image/png": "[encoded data removed]"
          },
          "metadata": {
            "needs_background": "light"
          }
        }
      ]
    },
    {
      "cell_type": "code",
      "source": [
        "# Next, we compare the correlation between features and remove one of two features that have a correlation\n",
        "# higher than 0.9\n",
        "columns = np.full((corr.shape[0],), True, dtype=bool)\n",
        "for i in range(corr.shape[0]):\n",
        "  for j in range(i+1, corr.shape[0]):\n",
        "    if corr.iloc[i,j] >= 0.9:\n",
        "      if columns[j]:\n",
        "        columns[j] = False\n"
      ],
      "metadata": {
        "id": "Y6po8JBH5ahR"
      },
      "execution_count": null,
      "outputs": []
    },
    {
      "cell_type": "code",
      "source": [
        "selected_columns = data.columns[columns]\n",
        "selected_columns.shape\n"
      ],
      "metadata": {
        "colab": {
          "base_uri": "https://localhost:8080/"
        },
        "id": "CD86ERJv51_X",
        "outputId": "d1062b75-6151-4de4-99e7-fb41772f21ab"
      },
      "execution_count": null,
      "outputs": [
        {
          "output_type": "execute_result",
          "data": {
            "text/plain": [
              "(2,)"
            ]
          },
          "metadata": {},
          "execution_count": 49
        }
      ]
    },
    {
      "cell_type": "code",
      "source": [
        "data = data[selected_columns]\n",
        "print(data)"
      ],
      "metadata": {
        "colab": {
          "base_uri": "https://localhost:8080/"
        },
        "id": "Xmq9Hxvj55VZ",
        "outputId": "3f015202-5e26-4e18-80d8-7bf6d7325349"
      },
      "execution_count": null,
      "outputs": [
        {
          "output_type": "stream",
          "name": "stdout",
          "text": [
            "    X1   X4\n",
            "0    1   -2\n",
            "1    2   -4\n",
            "2    3    3\n",
            "3    4    4\n",
            "4    5   25\n",
            "5    6   76\n",
            "6    7   34\n",
            "7    8  346\n",
            "8    9   67\n",
            "9   10    3\n",
            "10  11  355\n",
            "11  12   88\n",
            "12  13    2\n",
            "13  14    1\n"
          ]
        }
      ]
    },
    {
      "cell_type": "markdown",
      "source": [
        "5 Exercise:\\\n",
        "1) Perform all data preprocessing tasks and feature selection on \"Exercise-CarData.csv\" Hint: Check\n",
        "\"na_values\" attribute of pd.read()"
      ],
      "metadata": {
        "id": "E6n4D20z6RkB"
      }
    },
    {
      "cell_type": "code",
      "source": [
        "# Step 1: Import Libraries\n",
        "import numpy as np\n",
        "import pandas as pd\n",
        "from sklearn.preprocessing import MinMaxScaler, StandardScaler\n"
      ],
      "metadata": {
        "id": "hYluXaTq6abG"
      },
      "execution_count": null,
      "outputs": []
    },
    {
      "cell_type": "code",
      "source": [
        "# Step 2: Load Data\n",
        "na_val = ['??','????','','NaN']\n",
        "datasets = pd.read_csv('Exercise-CarData.csv',na_values=na_val)\n",
        "print(\"\\nData :\\n\",datasets)\n",
        "#print(\"\\nData statistics\\n\",datasets.describe())\n",
        "# Step 3: Seprate Input and Output attributes\n",
        "# All rows, all columns except last\n",
        "X = datasets.iloc[:, datasets.columns != 'Automatic'].values\n",
        "# Only last column\n",
        "Y = datasets.iloc[:, 7].values\n",
        "print(\"\\n\\nInput : \\n\", X)\n",
        "print(\"\\n\\nOutput: \\n\", Y)\n",
        "# X_new = datasets.iloc[:,1:3].values\n",
        "# print(\"\\n\\nX for transformation : \\n\", X_new)"
      ],
      "metadata": {
        "colab": {
          "base_uri": "https://localhost:8080/"
        },
        "id": "m6Wbquj36nAd",
        "outputId": "98e2fc5f-f772-4c73-d58c-6fbcfd7e737c"
      },
      "execution_count": null,
      "outputs": [
        {
          "output_type": "stream",
          "name": "stdout",
          "text": [
            "\n",
            "Data :\n",
            "       Unnamed: 0  Price   Age       KM FuelType     HP  MetColor  Automatic  \\\n",
            "0              0  13500  23.0  46986.0   Diesel   90.0       1.0          0   \n",
            "1              1  13750  23.0  72937.0   Diesel   90.0       1.0          0   \n",
            "2              2  13950  24.0  41711.0   Diesel   90.0       NaN          0   \n",
            "3              3  14950  26.0  48000.0   Diesel   90.0       0.0          0   \n",
            "4              4  13750  30.0  38500.0   Diesel   90.0       0.0          0   \n",
            "...          ...    ...   ...      ...      ...    ...       ...        ...   \n",
            "1431        1431   7500   NaN  20544.0   Petrol   86.0       1.0          0   \n",
            "1432        1432  10845  72.0      NaN   Petrol   86.0       0.0          0   \n",
            "1433        1433   8500   NaN  17016.0   Petrol   86.0       0.0          0   \n",
            "1434        1434   7250  70.0      NaN      NaN   86.0       1.0          0   \n",
            "1435        1435   6950  76.0      1.0   Petrol  110.0       0.0          0   \n",
            "\n",
            "        CC  Doors  Weight  \n",
            "0     2000  three    1165  \n",
            "1     2000      3    1165  \n",
            "2     2000      3    1165  \n",
            "3     2000      3    1165  \n",
            "4     2000      3    1170  \n",
            "...    ...    ...     ...  \n",
            "1431  1300      3    1025  \n",
            "1432  1300      3    1015  \n",
            "1433  1300      3    1015  \n",
            "1434  1300      3    1015  \n",
            "1435  1600      5    1114  \n",
            "\n",
            "[1436 rows x 11 columns]\n",
            "\n",
            "\n",
            "Input : \n",
            " [[0 13500 23.0 ... 2000 'three' 1165]\n",
            " [1 13750 23.0 ... 2000 '3' 1165]\n",
            " [2 13950 24.0 ... 2000 '3' 1165]\n",
            " ...\n",
            " [1433 8500 nan ... 1300 '3' 1015]\n",
            " [1434 7250 70.0 ... 1300 '3' 1015]\n",
            " [1435 6950 76.0 ... 1600 '5' 1114]]\n",
            "\n",
            "\n",
            "Output: \n",
            " [0 0 0 ... 0 0 0]\n"
          ]
        }
      ]
    },
    {
      "cell_type": "code",
      "source": [
        "#Use One Hot Encoder from scikit learn\n",
        "onehotencoder = OneHotEncoder()\n",
        "#reshape the 1-D country array to 2-D as fit_transform expects 2-D and finally fit the␣object\n",
        "x = onehotencoder.fit_transform(datasets.FuelType.values.reshape(-1,1)).toarray()"
      ],
      "metadata": {
        "id": "jCCF5ZMb_vc0"
      },
      "execution_count": null,
      "outputs": []
    },
    {
      "cell_type": "code",
      "source": [
        "x"
      ],
      "metadata": {
        "colab": {
          "base_uri": "https://localhost:8080/"
        },
        "id": "wzkx-nKP_962",
        "outputId": "349e2882-6c4e-4322-cfa7-b901cfb2ef47"
      },
      "execution_count": null,
      "outputs": [
        {
          "output_type": "execute_result",
          "data": {
            "text/plain": [
              "array([[0., 1., 0., 0.],\n",
              "       [0., 1., 0., 0.],\n",
              "       [0., 1., 0., 0.],\n",
              "       ...,\n",
              "       [0., 0., 1., 0.],\n",
              "       [0., 0., 0., 1.],\n",
              "       [0., 0., 1., 0.]])"
            ]
          },
          "metadata": {},
          "execution_count": 6
        }
      ]
    },
    {
      "cell_type": "code",
      "source": [
        "dfOneHot = pd.DataFrame(x, columns = [\"FuelType_\"+str(int(i)) for i in range(datasets.shape[1]-1)])\n",
        "df = pd.concat([datasets, dfOneHot], axis=1) #column\n",
        "#droping the country column\n",
        "df= df.drop(['FuelType'], axis=1)\n",
        "#printing to verify\n",
        "print(df.head())"
      ],
      "metadata": {
        "colab": {
          "base_uri": "https://localhost:8080/",
          "height": 380
        },
        "id": "MOXxVMf3ABVW",
        "outputId": "0d179b21-2fda-4535-cf66-c78d22202de1"
      },
      "execution_count": null,
      "outputs": [
        {
          "output_type": "error",
          "ename": "ValueError",
          "evalue": "ignored",
          "traceback": [
            "\u001b[0;31m---------------------------------------------------------------------------\u001b[0m",
            "\u001b[0;31mValueError\u001b[0m                                Traceback (most recent call last)",
            "\u001b[0;32m<ipython-input-7-964a5458c1c5>\u001b[0m in \u001b[0;36m<module>\u001b[0;34m\u001b[0m\n\u001b[0;32m----> 1\u001b[0;31m \u001b[0mdfOneHot\u001b[0m \u001b[0;34m=\u001b[0m \u001b[0mpd\u001b[0m\u001b[0;34m.\u001b[0m\u001b[0mDataFrame\u001b[0m\u001b[0;34m(\u001b[0m\u001b[0mx\u001b[0m\u001b[0;34m,\u001b[0m \u001b[0mcolumns\u001b[0m \u001b[0;34m=\u001b[0m \u001b[0;34m[\u001b[0m\u001b[0;34m\"FuelType_\"\u001b[0m\u001b[0;34m+\u001b[0m\u001b[0mstr\u001b[0m\u001b[0;34m(\u001b[0m\u001b[0mint\u001b[0m\u001b[0;34m(\u001b[0m\u001b[0mi\u001b[0m\u001b[0;34m)\u001b[0m\u001b[0;34m)\u001b[0m \u001b[0;32mfor\u001b[0m \u001b[0mi\u001b[0m \u001b[0;32min\u001b[0m \u001b[0mrange\u001b[0m\u001b[0;34m(\u001b[0m\u001b[0mdatasets\u001b[0m\u001b[0;34m.\u001b[0m\u001b[0mshape\u001b[0m\u001b[0;34m[\u001b[0m\u001b[0;36m1\u001b[0m\u001b[0;34m]\u001b[0m\u001b[0;34m-\u001b[0m\u001b[0;36m1\u001b[0m\u001b[0;34m)\u001b[0m\u001b[0;34m]\u001b[0m\u001b[0;34m)\u001b[0m\u001b[0;34m\u001b[0m\u001b[0;34m\u001b[0m\u001b[0m\n\u001b[0m\u001b[1;32m      2\u001b[0m \u001b[0mdf\u001b[0m \u001b[0;34m=\u001b[0m \u001b[0mpd\u001b[0m\u001b[0;34m.\u001b[0m\u001b[0mconcat\u001b[0m\u001b[0;34m(\u001b[0m\u001b[0;34m[\u001b[0m\u001b[0mdatasets\u001b[0m\u001b[0;34m,\u001b[0m \u001b[0mdfOneHot\u001b[0m\u001b[0;34m]\u001b[0m\u001b[0;34m,\u001b[0m \u001b[0maxis\u001b[0m\u001b[0;34m=\u001b[0m\u001b[0;36m1\u001b[0m\u001b[0;34m)\u001b[0m \u001b[0;31m#column\u001b[0m\u001b[0;34m\u001b[0m\u001b[0;34m\u001b[0m\u001b[0m\n\u001b[1;32m      3\u001b[0m \u001b[0;31m#droping the country column\u001b[0m\u001b[0;34m\u001b[0m\u001b[0;34m\u001b[0m\u001b[0;34m\u001b[0m\u001b[0m\n\u001b[1;32m      4\u001b[0m \u001b[0mdf\u001b[0m\u001b[0;34m=\u001b[0m \u001b[0mdf\u001b[0m\u001b[0;34m.\u001b[0m\u001b[0mdrop\u001b[0m\u001b[0;34m(\u001b[0m\u001b[0;34m[\u001b[0m\u001b[0;34m'FuelType'\u001b[0m\u001b[0;34m]\u001b[0m\u001b[0;34m,\u001b[0m \u001b[0maxis\u001b[0m\u001b[0;34m=\u001b[0m\u001b[0;36m1\u001b[0m\u001b[0;34m)\u001b[0m\u001b[0;34m\u001b[0m\u001b[0;34m\u001b[0m\u001b[0m\n\u001b[1;32m      5\u001b[0m \u001b[0;31m#printing to verify\u001b[0m\u001b[0;34m\u001b[0m\u001b[0;34m\u001b[0m\u001b[0;34m\u001b[0m\u001b[0m\n",
            "\u001b[0;32m/usr/local/lib/python3.8/dist-packages/pandas/core/frame.py\u001b[0m in \u001b[0;36m__init__\u001b[0;34m(self, data, index, columns, dtype, copy)\u001b[0m\n\u001b[1;32m    670\u001b[0m                 )\n\u001b[1;32m    671\u001b[0m             \u001b[0;32melse\u001b[0m\u001b[0;34m:\u001b[0m\u001b[0;34m\u001b[0m\u001b[0;34m\u001b[0m\u001b[0m\n\u001b[0;32m--> 672\u001b[0;31m                 mgr = ndarray_to_mgr(\n\u001b[0m\u001b[1;32m    673\u001b[0m                     \u001b[0mdata\u001b[0m\u001b[0;34m,\u001b[0m\u001b[0;34m\u001b[0m\u001b[0;34m\u001b[0m\u001b[0m\n\u001b[1;32m    674\u001b[0m                     \u001b[0mindex\u001b[0m\u001b[0;34m,\u001b[0m\u001b[0;34m\u001b[0m\u001b[0;34m\u001b[0m\u001b[0m\n",
            "\u001b[0;32m/usr/local/lib/python3.8/dist-packages/pandas/core/internals/construction.py\u001b[0m in \u001b[0;36mndarray_to_mgr\u001b[0;34m(values, index, columns, dtype, copy, typ)\u001b[0m\n\u001b[1;32m    322\u001b[0m     )\n\u001b[1;32m    323\u001b[0m \u001b[0;34m\u001b[0m\u001b[0m\n\u001b[0;32m--> 324\u001b[0;31m     \u001b[0m_check_values_indices_shape_match\u001b[0m\u001b[0;34m(\u001b[0m\u001b[0mvalues\u001b[0m\u001b[0;34m,\u001b[0m \u001b[0mindex\u001b[0m\u001b[0;34m,\u001b[0m \u001b[0mcolumns\u001b[0m\u001b[0;34m)\u001b[0m\u001b[0;34m\u001b[0m\u001b[0;34m\u001b[0m\u001b[0m\n\u001b[0m\u001b[1;32m    325\u001b[0m \u001b[0;34m\u001b[0m\u001b[0m\n\u001b[1;32m    326\u001b[0m     \u001b[0;32mif\u001b[0m \u001b[0mtyp\u001b[0m \u001b[0;34m==\u001b[0m \u001b[0;34m\"array\"\u001b[0m\u001b[0;34m:\u001b[0m\u001b[0;34m\u001b[0m\u001b[0;34m\u001b[0m\u001b[0m\n",
            "\u001b[0;32m/usr/local/lib/python3.8/dist-packages/pandas/core/internals/construction.py\u001b[0m in \u001b[0;36m_check_values_indices_shape_match\u001b[0;34m(values, index, columns)\u001b[0m\n\u001b[1;32m    391\u001b[0m         \u001b[0mpassed\u001b[0m \u001b[0;34m=\u001b[0m \u001b[0mvalues\u001b[0m\u001b[0;34m.\u001b[0m\u001b[0mshape\u001b[0m\u001b[0;34m\u001b[0m\u001b[0;34m\u001b[0m\u001b[0m\n\u001b[1;32m    392\u001b[0m         \u001b[0mimplied\u001b[0m \u001b[0;34m=\u001b[0m \u001b[0;34m(\u001b[0m\u001b[0mlen\u001b[0m\u001b[0;34m(\u001b[0m\u001b[0mindex\u001b[0m\u001b[0;34m)\u001b[0m\u001b[0;34m,\u001b[0m \u001b[0mlen\u001b[0m\u001b[0;34m(\u001b[0m\u001b[0mcolumns\u001b[0m\u001b[0;34m)\u001b[0m\u001b[0;34m)\u001b[0m\u001b[0;34m\u001b[0m\u001b[0;34m\u001b[0m\u001b[0m\n\u001b[0;32m--> 393\u001b[0;31m         \u001b[0;32mraise\u001b[0m \u001b[0mValueError\u001b[0m\u001b[0;34m(\u001b[0m\u001b[0;34mf\"Shape of passed values is {passed}, indices imply {implied}\"\u001b[0m\u001b[0;34m)\u001b[0m\u001b[0;34m\u001b[0m\u001b[0;34m\u001b[0m\u001b[0m\n\u001b[0m\u001b[1;32m    394\u001b[0m \u001b[0;34m\u001b[0m\u001b[0m\n\u001b[1;32m    395\u001b[0m \u001b[0;34m\u001b[0m\u001b[0m\n",
            "\u001b[0;31mValueError\u001b[0m: Shape of passed values is (1436, 4), indices imply (1436, 10)"
          ]
        }
      ]
    },
    {
      "cell_type": "code",
      "source": [
        " # Step 4a: Apply LabelEncoder on the data\n",
        "# to convert country names into numeric values\n",
        "le = LabelEncoder()\n",
        "X[ : ,7] = le.fit_transform(X[ : ,7])\n",
        "print(\"\\n\\nInput : \\n\", X)"
      ],
      "metadata": {
        "colab": {
          "base_uri": "https://localhost:8080/"
        },
        "id": "-C83GuxOAmmv",
        "outputId": "87db9133-b897-428c-8a27-53c20dc4295b"
      },
      "execution_count": null,
      "outputs": [
        {
          "output_type": "stream",
          "name": "stdout",
          "text": [
            "\n",
            "\n",
            "Input : \n",
            " [[0 13500 23.0 ... 11 'three' 1165]\n",
            " [1 13750 23.0 ... 11 '3' 1165]\n",
            " [2 13950 24.0 ... 11 '3' 1165]\n",
            " ...\n",
            " [1433 8500 nan ... 0 '3' 1015]\n",
            " [1434 7250 70.0 ... 0 '3' 1015]\n",
            " [1435 6950 76.0 ... 6 '5' 1114]]\n"
          ]
        }
      ]
    },
    {
      "cell_type": "code",
      "source": [
        "# Step 4b: Use dummy variables from pandas library\n",
        "# to create one column for each country\n",
        "dummy = pd.get_dummies(datasets['FuelType'])\n",
        "print(\"\\n\\nDummy :\\n\",dummy)\n",
        "datasets = datasets.drop(['FuelType','Automatic'],axis=1)\n",
        "datasets = pd.concat([datasets,dummy],axis=1)\n",
        "print(\"\\n\\nFinal Data :\\n\",datasets)\n",
        "new_X = datasets.iloc[:, :].values\n",
        "print(new_X)"
      ],
      "metadata": {
        "colab": {
          "base_uri": "https://localhost:8080/"
        },
        "id": "KFVASVbSAwT9",
        "outputId": "a3d911ab-af41-4841-964b-9ae9b3b01153"
      },
      "execution_count": null,
      "outputs": [
        {
          "output_type": "stream",
          "name": "stdout",
          "text": [
            "\n",
            "\n",
            "Dummy :\n",
            "       CNG  Diesel  Petrol\n",
            "0       0       1       0\n",
            "1       0       1       0\n",
            "2       0       1       0\n",
            "3       0       1       0\n",
            "4       0       1       0\n",
            "...   ...     ...     ...\n",
            "1431    0       0       1\n",
            "1432    0       0       1\n",
            "1433    0       0       1\n",
            "1434    0       0       0\n",
            "1435    0       0       1\n",
            "\n",
            "[1436 rows x 3 columns]\n",
            "\n",
            "\n",
            "Final Data :\n",
            "       Unnamed: 0  Price   Age       KM     HP  MetColor    CC  Doors  Weight  \\\n",
            "0              0  13500  23.0  46986.0   90.0       1.0  2000  three    1165   \n",
            "1              1  13750  23.0  72937.0   90.0       1.0  2000      3    1165   \n",
            "2              2  13950  24.0  41711.0   90.0       NaN  2000      3    1165   \n",
            "3              3  14950  26.0  48000.0   90.0       0.0  2000      3    1165   \n",
            "4              4  13750  30.0  38500.0   90.0       0.0  2000      3    1170   \n",
            "...          ...    ...   ...      ...    ...       ...   ...    ...     ...   \n",
            "1431        1431   7500   NaN  20544.0   86.0       1.0  1300      3    1025   \n",
            "1432        1432  10845  72.0      NaN   86.0       0.0  1300      3    1015   \n",
            "1433        1433   8500   NaN  17016.0   86.0       0.0  1300      3    1015   \n",
            "1434        1434   7250  70.0      NaN   86.0       1.0  1300      3    1015   \n",
            "1435        1435   6950  76.0      1.0  110.0       0.0  1600      5    1114   \n",
            "\n",
            "      CNG  Diesel  Petrol  \n",
            "0       0       1       0  \n",
            "1       0       1       0  \n",
            "2       0       1       0  \n",
            "3       0       1       0  \n",
            "4       0       1       0  \n",
            "...   ...     ...     ...  \n",
            "1431    0       0       1  \n",
            "1432    0       0       1  \n",
            "1433    0       0       1  \n",
            "1434    0       0       0  \n",
            "1435    0       0       1  \n",
            "\n",
            "[1436 rows x 12 columns]\n",
            "[[0 13500 23.0 ... 0 1 0]\n",
            " [1 13750 23.0 ... 0 1 0]\n",
            " [2 13950 24.0 ... 0 1 0]\n",
            " ...\n",
            " [1433 8500 nan ... 0 0 1]\n",
            " [1434 7250 70.0 ... 0 0 0]\n",
            " [1435 6950 76.0 ... 0 0 1]]\n"
          ]
        }
      ]
    },
    {
      "cell_type": "code",
      "source": [
        "# Step 1: Import Libraries\n",
        "import numpy as np\n",
        "import pandas as pd\n",
        "from sklearn.impute import SimpleImputer\n"
      ],
      "metadata": {
        "id": "Tt7O8VvGBe2o"
      },
      "execution_count": null,
      "outputs": []
    },
    {
      "cell_type": "code",
      "source": [
        "datasets.dropna(axis=0,how='all',inplace=True)\n",
        "print(\"\\nNew Data :\",datasets)\n"
      ],
      "metadata": {
        "colab": {
          "base_uri": "https://localhost:8080/"
        },
        "id": "qS3Ta-HdBkaT",
        "outputId": "788c60f0-6d15-4f2c-bb40-10ba76635257"
      },
      "execution_count": null,
      "outputs": [
        {
          "output_type": "stream",
          "name": "stdout",
          "text": [
            "\n",
            "New Data :       Unnamed: 0  Price   Age       KM     HP  MetColor    CC  Doors  Weight  \\\n",
            "0              0  13500  23.0  46986.0   90.0       1.0  2000  three    1165   \n",
            "1              1  13750  23.0  72937.0   90.0       1.0  2000      3    1165   \n",
            "2              2  13950  24.0  41711.0   90.0       NaN  2000      3    1165   \n",
            "3              3  14950  26.0  48000.0   90.0       0.0  2000      3    1165   \n",
            "4              4  13750  30.0  38500.0   90.0       0.0  2000      3    1170   \n",
            "...          ...    ...   ...      ...    ...       ...   ...    ...     ...   \n",
            "1431        1431   7500   NaN  20544.0   86.0       1.0  1300      3    1025   \n",
            "1432        1432  10845  72.0      NaN   86.0       0.0  1300      3    1015   \n",
            "1433        1433   8500   NaN  17016.0   86.0       0.0  1300      3    1015   \n",
            "1434        1434   7250  70.0      NaN   86.0       1.0  1300      3    1015   \n",
            "1435        1435   6950  76.0      1.0  110.0       0.0  1600      5    1114   \n",
            "\n",
            "      CNG  Diesel  Petrol  \n",
            "0       0       1       0  \n",
            "1       0       1       0  \n",
            "2       0       1       0  \n",
            "3       0       1       0  \n",
            "4       0       1       0  \n",
            "...   ...     ...     ...  \n",
            "1431    0       0       1  \n",
            "1432    0       0       1  \n",
            "1433    0       0       1  \n",
            "1434    0       0       0  \n",
            "1435    0       0       1  \n",
            "\n",
            "[1436 rows x 12 columns]\n"
          ]
        }
      ]
    },
    {
      "cell_type": "code",
      "source": [
        "import numpy as np\n",
        "import pandas as pd\n",
        "from sklearn.impute import SimpleImputer"
      ],
      "metadata": {
        "id": "M5vfiVejB1WV"
      },
      "execution_count": null,
      "outputs": []
    },
    {
      "cell_type": "code",
      "source": [
        "datasets= datasets.replace(['three','four','five'],[3,4,5])"
      ],
      "metadata": {
        "id": "0IrUAXrUH0y5"
      },
      "execution_count": null,
      "outputs": []
    },
    {
      "cell_type": "code",
      "source": [],
      "metadata": {
        "id": "JXkIM9x3Hj-M"
      },
      "execution_count": null,
      "outputs": []
    },
    {
      "cell_type": "code",
      "source": [
        "datasets= datasets.replace(['three','four','five'],[3,4,5])"
      ],
      "metadata": {
        "colab": {
          "base_uri": "https://localhost:8080/",
          "height": 165
        },
        "id": "ltzwWBqcL0Pp",
        "outputId": "de529a5d-0bda-406d-99b1-a562b10ad59d"
      },
      "execution_count": null,
      "outputs": [
        {
          "output_type": "error",
          "ename": "NameError",
          "evalue": "ignored",
          "traceback": [
            "\u001b[0;31m---------------------------------------------------------------------------\u001b[0m",
            "\u001b[0;31mNameError\u001b[0m                                 Traceback (most recent call last)",
            "\u001b[0;32m<ipython-input-1-e22c8a1ce5c9>\u001b[0m in \u001b[0;36m<module>\u001b[0;34m\u001b[0m\n\u001b[0;32m----> 1\u001b[0;31m \u001b[0mdatasets\u001b[0m\u001b[0;34m=\u001b[0m \u001b[0mdatasets\u001b[0m\u001b[0;34m.\u001b[0m\u001b[0mreplace\u001b[0m\u001b[0;34m(\u001b[0m\u001b[0;34m[\u001b[0m\u001b[0;34m'three'\u001b[0m\u001b[0;34m,\u001b[0m\u001b[0;34m'four'\u001b[0m\u001b[0;34m,\u001b[0m\u001b[0;34m'five'\u001b[0m\u001b[0;34m]\u001b[0m\u001b[0;34m,\u001b[0m\u001b[0;34m[\u001b[0m\u001b[0;36m3\u001b[0m\u001b[0;34m,\u001b[0m\u001b[0;36m4\u001b[0m\u001b[0;34m,\u001b[0m\u001b[0;36m5\u001b[0m\u001b[0;34m]\u001b[0m\u001b[0;34m)\u001b[0m\u001b[0;34m\u001b[0m\u001b[0;34m\u001b[0m\u001b[0m\n\u001b[0m",
            "\u001b[0;31mNameError\u001b[0m: name 'datasets' is not defined"
          ]
        }
      ]
    },
    {
      "cell_type": "code",
      "source": [
        "print(datasets['Doors'])\n",
        "new_X = datasets.iloc[:, :].values"
      ],
      "metadata": {
        "colab": {
          "base_uri": "https://localhost:8080/"
        },
        "id": "kKTpGA-NIMsU",
        "outputId": "f2977209-d033-4b90-9dd1-647a0442ddfe"
      },
      "execution_count": null,
      "outputs": [
        {
          "output_type": "stream",
          "name": "stdout",
          "text": [
            "0       3\n",
            "1       3\n",
            "2       3\n",
            "3       3\n",
            "4       3\n",
            "       ..\n",
            "1431    3\n",
            "1432    3\n",
            "1433    3\n",
            "1434    3\n",
            "1435    5\n",
            "Name: Doors, Length: 1436, dtype: object\n"
          ]
        }
      ]
    },
    {
      "cell_type": "code",
      "source": [
        "\n",
        "imputer = SimpleImputer(missing_values = np.nan,strategy = \"mean\")\n",
        "# Fitting the data, function learns the stats\n",
        "imputer = imputer.fit(new_X[:, :])\n",
        "# fit_transform() will execute those stats on the input ie. X[:, 1:3]\n",
        "new_X[:,:] = imputer.transform(new_X[:,:])\n",
        "# filling the missing value with mean\n",
        "print(\"\\n\\nNew Input with Mean Value for NaN : \\n\\n\", new_X)\n",
        "datasets.iloc[:,:] = new_X[:,:]\n",
        "# print(datasets)"
      ],
      "metadata": {
        "colab": {
          "base_uri": "https://localhost:8080/"
        },
        "id": "GG4LADZIB_Ay",
        "outputId": "008d5723-2e73-4a40-bf77-34b2203f603f"
      },
      "execution_count": null,
      "outputs": [
        {
          "output_type": "stream",
          "name": "stdout",
          "text": [
            "\n",
            "\n",
            "New Input with Mean Value for NaN : \n",
            "\n",
            " [[0.0 13500.0 23.0 ... 0.0 1.0 0.0]\n",
            " [1.0 13750.0 23.0 ... 0.0 1.0 0.0]\n",
            " [2.0 13950.0 24.0 ... 0.0 1.0 0.0]\n",
            " ...\n",
            " [1433.0 8500.0 55.67215568862275 ... 0.0 0.0 1.0]\n",
            " [1434.0 7250.0 70.0 ... 0.0 0.0 0.0]\n",
            " [1435.0 6950.0 76.0 ... 0.0 0.0 1.0]]\n"
          ]
        }
      ]
    },
    {
      "cell_type": "code",
      "source": [
        "import numpy as np\n",
        "import pandas as pd\n",
        "import seaborn as sns\n"
      ],
      "metadata": {
        "id": "nlBoPE3zJIXK"
      },
      "execution_count": null,
      "outputs": []
    },
    {
      "cell_type": "code",
      "source": [
        "# datasets.head()\n",
        "datasets.tail()"
      ],
      "metadata": {
        "colab": {
          "base_uri": "https://localhost:8080/",
          "height": 206
        },
        "id": "z5UqjFASJScf",
        "outputId": "83b43eeb-49a4-4f70-a65c-bb726e5fb811"
      },
      "execution_count": null,
      "outputs": [
        {
          "output_type": "execute_result",
          "data": {
            "text/plain": [
              "      Unnamed: 0    Price        Age            KM     HP  MetColor      CC  \\\n",
              "1431      1431.0   7500.0  55.672156  20544.000000   86.0       1.0  1300.0   \n",
              "1432      1432.0  10845.0  72.000000  68647.239972   86.0       0.0  1300.0   \n",
              "1433      1433.0   8500.0  55.672156  17016.000000   86.0       0.0  1300.0   \n",
              "1434      1434.0   7250.0  70.000000  68647.239972   86.0       1.0  1300.0   \n",
              "1435      1435.0   6950.0  76.000000      1.000000  110.0       0.0  1600.0   \n",
              "\n",
              "      Doors  Weight  CNG  Diesel  Petrol  \n",
              "1431    3.0  1025.0  0.0     0.0     1.0  \n",
              "1432    3.0  1015.0  0.0     0.0     1.0  \n",
              "1433    3.0  1015.0  0.0     0.0     1.0  \n",
              "1434    3.0  1015.0  0.0     0.0     0.0  \n",
              "1435    5.0  1114.0  0.0     0.0     1.0  "
            ],
            "text/html": [
              "\n",
              "  <div id=\"df-8fbd2495-b438-4b31-aca1-87e41ca6bf1a\">\n",
              "    <div class=\"colab-df-container\">\n",
              "      <div>\n",
              "<style scoped>\n",
              "    .dataframe tbody tr th:only-of-type {\n",
              "        vertical-align: middle;\n",
              "    }\n",
              "\n",
              "    .dataframe tbody tr th {\n",
              "        vertical-align: top;\n",
              "    }\n",
              "\n",
              "    .dataframe thead th {\n",
              "        text-align: right;\n",
              "    }\n",
              "</style>\n",
              "<table border=\"1\" class=\"dataframe\">\n",
              "  <thead>\n",
              "    <tr style=\"text-align: right;\">\n",
              "      <th></th>\n",
              "      <th>Unnamed: 0</th>\n",
              "      <th>Price</th>\n",
              "      <th>Age</th>\n",
              "      <th>KM</th>\n",
              "      <th>HP</th>\n",
              "      <th>MetColor</th>\n",
              "      <th>CC</th>\n",
              "      <th>Doors</th>\n",
              "      <th>Weight</th>\n",
              "      <th>CNG</th>\n",
              "      <th>Diesel</th>\n",
              "      <th>Petrol</th>\n",
              "    </tr>\n",
              "  </thead>\n",
              "  <tbody>\n",
              "    <tr>\n",
              "      <th>1431</th>\n",
              "      <td>1431.0</td>\n",
              "      <td>7500.0</td>\n",
              "      <td>55.672156</td>\n",
              "      <td>20544.000000</td>\n",
              "      <td>86.0</td>\n",
              "      <td>1.0</td>\n",
              "      <td>1300.0</td>\n",
              "      <td>3.0</td>\n",
              "      <td>1025.0</td>\n",
              "      <td>0.0</td>\n",
              "      <td>0.0</td>\n",
              "      <td>1.0</td>\n",
              "    </tr>\n",
              "    <tr>\n",
              "      <th>1432</th>\n",
              "      <td>1432.0</td>\n",
              "      <td>10845.0</td>\n",
              "      <td>72.000000</td>\n",
              "      <td>68647.239972</td>\n",
              "      <td>86.0</td>\n",
              "      <td>0.0</td>\n",
              "      <td>1300.0</td>\n",
              "      <td>3.0</td>\n",
              "      <td>1015.0</td>\n",
              "      <td>0.0</td>\n",
              "      <td>0.0</td>\n",
              "      <td>1.0</td>\n",
              "    </tr>\n",
              "    <tr>\n",
              "      <th>1433</th>\n",
              "      <td>1433.0</td>\n",
              "      <td>8500.0</td>\n",
              "      <td>55.672156</td>\n",
              "      <td>17016.000000</td>\n",
              "      <td>86.0</td>\n",
              "      <td>0.0</td>\n",
              "      <td>1300.0</td>\n",
              "      <td>3.0</td>\n",
              "      <td>1015.0</td>\n",
              "      <td>0.0</td>\n",
              "      <td>0.0</td>\n",
              "      <td>1.0</td>\n",
              "    </tr>\n",
              "    <tr>\n",
              "      <th>1434</th>\n",
              "      <td>1434.0</td>\n",
              "      <td>7250.0</td>\n",
              "      <td>70.000000</td>\n",
              "      <td>68647.239972</td>\n",
              "      <td>86.0</td>\n",
              "      <td>1.0</td>\n",
              "      <td>1300.0</td>\n",
              "      <td>3.0</td>\n",
              "      <td>1015.0</td>\n",
              "      <td>0.0</td>\n",
              "      <td>0.0</td>\n",
              "      <td>0.0</td>\n",
              "    </tr>\n",
              "    <tr>\n",
              "      <th>1435</th>\n",
              "      <td>1435.0</td>\n",
              "      <td>6950.0</td>\n",
              "      <td>76.000000</td>\n",
              "      <td>1.000000</td>\n",
              "      <td>110.0</td>\n",
              "      <td>0.0</td>\n",
              "      <td>1600.0</td>\n",
              "      <td>5.0</td>\n",
              "      <td>1114.0</td>\n",
              "      <td>0.0</td>\n",
              "      <td>0.0</td>\n",
              "      <td>1.0</td>\n",
              "    </tr>\n",
              "  </tbody>\n",
              "</table>\n",
              "</div>\n",
              "      <button class=\"colab-df-convert\" onclick=\"convertToInteractive('df-8fbd2495-b438-4b31-aca1-87e41ca6bf1a')\"\n",
              "              title=\"Convert this dataframe to an interactive table.\"\n",
              "              style=\"display:none;\">\n",
              "        \n",
              "  <svg xmlns=\"http://www.w3.org/2000/svg\" height=\"24px\"viewBox=\"0 0 24 24\"\n",
              "       width=\"24px\">\n",
              "    <path d=\"M0 0h24v24H0V0z\" fill=\"none\"/>\n",
              "    <path d=\"M18.56 5.44l.94 2.06.94-2.06 2.06-.94-2.06-.94-.94-2.06-.94 2.06-2.06.94zm-11 1L8.5 8.5l.94-2.06 2.06-.94-2.06-.94L8.5 2.5l-.94 2.06-2.06.94zm10 10l.94 2.06.94-2.06 2.06-.94-2.06-.94-.94-2.06-.94 2.06-2.06.94z\"/><path d=\"M17.41 7.96l-1.37-1.37c-.4-.4-.92-.59-1.43-.59-.52 0-1.04.2-1.43.59L10.3 9.45l-7.72 7.72c-.78.78-.78 2.05 0 2.83L4 21.41c.39.39.9.59 1.41.59.51 0 1.02-.2 1.41-.59l7.78-7.78 2.81-2.81c.8-.78.8-2.07 0-2.86zM5.41 20L4 18.59l7.72-7.72 1.47 1.35L5.41 20z\"/>\n",
              "  </svg>\n",
              "      </button>\n",
              "      \n",
              "  <style>\n",
              "    .colab-df-container {\n",
              "      display:flex;\n",
              "      flex-wrap:wrap;\n",
              "      gap: 12px;\n",
              "    }\n",
              "\n",
              "    .colab-df-convert {\n",
              "      background-color: #E8F0FE;\n",
              "      border: none;\n",
              "      border-radius: 50%;\n",
              "      cursor: pointer;\n",
              "      display: none;\n",
              "      fill: #1967D2;\n",
              "      height: 32px;\n",
              "      padding: 0 0 0 0;\n",
              "      width: 32px;\n",
              "    }\n",
              "\n",
              "    .colab-df-convert:hover {\n",
              "      background-color: #E2EBFA;\n",
              "      box-shadow: 0px 1px 2px rgba(60, 64, 67, 0.3), 0px 1px 3px 1px rgba(60, 64, 67, 0.15);\n",
              "      fill: #174EA6;\n",
              "    }\n",
              "\n",
              "    [theme=dark] .colab-df-convert {\n",
              "      background-color: #3B4455;\n",
              "      fill: #D2E3FC;\n",
              "    }\n",
              "\n",
              "    [theme=dark] .colab-df-convert:hover {\n",
              "      background-color: #434B5C;\n",
              "      box-shadow: 0px 1px 3px 1px rgba(0, 0, 0, 0.15);\n",
              "      filter: drop-shadow(0px 1px 2px rgba(0, 0, 0, 0.3));\n",
              "      fill: #FFFFFF;\n",
              "    }\n",
              "  </style>\n",
              "\n",
              "      <script>\n",
              "        const buttonEl =\n",
              "          document.querySelector('#df-8fbd2495-b438-4b31-aca1-87e41ca6bf1a button.colab-df-convert');\n",
              "        buttonEl.style.display =\n",
              "          google.colab.kernel.accessAllowed ? 'block' : 'none';\n",
              "\n",
              "        async function convertToInteractive(key) {\n",
              "          const element = document.querySelector('#df-8fbd2495-b438-4b31-aca1-87e41ca6bf1a');\n",
              "          const dataTable =\n",
              "            await google.colab.kernel.invokeFunction('convertToInteractive',\n",
              "                                                     [key], {});\n",
              "          if (!dataTable) return;\n",
              "\n",
              "          const docLinkHtml = 'Like what you see? Visit the ' +\n",
              "            '<a target=\"_blank\" href=https://colab.research.google.com/notebooks/data_table.ipynb>data table notebook</a>'\n",
              "            + ' to learn more about interactive tables.';\n",
              "          element.innerHTML = '';\n",
              "          dataTable['output_type'] = 'display_data';\n",
              "          await google.colab.output.renderOutput(dataTable, element);\n",
              "          const docLink = document.createElement('div');\n",
              "          docLink.innerHTML = docLinkHtml;\n",
              "          element.appendChild(docLink);\n",
              "        }\n",
              "      </script>\n",
              "    </div>\n",
              "  </div>\n",
              "  "
            ]
          },
          "metadata": {},
          "execution_count": 19
        }
      ]
    },
    {
      "cell_type": "code",
      "source": [
        "datasets.info()"
      ],
      "metadata": {
        "colab": {
          "base_uri": "https://localhost:8080/"
        },
        "id": "x6njUUZnMTx1",
        "outputId": "ae3cf55c-3a6e-4704-d89a-2f1253599378"
      },
      "execution_count": null,
      "outputs": [
        {
          "output_type": "stream",
          "name": "stdout",
          "text": [
            "<class 'pandas.core.frame.DataFrame'>\n",
            "Int64Index: 1436 entries, 0 to 1435\n",
            "Data columns (total 12 columns):\n",
            " #   Column      Non-Null Count  Dtype  \n",
            "---  ------      --------------  -----  \n",
            " 0   Unnamed: 0  1436 non-null   float64\n",
            " 1   Price       1436 non-null   float64\n",
            " 2   Age         1436 non-null   float64\n",
            " 3   KM          1436 non-null   float64\n",
            " 4   HP          1436 non-null   float64\n",
            " 5   MetColor    1436 non-null   float64\n",
            " 6   CC          1436 non-null   float64\n",
            " 7   Doors       1436 non-null   float64\n",
            " 8   Weight      1436 non-null   float64\n",
            " 9   CNG         1436 non-null   float64\n",
            " 10  Diesel      1436 non-null   float64\n",
            " 11  Petrol      1436 non-null   float64\n",
            "dtypes: float64(12)\n",
            "memory usage: 145.8 KB\n"
          ]
        }
      ]
    },
    {
      "cell_type": "code",
      "source": [
        "corr = datasets.corr()\n",
        "corr.head()"
      ],
      "metadata": {
        "colab": {
          "base_uri": "https://localhost:8080/",
          "height": 250
        },
        "id": "9KjJ1qOIMWzf",
        "outputId": "fee0e76b-10e1-43d9-e6dd-9aef3b226532"
      },
      "execution_count": null,
      "outputs": [
        {
          "output_type": "execute_result",
          "data": {
            "text/plain": [
              "            Unnamed: 0     Price       Age        KM        HP  MetColor  \\\n",
              "Unnamed: 0    1.000000 -0.738289  0.872938  0.276041 -0.108220 -0.074515   \n",
              "Price        -0.738289  1.000000 -0.845111 -0.565016  0.308414  0.107943   \n",
              "Age           0.872938 -0.845111  1.000000  0.495199 -0.152946 -0.091331   \n",
              "KM            0.276041 -0.565016  0.495199  1.000000 -0.332984 -0.088587   \n",
              "HP           -0.108220  0.308414 -0.152946 -0.332984  1.000000  0.060990   \n",
              "\n",
              "                  CC     Doors    Weight       CNG    Diesel    Petrol  \n",
              "Unnamed: 0 -0.184490 -0.130268 -0.414577 -0.043811 -0.139813  0.124362  \n",
              "Price       0.165067  0.185326  0.581198 -0.032498  0.014590 -0.024046  \n",
              "Age        -0.116255 -0.151785 -0.442055  0.006722 -0.068693  0.062043  \n",
              "KM          0.296281 -0.036021 -0.025758  0.145203  0.404627 -0.323775  \n",
              "HP          0.053466  0.096938  0.086214  0.059430 -0.520332  0.404101  "
            ],
            "text/html": [
              "\n",
              "  <div id=\"df-938ca5e4-9b47-4415-b0fa-921227b9dfca\">\n",
              "    <div class=\"colab-df-container\">\n",
              "      <div>\n",
              "<style scoped>\n",
              "    .dataframe tbody tr th:only-of-type {\n",
              "        vertical-align: middle;\n",
              "    }\n",
              "\n",
              "    .dataframe tbody tr th {\n",
              "        vertical-align: top;\n",
              "    }\n",
              "\n",
              "    .dataframe thead th {\n",
              "        text-align: right;\n",
              "    }\n",
              "</style>\n",
              "<table border=\"1\" class=\"dataframe\">\n",
              "  <thead>\n",
              "    <tr style=\"text-align: right;\">\n",
              "      <th></th>\n",
              "      <th>Unnamed: 0</th>\n",
              "      <th>Price</th>\n",
              "      <th>Age</th>\n",
              "      <th>KM</th>\n",
              "      <th>HP</th>\n",
              "      <th>MetColor</th>\n",
              "      <th>CC</th>\n",
              "      <th>Doors</th>\n",
              "      <th>Weight</th>\n",
              "      <th>CNG</th>\n",
              "      <th>Diesel</th>\n",
              "      <th>Petrol</th>\n",
              "    </tr>\n",
              "  </thead>\n",
              "  <tbody>\n",
              "    <tr>\n",
              "      <th>Unnamed: 0</th>\n",
              "      <td>1.000000</td>\n",
              "      <td>-0.738289</td>\n",
              "      <td>0.872938</td>\n",
              "      <td>0.276041</td>\n",
              "      <td>-0.108220</td>\n",
              "      <td>-0.074515</td>\n",
              "      <td>-0.184490</td>\n",
              "      <td>-0.130268</td>\n",
              "      <td>-0.414577</td>\n",
              "      <td>-0.043811</td>\n",
              "      <td>-0.139813</td>\n",
              "      <td>0.124362</td>\n",
              "    </tr>\n",
              "    <tr>\n",
              "      <th>Price</th>\n",
              "      <td>-0.738289</td>\n",
              "      <td>1.000000</td>\n",
              "      <td>-0.845111</td>\n",
              "      <td>-0.565016</td>\n",
              "      <td>0.308414</td>\n",
              "      <td>0.107943</td>\n",
              "      <td>0.165067</td>\n",
              "      <td>0.185326</td>\n",
              "      <td>0.581198</td>\n",
              "      <td>-0.032498</td>\n",
              "      <td>0.014590</td>\n",
              "      <td>-0.024046</td>\n",
              "    </tr>\n",
              "    <tr>\n",
              "      <th>Age</th>\n",
              "      <td>0.872938</td>\n",
              "      <td>-0.845111</td>\n",
              "      <td>1.000000</td>\n",
              "      <td>0.495199</td>\n",
              "      <td>-0.152946</td>\n",
              "      <td>-0.091331</td>\n",
              "      <td>-0.116255</td>\n",
              "      <td>-0.151785</td>\n",
              "      <td>-0.442055</td>\n",
              "      <td>0.006722</td>\n",
              "      <td>-0.068693</td>\n",
              "      <td>0.062043</td>\n",
              "    </tr>\n",
              "    <tr>\n",
              "      <th>KM</th>\n",
              "      <td>0.276041</td>\n",
              "      <td>-0.565016</td>\n",
              "      <td>0.495199</td>\n",
              "      <td>1.000000</td>\n",
              "      <td>-0.332984</td>\n",
              "      <td>-0.088587</td>\n",
              "      <td>0.296281</td>\n",
              "      <td>-0.036021</td>\n",
              "      <td>-0.025758</td>\n",
              "      <td>0.145203</td>\n",
              "      <td>0.404627</td>\n",
              "      <td>-0.323775</td>\n",
              "    </tr>\n",
              "    <tr>\n",
              "      <th>HP</th>\n",
              "      <td>-0.108220</td>\n",
              "      <td>0.308414</td>\n",
              "      <td>-0.152946</td>\n",
              "      <td>-0.332984</td>\n",
              "      <td>1.000000</td>\n",
              "      <td>0.060990</td>\n",
              "      <td>0.053466</td>\n",
              "      <td>0.096938</td>\n",
              "      <td>0.086214</td>\n",
              "      <td>0.059430</td>\n",
              "      <td>-0.520332</td>\n",
              "      <td>0.404101</td>\n",
              "    </tr>\n",
              "  </tbody>\n",
              "</table>\n",
              "</div>\n",
              "      <button class=\"colab-df-convert\" onclick=\"convertToInteractive('df-938ca5e4-9b47-4415-b0fa-921227b9dfca')\"\n",
              "              title=\"Convert this dataframe to an interactive table.\"\n",
              "              style=\"display:none;\">\n",
              "        \n",
              "  <svg xmlns=\"http://www.w3.org/2000/svg\" height=\"24px\"viewBox=\"0 0 24 24\"\n",
              "       width=\"24px\">\n",
              "    <path d=\"M0 0h24v24H0V0z\" fill=\"none\"/>\n",
              "    <path d=\"M18.56 5.44l.94 2.06.94-2.06 2.06-.94-2.06-.94-.94-2.06-.94 2.06-2.06.94zm-11 1L8.5 8.5l.94-2.06 2.06-.94-2.06-.94L8.5 2.5l-.94 2.06-2.06.94zm10 10l.94 2.06.94-2.06 2.06-.94-2.06-.94-.94-2.06-.94 2.06-2.06.94z\"/><path d=\"M17.41 7.96l-1.37-1.37c-.4-.4-.92-.59-1.43-.59-.52 0-1.04.2-1.43.59L10.3 9.45l-7.72 7.72c-.78.78-.78 2.05 0 2.83L4 21.41c.39.39.9.59 1.41.59.51 0 1.02-.2 1.41-.59l7.78-7.78 2.81-2.81c.8-.78.8-2.07 0-2.86zM5.41 20L4 18.59l7.72-7.72 1.47 1.35L5.41 20z\"/>\n",
              "  </svg>\n",
              "      </button>\n",
              "      \n",
              "  <style>\n",
              "    .colab-df-container {\n",
              "      display:flex;\n",
              "      flex-wrap:wrap;\n",
              "      gap: 12px;\n",
              "    }\n",
              "\n",
              "    .colab-df-convert {\n",
              "      background-color: #E8F0FE;\n",
              "      border: none;\n",
              "      border-radius: 50%;\n",
              "      cursor: pointer;\n",
              "      display: none;\n",
              "      fill: #1967D2;\n",
              "      height: 32px;\n",
              "      padding: 0 0 0 0;\n",
              "      width: 32px;\n",
              "    }\n",
              "\n",
              "    .colab-df-convert:hover {\n",
              "      background-color: #E2EBFA;\n",
              "      box-shadow: 0px 1px 2px rgba(60, 64, 67, 0.3), 0px 1px 3px 1px rgba(60, 64, 67, 0.15);\n",
              "      fill: #174EA6;\n",
              "    }\n",
              "\n",
              "    [theme=dark] .colab-df-convert {\n",
              "      background-color: #3B4455;\n",
              "      fill: #D2E3FC;\n",
              "    }\n",
              "\n",
              "    [theme=dark] .colab-df-convert:hover {\n",
              "      background-color: #434B5C;\n",
              "      box-shadow: 0px 1px 3px 1px rgba(0, 0, 0, 0.15);\n",
              "      filter: drop-shadow(0px 1px 2px rgba(0, 0, 0, 0.3));\n",
              "      fill: #FFFFFF;\n",
              "    }\n",
              "  </style>\n",
              "\n",
              "      <script>\n",
              "        const buttonEl =\n",
              "          document.querySelector('#df-938ca5e4-9b47-4415-b0fa-921227b9dfca button.colab-df-convert');\n",
              "        buttonEl.style.display =\n",
              "          google.colab.kernel.accessAllowed ? 'block' : 'none';\n",
              "\n",
              "        async function convertToInteractive(key) {\n",
              "          const element = document.querySelector('#df-938ca5e4-9b47-4415-b0fa-921227b9dfca');\n",
              "          const dataTable =\n",
              "            await google.colab.kernel.invokeFunction('convertToInteractive',\n",
              "                                                     [key], {});\n",
              "          if (!dataTable) return;\n",
              "\n",
              "          const docLinkHtml = 'Like what you see? Visit the ' +\n",
              "            '<a target=\"_blank\" href=https://colab.research.google.com/notebooks/data_table.ipynb>data table notebook</a>'\n",
              "            + ' to learn more about interactive tables.';\n",
              "          element.innerHTML = '';\n",
              "          dataTable['output_type'] = 'display_data';\n",
              "          await google.colab.output.renderOutput(dataTable, element);\n",
              "          const docLink = document.createElement('div');\n",
              "          docLink.innerHTML = docLinkHtml;\n",
              "          element.appendChild(docLink);\n",
              "        }\n",
              "      </script>\n",
              "    </div>\n",
              "  </div>\n",
              "  "
            ]
          },
          "metadata": {},
          "execution_count": 21
        }
      ]
    },
    {
      "cell_type": "code",
      "source": [
        "sns.heatmap(corr)\n"
      ],
      "metadata": {
        "colab": {
          "base_uri": "https://localhost:8080/",
          "height": 337
        },
        "id": "XKPjbeOxMago",
        "outputId": "7895dee5-318a-40d0-cfa1-0e548350cad0"
      },
      "execution_count": null,
      "outputs": [
        {
          "output_type": "execute_result",
          "data": {
            "text/plain": [
              "<matplotlib.axes._subplots.AxesSubplot at 0x7ff289a4d910>"
            ]
          },
          "metadata": {},
          "execution_count": 22
        },
        {
          "output_type": "display_data",
          "data": {
            "text/plain": [
              "<Figure size 432x288 with 2 Axes>"
            ],
            "image/png": "[encoded data removed]"
          },
          "metadata": {
            "needs_background": "light"
          }
        }
      ]
    },
    {
      "cell_type": "code",
      "source": [
        "columns = np.full((corr.shape[0],), True, dtype=bool)\n",
        "for i in range(corr.shape[0]):\n",
        "  for j in range(i+1, corr.shape[0]):\n",
        "    if corr.iloc[i,j] >= 0.9:\n",
        "      if columns[j]:\n",
        "        columns[j] = False\n"
      ],
      "metadata": {
        "id": "lCtdtHPfMf2c"
      },
      "execution_count": null,
      "outputs": []
    },
    {
      "cell_type": "code",
      "source": [
        "selected_columns = datasets.columns[columns]\n",
        "selected_columns.shape\n"
      ],
      "metadata": {
        "colab": {
          "base_uri": "https://localhost:8080/"
        },
        "id": "RAdFGh1vMlpX",
        "outputId": "7840e617-b535-44f7-c79c-1f961dffd17c"
      },
      "execution_count": null,
      "outputs": [
        {
          "output_type": "execute_result",
          "data": {
            "text/plain": [
              "(12,)"
            ]
          },
          "metadata": {},
          "execution_count": 24
        }
      ]
    },
    {
      "cell_type": "code",
      "source": [
        "data = datasets[selected_columns]\n",
        "print(data)"
      ],
      "metadata": {
        "colab": {
          "base_uri": "https://localhost:8080/"
        },
        "id": "sACJJl9kMomP",
        "outputId": "b8731cad-4e4d-4620-9816-a5ce99669645"
      },
      "execution_count": null,
      "outputs": [
        {
          "output_type": "stream",
          "name": "stdout",
          "text": [
            "      Unnamed: 0    Price        Age            KM     HP  MetColor      CC  \\\n",
            "0            0.0  13500.0  23.000000  46986.000000   90.0  1.000000  2000.0   \n",
            "1            1.0  13750.0  23.000000  72937.000000   90.0  1.000000  2000.0   \n",
            "2            2.0  13950.0  24.000000  41711.000000   90.0  0.674961  2000.0   \n",
            "3            3.0  14950.0  26.000000  48000.000000   90.0  0.000000  2000.0   \n",
            "4            4.0  13750.0  30.000000  38500.000000   90.0  0.000000  2000.0   \n",
            "...          ...      ...        ...           ...    ...       ...     ...   \n",
            "1431      1431.0   7500.0  55.672156  20544.000000   86.0  1.000000  1300.0   \n",
            "1432      1432.0  10845.0  72.000000  68647.239972   86.0  0.000000  1300.0   \n",
            "1433      1433.0   8500.0  55.672156  17016.000000   86.0  0.000000  1300.0   \n",
            "1434      1434.0   7250.0  70.000000  68647.239972   86.0  1.000000  1300.0   \n",
            "1435      1435.0   6950.0  76.000000      1.000000  110.0  0.000000  1600.0   \n",
            "\n",
            "      Doors  Weight  CNG  Diesel  Petrol  \n",
            "0       3.0  1165.0  0.0     1.0     0.0  \n",
            "1       3.0  1165.0  0.0     1.0     0.0  \n",
            "2       3.0  1165.0  0.0     1.0     0.0  \n",
            "3       3.0  1165.0  0.0     1.0     0.0  \n",
            "4       3.0  1170.0  0.0     1.0     0.0  \n",
            "...     ...     ...  ...     ...     ...  \n",
            "1431    3.0  1025.0  0.0     0.0     1.0  \n",
            "1432    3.0  1015.0  0.0     0.0     1.0  \n",
            "1433    3.0  1015.0  0.0     0.0     1.0  \n",
            "1434    3.0  1015.0  0.0     0.0     0.0  \n",
            "1435    5.0  1114.0  0.0     0.0     1.0  \n",
            "\n",
            "[1436 rows x 12 columns]\n"
          ]
        }
      ]
    }
  ]
}