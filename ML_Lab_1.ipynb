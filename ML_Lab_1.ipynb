{
  "nbformat": 4,
  "nbformat_minor": 0,
  "metadata": {
    "colab": {
      "provenance": [],
      "authorship_tag": "ABX9TyPxGyUC9npeFwWmctnC91cV",
      "include_colab_link": true
    },
    "kernelspec": {
      "name": "python3",
      "display_name": "Python 3"
    },
    "language_info": {
      "name": "python"
    }
  },
  "cells": [
    {
      "cell_type": "markdown",
      "metadata": {
        "id": "view-in-github",
        "colab_type": "text"
      },
      "source": [
        "<a href=\"https://colab.research.google.com/github/Kushalpatel3121/ML-Labs/blob/main/ML_Lab_1.ipynb\" target=\"_parent\"><img src=\"https://colab.research.google.com/assets/colab-badge.svg\" alt=\"Open In Colab\"/></a>"
      ]
    },
    {
      "cell_type": "code",
      "execution_count": 8,
      "metadata": {
        "id": "rMsd_dUi1ehI",
        "colab": {
          "base_uri": "https://localhost:8080/"
        },
        "outputId": "ff371438-5978-4b9c-d1e5-c58beb3b4993"
      },
      "outputs": [
        {
          "output_type": "stream",
          "name": "stdout",
          "text": [
            "--------------------------------------------------\n",
            "<class 'list'>\n",
            "<class 'numpy.ndarray'>\n",
            "--------------------------------------------------\n",
            "[2 4 6 4 5]\n",
            "[1, 2, 3, 4, 1, 2, 3, 4]\n",
            "--------------------------------------------------\n",
            "[ 3  6  9 12 15]\n",
            "[1, 2, 3, 4, 1, 2, 3, 4, 1, 2, 3, 4]\n",
            "--------------------------------------------------\n",
            "[[ 6.  8.]\n",
            " [10. 12.]]\n",
            "[[ 6.  8.]\n",
            " [10. 12.]]\n",
            "--------------------------------------------------\n",
            "[[-4. -4.]\n",
            " [-4. -4.]]\n",
            "[[-4. -4.]\n",
            " [-4. -4.]]\n",
            "--------------------------------------------------\n",
            "[[ 5. 12.]\n",
            " [21. 32.]]\n",
            "[[ 5. 12.]\n",
            " [21. 32.]]\n",
            "--------------------------------------------------\n",
            "[[19. 22.]\n",
            " [43. 50.]]\n",
            "--------------------------------------------------\n",
            "[[0.2        0.33333333]\n",
            " [0.42857143 0.5       ]]\n",
            "[[0.2        0.33333333]\n",
            " [0.42857143 0.5       ]]\n",
            "--------------------------------------------------\n",
            "[[1.         1.41421356]\n",
            " [1.73205081 2.        ]]\n",
            "[[2.23606798 2.44948974]\n",
            " [2.64575131 2.82842712]]\n",
            "--------------------------------------------------\n",
            "--------------------------------------------------\n",
            "219\n",
            "219\n",
            "219\n",
            "--------------------------------------------------\n",
            "[[19 22]\n",
            " [43 50]]\n",
            "[29 67]\n",
            "[29 67]\n",
            "--------------------------------------------------\n",
            "[[19 22]\n",
            " [43 50]]\n",
            "[[19 22]\n",
            " [43 50]]\n",
            "[[19 22]\n",
            " [43 50]]\n",
            "--------------------------------------------------\n",
            "10\n",
            "[4 6]\n",
            "[11 15]\n",
            "--------------------------------------------------\n",
            "Transpose of a Matrix\n",
            "[[1 2]\n",
            " [3 4]]\n",
            "Transpose : \n",
            "\n",
            "[[1 3]\n",
            " [2 4]]\n",
            "--------------------------------------------------\n",
            "[[1 2 3]]\n",
            "Transpose : \n",
            "\n",
            "[[1]\n",
            " [2]\n",
            " [3]]\n",
            "--------------------------------------------------\n",
            "Matrix : \n",
            "[[1 2 3 4 5]\n",
            " [1 2 3 4 5]\n",
            " [1 2 3 4 5]]\n",
            "[[1 2 3 4]\n",
            " [1 2 3 4]\n",
            " [1 2 3 4]]\n",
            "[array([1, 2, 3, 4, 5]) list([1, 1, 1, 1]) list([array([1, 2, 3, 4, 5])])]\n",
            "--------------------------------------------------\n",
            "[[2 4]\n",
            " [6 8]]\n",
            "[[0 0]\n",
            " [0 0]]\n",
            "--------------------------------------------------\n",
            "norm of a n-D array\n",
            "5.477225575051661\n",
            "5.477225575051661\n",
            "--------------------------------------------------\n",
            "[3.74165739 3.74165739]\n",
            "[1.41421356 2.82842712 4.24264069]\n",
            "--------------------------------------------------\n",
            "38\n",
            "38\n",
            "38\n",
            "38\n",
            "--------------------------------------------------\n",
            "Matrix mean: \n",
            "0.0\n",
            "Mean by columns: \n",
            "[ 2. -2.]\n",
            "Mean by rows:\n",
            "[0. 0. 0.]\n"
          ]
        },
        {
          "output_type": "stream",
          "name": "stderr",
          "text": [
            "<ipython-input-8-ff4a24af65b5>:105: VisibleDeprecationWarning: Creating an ndarray from ragged nested sequences (which is a list-or-tuple of lists-or-tuples-or ndarrays with different lengths or shapes) is deprecated. If you meant to do this, you must specify 'dtype=object' when creating the ndarray.\n",
            "  npmatrix3 = np.array([narray1, [1,1,1,1], [narray1]])\n"
          ]
        }
      ],
      "source": [
        "import numpy as np\n",
        "alist = [1,2,3,4]\n",
        "narray1 = np.array([1,2,3,4,5])\n",
        "narray2 = np.array([1,2,3,0,0])\n",
        "\n",
        "print(\"--------------------------------------------------\")\n",
        "print(type(alist))\n",
        "print(type(narray1))\n",
        "\n",
        "print(\"--------------------------------------------------\")\n",
        "\n",
        "print(narray1 + narray2)\n",
        "print(alist + alist)\n",
        "\n",
        "print(\"--------------------------------------------------\")\n",
        "\n",
        "print(narray1 * 3)\n",
        "print(alist * 3)\n",
        "\n",
        "x = np.array([[1,2],[3,4]],dtype=np.float64)\n",
        "y = np.array([[5,6],[7,8]],dtype=np.float64)\n",
        "\n",
        "print(\"--------------------------------------------------\")\n",
        "\n",
        "print(x + y)    #operator overload\n",
        "print(np.add(x,y))    #function\n",
        "\n",
        "print(\"--------------------------------------------------\")\n",
        "\n",
        "print(x - y)\n",
        "print(np.subtract(x,y))\n",
        "\n",
        "print(\"--------------------------------------------------\")\n",
        "\n",
        "print(x * y)\n",
        "print(np.multiply(x,y))\n",
        "\n",
        "print(\"--------------------------------------------------\")\n",
        "\n",
        "print(x.dot(y))  #Matrix multiplication\n",
        "\n",
        "print(\"--------------------------------------------------\")\n",
        "\n",
        "print(x / y)\n",
        "print(np.divide(x,y))\n",
        "\n",
        "print(\"--------------------------------------------------\")\n",
        "\n",
        "print(np.sqrt(x))\n",
        "print(np.sqrt(y))\n",
        "\n",
        "print(\"--------------------------------------------------\")\n",
        "\n",
        "x = np.array([[1,2],[3,4]])\n",
        "y = np.array([[5,6],[7,8]])\n",
        "\n",
        "v = np.array([9,10])\n",
        "w = np.array([11,12])\n",
        "\n",
        "print(\"--------------------------------------------------\")\n",
        "\n",
        "print(v.dot(w))           #Inner Product\n",
        "print(np.dot(v,w))\n",
        "\n",
        "print(v @ w)    #equivalent to dot operator\n",
        "\n",
        "print(\"--------------------------------------------------\")\n",
        "\n",
        "print(x.dot(y))         #Vector product\n",
        "print(np.dot(x,v))      #Rank 1 array produced\n",
        "print(x @ v)\n",
        "\n",
        "print(\"--------------------------------------------------\")\n",
        "\n",
        "print(x.dot(y))           #Vector Product\n",
        "print(np.dot(x,y))        #Rank 2 array produced\n",
        "print(x @ y)\n",
        "\n",
        "print(\"--------------------------------------------------\")\n",
        "\n",
        "x = np.array([[1,2],[3,4]])\n",
        "print(np.sum(x))                  #Sum of all elements\n",
        "print(np.sum(x, axis = 0))        #Sum of each column\n",
        "print(np.sum(y, axis = 1))        #sum of each row\n",
        "\n",
        "print(\"--------------------------------------------------\")\n",
        "\n",
        "print(\"Transpose of a Matrix\")\n",
        "print(x)\n",
        "print(\"Transpose : \\n\")\n",
        "print(x.T)        #T attribute to transpose a matrix\n",
        "\n",
        "print(\"--------------------------------------------------\")\n",
        "\n",
        "v = np.array([[1,2,3]])\n",
        "print(v)\n",
        "print(\"Transpose : \\n\")\n",
        "print(v.T)\n",
        "\n",
        "print(\"--------------------------------------------------\")\n",
        "print(\"Matrix : \")\n",
        "\n",
        "npmatrix1 = np.array([narray1,narray1,narray1])\n",
        "npmatrix2 = np.array([alist,alist,alist])\n",
        "npmatrix3 = np.array([narray1, [1,1,1,1], [narray1]])\n",
        "\n",
        "print(npmatrix1)\n",
        "print(npmatrix2)\n",
        "print(npmatrix3)\n",
        "\n",
        "print(\"--------------------------------------------------\")\n",
        "\n",
        "okmatrix = np.array([[1, 2], [3, 4]])\n",
        "result =  okmatrix * 2 - 1\n",
        "\n",
        "result1 = okmatrix + okmatrix\n",
        "print(result1)\n",
        "\n",
        "result2 = okmatrix - okmatrix\n",
        "print(result2)\n",
        "\n",
        "print(\"--------------------------------------------------\")\n",
        "print(\"norm of a n-D array\")\n",
        "\n",
        "nparray1 = np.array([1,2,3,4])\n",
        "norm1 = np.linalg.norm(nparray1)\n",
        "\n",
        "nparray2 = np.array([[1,2],[3,4]])\n",
        "norm2 = np.linalg.norm(nparray2)\n",
        "\n",
        "print(norm1)\n",
        "print(norm2)\n",
        "\n",
        "print(\"--------------------------------------------------\")\n",
        "\n",
        "nparray2 = np.array([[1, 1], [2, 2], [3, 3]]) # Define a 3 x 2 matrix.\n",
        "normByCols = np.linalg.norm(nparray2, axis=0) # Get the norm for each column.\n",
        "normByRows = np.linalg.norm(nparray2, axis=1) # get the norm for each row.\n",
        "print(normByCols)\n",
        "print(normByRows)\n",
        "\n",
        "print(\"--------------------------------------------------\")\n",
        "\n",
        "nparray1 = np.array([0, 1, 2, 3]) # Define an array\n",
        "nparray2 = np.array([4, 5, 6, 7]) # Define an array\n",
        "flavor1 = np.dot(nparray1, nparray2) # Way-1\n",
        "print(flavor1)\n",
        "flavor2 = np.sum(nparray1 * nparray2) # Way-2\n",
        "print(flavor2)\n",
        "flavor3 = nparray1 @ nparray2 # Way-3\n",
        "print(flavor3)\n",
        "# As you never should do: #Way-4\n",
        "flavor4 = 0\n",
        "for a, b in zip(nparray1, nparray2):\n",
        "  flavor4 += a * b\n",
        "print(flavor4)\n",
        "\n",
        "print(\"--------------------------------------------------\")\n",
        "\n",
        "nparray2 = np.array([[1, -1], [2, -2], [3, -3]]) # Define a 3 x 2 matrix\n",
        "mean = np.mean(nparray2) # Get the mean for the whole matrix\n",
        "meanByCols = np.mean(nparray2, axis=0) # Get the mean for each column\n",
        "meanByRows = np.mean(nparray2, axis=1) # get the mean for each row\n",
        "print('Matrix mean: ')\n",
        "print(mean)\n",
        "print('Mean by columns: ')\n",
        "print(meanByCols)\n",
        "print('Mean by rows:')\n",
        "print(meanByRows)"
      ]
    },
    {
      "cell_type": "markdown",
      "source": [
        "1) Create Two numpy array of size 4 X 5 and 5 X 4."
      ],
      "metadata": {
        "id": "kwis2598GH9C"
      }
    },
    {
      "cell_type": "code",
      "source": [
        "import numpy as np\n",
        "array1 = np.array([[1,2,3,4,5],[2,3,4,5,6],[3,4,5,6,7],[4,5,6,7,8]])\n",
        "array2 = np.array([[1,2,3,4],[2,3,4,5],[3,4,5,6],[4,5,6,7],[5,6,7,8]])"
      ],
      "metadata": {
        "id": "i1N-vGRMGJ56"
      },
      "execution_count": 9,
      "outputs": []
    },
    {
      "cell_type": "markdown",
      "source": [
        "2) Randomly Initalize that array."
      ],
      "metadata": {
        "id": "OC6T3JccI0Hk"
      }
    },
    {
      "cell_type": "code",
      "source": [
        "import numpy as np\n",
        "array1 = np.array([[1,2,3,4,5],[2,3,4,5,6],[3,4,5,6,7],[4,5,6,7,8]])\n",
        "array2 = np.array([[1,2,3,4],[2,3,4,5],[3,4,5,6],[4,5,6,7],[5,6,7,8]])"
      ],
      "metadata": {
        "id": "AuVT6qwUI2lC"
      },
      "execution_count": 10,
      "outputs": []
    },
    {
      "cell_type": "markdown",
      "source": [
        "3) Perform matrix multiplication."
      ],
      "metadata": {
        "id": "_NueXcP7I48y"
      }
    },
    {
      "cell_type": "code",
      "source": [
        "import numpy as np\n",
        "array1 = np.array([[1,2,3,4,5],[2,3,4,5,6],[3,4,5,6,7],[4,5,6,7,8]])\n",
        "array2 = np.array([[1,2,3,4],[2,3,4,5],[3,4,5,6],[4,5,6,7],[5,6,7,8]])\n",
        "result = array1.dot(array2);\n",
        "print(result)"
      ],
      "metadata": {
        "id": "C_eJLM7aI7xz",
        "colab": {
          "base_uri": "https://localhost:8080/"
        },
        "outputId": "a520e0cb-be57-4d34-f51b-4c024ceb9792"
      },
      "execution_count": 11,
      "outputs": [
        {
          "output_type": "stream",
          "name": "stdout",
          "text": [
            "[[ 55  70  85 100]\n",
            " [ 70  90 110 130]\n",
            " [ 85 110 135 160]\n",
            " [100 130 160 190]]\n"
          ]
        }
      ]
    },
    {
      "cell_type": "markdown",
      "source": [
        "4) Perform elementwise matrix multiplication"
      ],
      "metadata": {
        "id": "Wa_Rwm1-Jo4T"
      }
    },
    {
      "cell_type": "code",
      "source": [
        "import numpy as np\n",
        "array1 = np.array([[1,2,3,4],[2,3,4,5],[3,4,5,6],[4,5,6,7],[5,6,7,8]])\n",
        "array2 = np.array([[1,2,3,4],[2,3,4,5],[3,4,5,6],[4,5,6,7],[5,6,7,8]])\n",
        "result = np.multiply(array1,array2)\n",
        "print(result)"
      ],
      "metadata": {
        "id": "ipPYH74wJrh7",
        "colab": {
          "base_uri": "https://localhost:8080/"
        },
        "outputId": "26a652ea-8201-4a41-9341-71b19536be05"
      },
      "execution_count": 12,
      "outputs": [
        {
          "output_type": "stream",
          "name": "stdout",
          "text": [
            "[[ 1  4  9 16]\n",
            " [ 4  9 16 25]\n",
            " [ 9 16 25 36]\n",
            " [16 25 36 49]\n",
            " [25 36 49 64]]\n"
          ]
        }
      ]
    },
    {
      "cell_type": "markdown",
      "source": [
        "5) Find mean, median of the first matrix."
      ],
      "metadata": {
        "id": "_UJmNQ31KXJ8"
      }
    },
    {
      "cell_type": "code",
      "source": [
        "import numpy as np\n",
        "array1 = np.array([[1,2,3,4],[2,3,4,5],[3,4,5,6],[4,5,6,7],[5,6,7,8]])\n",
        "\n",
        "mean = np.mean(array1)\n",
        "print(mean)\n",
        "\n",
        "median = np.median(array1)\n",
        "print(median)"
      ],
      "metadata": {
        "id": "nEeqS9LuKaV7",
        "colab": {
          "base_uri": "https://localhost:8080/"
        },
        "outputId": "21399e83-5291-46a2-a79c-85efbc1f5cc5"
      },
      "execution_count": 13,
      "outputs": [
        {
          "output_type": "stream",
          "name": "stdout",
          "text": [
            "4.5\n",
            "4.5\n"
          ]
        }
      ]
    },
    {
      "cell_type": "markdown",
      "source": [
        "6) Get the transpose of that Matrix that you created. Create a square matrix and find its determinant."
      ],
      "metadata": {
        "id": "tWvTkTHFKzpT"
      }
    },
    {
      "cell_type": "code",
      "source": [
        "import numpy as np\n",
        "array1 = np.array([[1,2,3,4],[2,3,4,5],[3,4,5,6],[4,5,6,7],[5,6,7,8]])\n",
        "print(\"Original Array : \")\n",
        "print(array1)\n",
        "print(\"Transpose Matrix : \")\n",
        "print(array1.T)\n",
        "\n",
        "array2 = np.array([[1,2],[4,13]])\n",
        "det = np.linalg.det(array2)\n",
        "print(det)"
      ],
      "metadata": {
        "id": "_z8KHU5zK2ZL",
        "colab": {
          "base_uri": "https://localhost:8080/"
        },
        "outputId": "fa7df3cf-c95c-4c9c-c0f3-1e0f4939ba23"
      },
      "execution_count": 14,
      "outputs": [
        {
          "output_type": "stream",
          "name": "stdout",
          "text": [
            "Original Array : \n",
            "[[1 2 3 4]\n",
            " [2 3 4 5]\n",
            " [3 4 5 6]\n",
            " [4 5 6 7]\n",
            " [5 6 7 8]]\n",
            "Transpose Matrix : \n",
            "[[1 2 3 4 5]\n",
            " [2 3 4 5 6]\n",
            " [3 4 5 6 7]\n",
            " [4 5 6 7 8]]\n",
            "4.999999999999999\n"
          ]
        }
      ]
    },
    {
      "cell_type": "markdown",
      "source": [
        "7) Obtain each row in the second column of the first array."
      ],
      "metadata": {
        "id": "-bug3XMYL1_a"
      }
    },
    {
      "cell_type": "code",
      "source": [
        "import numpy as np\n",
        "array1 = np.array([[1,2,3,4,5],[2,3,4,5,6],[3,4,5,6,7],[4,5,6,7,8]])\n",
        "print(array1[ : ,1])"
      ],
      "metadata": {
        "id": "I9G_4lGCL74M",
        "colab": {
          "base_uri": "https://localhost:8080/"
        },
        "outputId": "d6173cf9-daa8-40a6-e2b9-b013292474a7"
      },
      "execution_count": 15,
      "outputs": [
        {
          "output_type": "stream",
          "name": "stdout",
          "text": [
            "[2 3 4 5]\n"
          ]
        }
      ]
    },
    {
      "cell_type": "markdown",
      "source": [
        "8) Convert Numeric entries(columns) of mtcars.csv to Mean Centered Version."
      ],
      "metadata": {
        "id": "D0AxVIeDL15r"
      }
    },
    {
      "cell_type": "code",
      "source": [],
      "metadata": {
        "id": "ajo5iFv9L8Zb"
      },
      "execution_count": null,
      "outputs": []
    },
    {
      "cell_type": "markdown",
      "source": [
        "NLTK Library ."
      ],
      "metadata": {
        "id": "yl-_YAeseR3_"
      }
    },
    {
      "cell_type": "code",
      "source": [
        "import nltk # Python library for NLP\n",
        "from nltk.corpus import twitter_samples # sample Twitter dataset from NLTK\n",
        "import matplotlib.pyplot as plt # library for visualization\n",
        "import random\n",
        "#downloads sample twitter dataset.\n",
        "nltk.download('twitter_samples')"
      ],
      "metadata": {
        "id": "n6TqgbWFKjdC",
        "colab": {
          "base_uri": "https://localhost:8080/"
        },
        "outputId": "144f77e1-9980-4006-fcbe-01045b5957df"
      },
      "execution_count": 16,
      "outputs": [
        {
          "output_type": "stream",
          "name": "stderr",
          "text": [
            "[nltk_data] Downloading package twitter_samples to /root/nltk_data...\n",
            "[nltk_data]   Unzipping corpora/twitter_samples.zip.\n"
          ]
        },
        {
          "output_type": "execute_result",
          "data": {
            "text/plain": [
              "True"
            ]
          },
          "metadata": {},
          "execution_count": 16
        }
      ]
    },
    {
      "cell_type": "code",
      "source": [
        "all_positive_tweets = twitter_samples.strings('positive_tweets.json')\n",
        "all_negative_tweets = twitter_samples.strings('negative_tweets.json')\n",
        "print('Number of positive tweets: ', len(all_positive_tweets))\n",
        "print('Number of negative tweets: ', len(all_negative_tweets))\n",
        "print('\\nThe type of all_positive_tweets is: ', type(all_positive_tweets))\n",
        "print('The type of a tweet entry is: ', type(all_negative_tweets[0]))"
      ],
      "metadata": {
        "id": "AdllUK7sLLlZ",
        "colab": {
          "base_uri": "https://localhost:8080/"
        },
        "outputId": "a947e6a7-d2ae-4163-a40a-78881e8d80a0"
      },
      "execution_count": 17,
      "outputs": [
        {
          "output_type": "stream",
          "name": "stdout",
          "text": [
            "Number of positive tweets:  5000\n",
            "Number of negative tweets:  5000\n",
            "\n",
            "The type of all_positive_tweets is:  <class 'list'>\n",
            "The type of a tweet entry is:  <class 'str'>\n"
          ]
        }
      ]
    },
    {
      "cell_type": "code",
      "source": [
        "import matplotlib.pyplot as plt\n",
        "\n",
        "# Declare a figure with a custom size\n",
        "fig = plt.figure(figsize=(5, 5))\n",
        "\n",
        "# labels for the classes\n",
        "labels = 'ML-HAP-Lec', 'ML-SPS-Lec','ML-HAP-Lab','ML-SPS-Lab'\n",
        "\n",
        "# Sizes for each slide\n",
        "sizes = [35, 35, 15,15]\n",
        "\n",
        "# Declare pie chart, where the slices will be ordered and plotted␣,→counter-clockwise:\n",
        "plt.pie(sizes, labels=labels, autopct='%.2f%%',\n",
        "shadow=True, startangle=90)\n",
        "\n",
        "# Equal aspect ratio ensures that pie is drawn as a circle.\n",
        "plt.axis('equal')\n",
        "\n",
        "# Display the chart\n",
        "plt.show()"
      ],
      "metadata": {
        "id": "fgaP7GDeeU7_",
        "colab": {
          "base_uri": "https://localhost:8080/",
          "height": 307
        },
        "outputId": "f6ce1da4-1f75-4e2c-d693-d2304241e50b"
      },
      "execution_count": 18,
      "outputs": [
        {
          "output_type": "display_data",
          "data": {
            "text/plain": [
              "<Figure size 360x360 with 1 Axes>"
            ],
            "image/png": "[encoded data removed]"
          },
          "metadata": {}
        }
      ]
    },
    {
      "cell_type": "code",
      "source": [
        "import nltk # Python library for NLP\n",
        "from nltk.corpus import twitter_samples # sample Twitter dataset from NLTK\n",
        "import matplotlib.pyplot as plt # library for visualization\n",
        "import random\n",
        "nltk.download('twitter_samples')\n",
        "all_positive_tweets = twitter_samples.strings('positive_tweets.json')\n",
        "all_negative_tweets = twitter_samples.strings('negative_tweets.json')\n",
        "fig = plt.figure(figsize=(5, 5))\n",
        "labels = 'Positives', 'Negative'\n",
        "\n",
        "sizes = [len(all_positive_tweets), len(all_negative_tweets)]\n",
        "plt.pie(sizes, labels=labels, autopct='%1.1f%%',\n",
        "shadow=True, startangle=90)\n",
        "\n",
        "plt.axis('equal')\n",
        "\n",
        "plt.show()"
      ],
      "metadata": {
        "id": "R5aixJwjKsmK",
        "colab": {
          "base_uri": "https://localhost:8080/",
          "height": 339
        },
        "outputId": "bb5a3584-a410-41ff-fb57-2dd7591018a5"
      },
      "execution_count": 19,
      "outputs": [
        {
          "output_type": "stream",
          "name": "stderr",
          "text": [
            "[nltk_data] Downloading package twitter_samples to /root/nltk_data...\n",
            "[nltk_data]   Package twitter_samples is already up-to-date!\n"
          ]
        },
        {
          "output_type": "display_data",
          "data": {
            "text/plain": [
              "<Figure size 360x360 with 1 Axes>"
            ],
            "image/png": "[encoded data removed]"
          },
          "metadata": {}
        }
      ]
    },
    {
      "cell_type": "code",
      "source": [
        "# print positive in greeen\n",
        "print('\\033[92m' + all_positive_tweets[random.randint(0,5000)])\n",
        "# print negative in red\n",
        "print('\\033[91m' + all_negative_tweets[random.randint(0,5000)])"
      ],
      "metadata": {
        "id": "P-NddX9vM6vR",
        "colab": {
          "base_uri": "https://localhost:8080/"
        },
        "outputId": "70ad7cd7-91fe-4aa5-e6b5-81aa4eb837b3"
      },
      "execution_count": 20,
      "outputs": [
        {
          "output_type": "stream",
          "name": "stdout",
          "text": [
            "\u001b[92mWhat you say if Sweetpea starts to hold regular gluten free cakes and pastry workshops?:) http://t.co/9j2aIxxDi4\n",
            "\u001b[91m@misses0wl breaks my heart cause I'm not at hard :(\n"
          ]
        }
      ]
    },
    {
      "cell_type": "code",
      "source": [
        "#Preprocess raw text for Sentiment analysis\n",
        "tweet = all_positive_tweets[2277]\n",
        "print(tweet)\n",
        "nltk.download('stopwords')"
      ],
      "metadata": {
        "id": "rx-J184rRM3K",
        "colab": {
          "base_uri": "https://localhost:8080/"
        },
        "outputId": "406105fb-98cd-45c6-fec4-2d0951e7b4f7"
      },
      "execution_count": 21,
      "outputs": [
        {
          "output_type": "stream",
          "name": "stdout",
          "text": [
            "My beautiful sunflowers on a sunny Friday morning off :) #sunflowers #favourites #happy #Friday off… https://t.co/3tfYom0N1i\n"
          ]
        },
        {
          "output_type": "stream",
          "name": "stderr",
          "text": [
            "[nltk_data] Downloading package stopwords to /root/nltk_data...\n",
            "[nltk_data]   Unzipping corpora/stopwords.zip.\n"
          ]
        },
        {
          "output_type": "execute_result",
          "data": {
            "text/plain": [
              "True"
            ]
          },
          "metadata": {},
          "execution_count": 21
        }
      ]
    },
    {
      "cell_type": "code",
      "source": [
        "import re\n",
        "import string # for string operations\n",
        "from nltk.corpus import stopwords # module for stop words that come with NLTK\n",
        "from nltk.stem import PorterStemmer # module for stemming\n",
        "from nltk.tokenize import TweetTokenizer # module for tokenizing strings\n",
        "from nltk.stem import WordNetLemmatizer\n"
      ],
      "metadata": {
        "id": "-HYng6P0Rhjx"
      },
      "execution_count": 22,
      "outputs": []
    },
    {
      "cell_type": "code",
      "source": [
        "#Remove hyperlinks, Twitter marks and styles\n",
        "print('\\033[92m' + tweet)\n",
        "print('\\033[94m')\n",
        "# remove hyperlinks\n",
        "tweet2 = re.sub(r'https?:\\/\\/.*[\\r\\n]*', '', tweet)\n",
        "# remove hashtags\n",
        "# only removing the hash # sign from the word\n",
        "tweet2 = re.sub(r'#', '', tweet2)\n",
        "print(tweet2)"
      ],
      "metadata": {
        "id": "9kVVqPL_SruF",
        "colab": {
          "base_uri": "https://localhost:8080/"
        },
        "outputId": "4ce89595-bc82-4892-e909-706cd09bddb6"
      },
      "execution_count": 23,
      "outputs": [
        {
          "output_type": "stream",
          "name": "stdout",
          "text": [
            "\u001b[92mMy beautiful sunflowers on a sunny Friday morning off :) #sunflowers #favourites #happy #Friday off… https://t.co/3tfYom0N1i\n",
            "\u001b[94m\n",
            "My beautiful sunflowers on a sunny Friday morning off :) sunflowers favourites happy Friday off… \n"
          ]
        }
      ]
    },
    {
      "cell_type": "code",
      "source": [
        "#Tokenize the string\n",
        "print()\n",
        "print('\\033[92m' + tweet2)\n",
        "print('\\033[94m')\n",
        "# instantiate tokenizer class\n",
        "tokenizer = TweetTokenizer(preserve_case=False)\n",
        "# tokenize tweets\n",
        "tweet_tokens = tokenizer.tokenize(tweet2)\n",
        "print()\n",
        "print('Tokenized string:')\n",
        "print(tweet_tokens)"
      ],
      "metadata": {
        "id": "nyTHJ_uqUAEy",
        "colab": {
          "base_uri": "https://localhost:8080/"
        },
        "outputId": "2e731d2c-4c91-4662-84c2-3334b5cca45a"
      },
      "execution_count": 24,
      "outputs": [
        {
          "output_type": "stream",
          "name": "stdout",
          "text": [
            "\n",
            "\u001b[92mMy beautiful sunflowers on a sunny Friday morning off :) sunflowers favourites happy Friday off… \n",
            "\u001b[94m\n",
            "\n",
            "Tokenized string:\n",
            "['my', 'beautiful', 'sunflowers', 'on', 'a', 'sunny', 'friday', 'morning', 'off', ':)', 'sunflowers', 'favourites', 'happy', 'friday', 'off', '…']\n"
          ]
        }
      ]
    },
    {
      "cell_type": "code",
      "source": [
        "#Remove stop words and punctuations\n",
        "#Import the english stop words list from NLTK\n",
        "stopwords_english = stopwords.words('english')\n",
        "# print('Stop words\\n')\n",
        "# print(stopwords_english)\n",
        "# print('\\nPunctuation\\n')\n",
        "# print(string.punctuation)\n",
        "print()\n",
        "print('\\033[92m')\n",
        "print(tweet_tokens)\n",
        "print('\\033[94m')\n",
        "tweets_clean = []\n",
        "for word in tweet_tokens: # Go through every word in your tokens list\n",
        "    if (word not in stopwords_english and # remove stopwords\n",
        "        word not in string.punctuation): # remove punctuation\n",
        "          tweets_clean.append(word)\n",
        "print('removed stop words and punctuation:')\n",
        "print(tweets_clean)"
      ],
      "metadata": {
        "id": "dDb_zBn7UX9v",
        "colab": {
          "base_uri": "https://localhost:8080/"
        },
        "outputId": "4c6a353a-5772-48f7-8a31-a255af455a4b"
      },
      "execution_count": 25,
      "outputs": [
        {
          "output_type": "stream",
          "name": "stdout",
          "text": [
            "\n",
            "\u001b[92m\n",
            "['my', 'beautiful', 'sunflowers', 'on', 'a', 'sunny', 'friday', 'morning', 'off', ':)', 'sunflowers', 'favourites', 'happy', 'friday', 'off', '…']\n",
            "\u001b[94m\n",
            "removed stop words and punctuation:\n",
            "['beautiful', 'sunflowers', 'sunny', 'friday', 'morning', ':)', 'sunflowers', 'favourites', 'happy', 'friday', '…']\n"
          ]
        }
      ]
    },
    {
      "cell_type": "code",
      "source": [
        "import nltk\n",
        "nltk.download('wordnet')"
      ],
      "metadata": {
        "id": "GjOzMJQ3WoIE",
        "colab": {
          "base_uri": "https://localhost:8080/"
        },
        "outputId": "593974c5-c915-410e-e7bb-246bb7f19c9e"
      },
      "execution_count": 26,
      "outputs": [
        {
          "output_type": "stream",
          "name": "stderr",
          "text": [
            "[nltk_data] Downloading package wordnet to /root/nltk_data...\n"
          ]
        },
        {
          "output_type": "execute_result",
          "data": {
            "text/plain": [
              "True"
            ]
          },
          "metadata": {},
          "execution_count": 26
        }
      ]
    },
    {
      "cell_type": "code",
      "source": [
        "#Stemming\n",
        "# Instantiate stemming class\n",
        "stemmer = PorterStemmer()\n",
        "# Create an empty list to store the stems\n",
        "tweets_stem = []\n",
        "for word in tweets_clean:\n",
        "    stem_word = stemmer.stem(word) # stemming word\n",
        "    tweets_stem.append(stem_word) # append to the list\n",
        "print('stemmed words:')\n",
        "print(tweets_stem)\n",
        "\n"
      ],
      "metadata": {
        "id": "yCKYLd9EUi95"
      },
      "execution_count": null,
      "outputs": []
    },
    {
      "cell_type": "code",
      "source": [
        "import nltk\n",
        "nltk.download('wordnet')"
      ],
      "metadata": {
        "id": "vaxKUlBWVymZ",
        "colab": {
          "base_uri": "https://localhost:8080/"
        },
        "outputId": "5decf50b-fb5d-4716-c5a6-5a9473e62705"
      },
      "execution_count": 28,
      "outputs": [
        {
          "output_type": "stream",
          "name": "stderr",
          "text": [
            "[nltk_data] Downloading package wordnet to /root/nltk_data...\n",
            "[nltk_data]   Package wordnet is already up-to-date!\n"
          ]
        },
        {
          "output_type": "execute_result",
          "data": {
            "text/plain": [
              "True"
            ]
          },
          "metadata": {},
          "execution_count": 28
        }
      ]
    },
    {
      "cell_type": "code",
      "source": [
        "import nltk\n",
        "nltk.download('omw-1.4')"
      ],
      "metadata": {
        "id": "JAJ_6Xr9Zv4M",
        "colab": {
          "base_uri": "https://localhost:8080/"
        },
        "outputId": "c8181297-78ab-4dac-874a-88b7f685a595"
      },
      "execution_count": 29,
      "outputs": [
        {
          "output_type": "stream",
          "name": "stderr",
          "text": [
            "[nltk_data] Downloading package omw-1.4 to /root/nltk_data...\n"
          ]
        },
        {
          "output_type": "execute_result",
          "data": {
            "text/plain": [
              "True"
            ]
          },
          "metadata": {},
          "execution_count": 29
        }
      ]
    },
    {
      "cell_type": "code",
      "source": [
        "print()\n",
        "print('\\033[92m')\n",
        "print(tweets_clean)\n",
        "print('\\033[94m')\n",
        "# Instantiate stemming class\n",
        "wordnet_lemmatizer = WordNetLemmatizer()\n",
        "# Create an empty list to store the stems\n",
        "tweets_lem = []\n",
        "for word in tweets_clean:\n",
        "  lem_words = wordnet_lemmatizer.lemmatize(word)# stemming word\n",
        "  tweets_lem.append(lem_words) # append to the list\n",
        "print('lemmatized words:')\n",
        "print(tweets_lem)"
      ],
      "metadata": {
        "id": "UKN5M6BRZyFF",
        "colab": {
          "base_uri": "https://localhost:8080/"
        },
        "outputId": "81af31fd-fd5a-4885-80e6-7eb8bff61745"
      },
      "execution_count": 30,
      "outputs": [
        {
          "output_type": "stream",
          "name": "stdout",
          "text": [
            "\n",
            "\u001b[92m\n",
            "['beautiful', 'sunflowers', 'sunny', 'friday', 'morning', ':)', 'sunflowers', 'favourites', 'happy', 'friday', '…']\n",
            "\u001b[94m\n",
            "lemmatized words:\n",
            "['beautiful', 'sunflower', 'sunny', 'friday', 'morning', ':)', 'sunflower', 'favourite', 'happy', 'friday', '…']\n"
          ]
        }
      ]
    },
    {
      "cell_type": "code",
      "source": [
        "print()\n",
        "print('\\033[92m')\n",
        "print(tweets_clean)\n",
        "print('\\033[94m')\n",
        "# Instantiate stemming class\n",
        "wordnet_lemmatizer = WordNetLemmatizer()\n",
        "# Create an empty list to store the stems\n",
        "tweets_lem = []\n",
        "for word in tweets_clean:\n",
        "  lem_words = wordnet_lemmatizer.lemmatize(word,pos =\"v\")# stemming word\n",
        "  tweets_lem.append(lem_words) # append to the list\n",
        "print('lemmatized words:')\n",
        "print(tweets_lem)"
      ],
      "metadata": {
        "id": "qTz77GRZaFU7",
        "colab": {
          "base_uri": "https://localhost:8080/"
        },
        "outputId": "9f620095-44ca-4589-9075-fe12ca866e92"
      },
      "execution_count": 31,
      "outputs": [
        {
          "output_type": "stream",
          "name": "stdout",
          "text": [
            "\n",
            "\u001b[92m\n",
            "['beautiful', 'sunflowers', 'sunny', 'friday', 'morning', ':)', 'sunflowers', 'favourites', 'happy', 'friday', '…']\n",
            "\u001b[94m\n",
            "lemmatized words:\n",
            "['beautiful', 'sunflowers', 'sunny', 'friday', 'morning', ':)', 'sunflowers', 'favourites', 'happy', 'friday', '…']\n"
          ]
        }
      ]
    },
    {
      "cell_type": "markdown",
      "source": [
        "Exercise:Perform all of the avove preprocesing tasks on any othe text dataset"
      ],
      "metadata": {
        "id": "qb0RB2jZ-vnl"
      }
    },
    {
      "cell_type": "code",
      "source": [
        "from nltk.corpus import product_reviews_1\n",
        "from nltk.corpus import product_reviews_2"
      ],
      "metadata": {
        "id": "J4qz3DHHbGS7"
      },
      "execution_count": 32,
      "outputs": []
    },
    {
      "cell_type": "code",
      "source": [
        "nltk.download('product_reviews_1')\n",
        "nltk.download('product_reviews_2')"
      ],
      "metadata": {
        "id": "NVq3b25ZbOZ7",
        "colab": {
          "base_uri": "https://localhost:8080/"
        },
        "outputId": "a230af46-234f-4f40-8fb0-1900435b4c7b"
      },
      "execution_count": 33,
      "outputs": [
        {
          "output_type": "stream",
          "name": "stderr",
          "text": [
            "[nltk_data] Downloading package product_reviews_1 to\n",
            "[nltk_data]     /root/nltk_data...\n",
            "[nltk_data]   Unzipping corpora/product_reviews_1.zip.\n",
            "[nltk_data] Downloading package product_reviews_2 to\n",
            "[nltk_data]     /root/nltk_data...\n",
            "[nltk_data]   Unzipping corpora/product_reviews_2.zip.\n"
          ]
        },
        {
          "output_type": "execute_result",
          "data": {
            "text/plain": [
              "True"
            ]
          },
          "metadata": {},
          "execution_count": 33
        }
      ]
    },
    {
      "cell_type": "code",
      "source": [
        "camera_reviews = product_reviews_1.reviews('Canon_G3.txt')\n",
        "ipod_reviews = product_reviews_2.reviews('ipod.txt')"
      ],
      "metadata": {
        "id": "6uOAQedibTyM"
      },
      "execution_count": 34,
      "outputs": []
    },
    {
      "cell_type": "code",
      "source": [
        "review = camera_reviews[0]\n",
        "print(len(camera_reviews))\n",
        "print(len(ipod_reviews))"
      ],
      "metadata": {
        "id": "lEKwoodQbhcD",
        "colab": {
          "base_uri": "https://localhost:8080/"
        },
        "outputId": "ccddedf1-6273-41c0-e416-efbe77d16dd4"
      },
      "execution_count": 35,
      "outputs": [
        {
          "output_type": "stream",
          "name": "stdout",
          "text": [
            "45\n",
            "0\n"
          ]
        }
      ]
    },
    {
      "cell_type": "code",
      "source": [
        "review.sents()[0]"
      ],
      "metadata": {
        "id": "QrU7o1kfbxqO",
        "colab": {
          "base_uri": "https://localhost:8080/"
        },
        "outputId": "8b7036ad-5f67-4928-a54c-efc40d8a2e89"
      },
      "execution_count": 36,
      "outputs": [
        {
          "output_type": "execute_result",
          "data": {
            "text/plain": [
              "['i',\n",
              " 'recently',\n",
              " 'purchased',\n",
              " 'the',\n",
              " 'canon',\n",
              " 'powershot',\n",
              " 'g3',\n",
              " 'and',\n",
              " 'am',\n",
              " 'extremely',\n",
              " 'satisfied',\n",
              " 'with',\n",
              " 'the',\n",
              " 'purchase',\n",
              " '.']"
            ]
          },
          "metadata": {},
          "execution_count": 36
        }
      ]
    },
    {
      "cell_type": "code",
      "source": [
        "review.features()"
      ],
      "metadata": {
        "id": "ASwlCY2Yb7QD",
        "colab": {
          "base_uri": "https://localhost:8080/"
        },
        "outputId": "05c30460-6d58-4e20-fb60-208c206a9e93"
      },
      "execution_count": 37,
      "outputs": [
        {
          "output_type": "execute_result",
          "data": {
            "text/plain": [
              "[('canon powershot g3', '+3'),\n",
              " ('use', '+2'),\n",
              " ('picture', '+2'),\n",
              " ('picture quality', '+1'),\n",
              " ('picture quality', '+1'),\n",
              " ('camera', '+2'),\n",
              " ('use', '+2'),\n",
              " ('feature', '+1'),\n",
              " ('picture quality', '+3'),\n",
              " ('use', '+1'),\n",
              " ('option', '+1')]"
            ]
          },
          "metadata": {},
          "execution_count": 37
        }
      ]
    },
    {
      "cell_type": "code",
      "source": [
        "sample = camera_reviews[32].sents()[0]\n",
        "print(sample)"
      ],
      "metadata": {
        "id": "ACe9GKcecAZ7",
        "colab": {
          "base_uri": "https://localhost:8080/"
        },
        "outputId": "50541b7a-b8ba-45ce-c8e6-3f21c8ea8774"
      },
      "execution_count": 38,
      "outputs": [
        {
          "output_type": "stream",
          "name": "stdout",
          "text": [
            "['i', 'do', 'n', \"'\", 't', 'write', 'many', 'reviews', 'but', 'i', \"'\", 'm', 'compelled', 'to', 'do', 'so', 'with', 'this', 'camera', '.']\n"
          ]
        }
      ]
    },
    {
      "cell_type": "code",
      "source": [
        "print()\n",
        "print('\\033[92m')\n",
        "print(sample)\n",
        "print('\\033[94m')\n",
        "sample_clean = []\n",
        "for word in sample:\n",
        "  if (word not in stopwords_english and word not in string.punctuation):\n",
        "    sample_clean.append(word)\n",
        "print('removed stop word and punctuation:')\n",
        "print(sample_clean)"
      ],
      "metadata": {
        "id": "zrpIUlNAcFu3",
        "colab": {
          "base_uri": "https://localhost:8080/"
        },
        "outputId": "a03ba220-104e-4bad-cf7c-2ac79228bcbb"
      },
      "execution_count": 39,
      "outputs": [
        {
          "output_type": "stream",
          "name": "stdout",
          "text": [
            "\n",
            "\u001b[92m\n",
            "['i', 'do', 'n', \"'\", 't', 'write', 'many', 'reviews', 'but', 'i', \"'\", 'm', 'compelled', 'to', 'do', 'so', 'with', 'this', 'camera', '.']\n",
            "\u001b[94m\n",
            "removed stop word and punctuation:\n",
            "['n', 'write', 'many', 'reviews', 'compelled', 'camera']\n"
          ]
        }
      ]
    },
    {
      "cell_type": "code",
      "source": [
        "print()\n",
        "print('\\033[92m')\n",
        "print(sample_clean)\n",
        "print('\\033[94m')\n",
        "# Instantiate stemming class\n",
        "stemmer = PorterStemmer()\n",
        "# Create an empty list to store the stems\n",
        "sample_stem = []\n",
        "for word in sample_clean:\n",
        "  stem_word = stemmer.stem(word) # stemming word\n",
        "  sample_stem.append(stem_word) # append to the list\n",
        "print('stemmed words:')\n",
        "print(sample_stem)"
      ],
      "metadata": {
        "id": "4WG8oUimcsZC",
        "colab": {
          "base_uri": "https://localhost:8080/"
        },
        "outputId": "01df1dc9-c63b-48cc-e4a6-2e8248f8cabe"
      },
      "execution_count": 40,
      "outputs": [
        {
          "output_type": "stream",
          "name": "stdout",
          "text": [
            "\n",
            "\u001b[92m\n",
            "['n', 'write', 'many', 'reviews', 'compelled', 'camera']\n",
            "\u001b[94m\n",
            "stemmed words:\n",
            "['n', 'write', 'mani', 'review', 'compel', 'camera']\n"
          ]
        }
      ]
    },
    {
      "cell_type": "code",
      "source": [
        "print()\n",
        "print('\\033[92m')\n",
        "print(sample_clean)\n",
        "print('\\033[94m')\n",
        "# Instantiate stemming class\n",
        "stemmer = PorterStemmer()\n",
        "# Create an empty list to store the stems\n",
        "sample_stem = []\n",
        "for word in sample_clean:\n",
        "  stem_word = stemmer.stem(word) # stemming word\n",
        "  sample_stem.append(stem_word) # append to the list\n",
        "print('stemmed words:')\n",
        "print(sample_stem)"
      ],
      "metadata": {
        "id": "5TnopWxIcvmy",
        "colab": {
          "base_uri": "https://localhost:8080/"
        },
        "outputId": "65feece2-a7ec-47e7-d022-130f199ef26d"
      },
      "execution_count": 41,
      "outputs": [
        {
          "output_type": "stream",
          "name": "stdout",
          "text": [
            "\n",
            "\u001b[92m\n",
            "['n', 'write', 'many', 'reviews', 'compelled', 'camera']\n",
            "\u001b[94m\n",
            "stemmed words:\n",
            "['n', 'write', 'mani', 'review', 'compel', 'camera']\n"
          ]
        }
      ]
    },
    {
      "cell_type": "code",
      "source": [
        "print()\n",
        "print('\\033[92m')\n",
        "print(sample_clean)\n",
        "print('\\033[94m')\n",
        "# Instantiate stemming class\n",
        "wordnet_lemmatizer = WordNetLemmatizer()\n",
        "# Create an empty list to store the stems\n",
        "sample_lem = []\n",
        "for word in sample_clean:\n",
        "  lem_words = wordnet_lemmatizer.lemmatize(word)# stemming word\n",
        "  sample_lem.append(lem_words) # append to the list\n",
        "print('lemmatized words:')\n",
        "print(sample_lem)"
      ],
      "metadata": {
        "id": "w3aLy7Rzdw30",
        "colab": {
          "base_uri": "https://localhost:8080/"
        },
        "outputId": "ce6ce418-f17d-44a3-bbe9-fd8893ea6dfd"
      },
      "execution_count": 42,
      "outputs": [
        {
          "output_type": "stream",
          "name": "stdout",
          "text": [
            "\n",
            "\u001b[92m\n",
            "['n', 'write', 'many', 'reviews', 'compelled', 'camera']\n",
            "\u001b[94m\n",
            "lemmatized words:\n",
            "['n', 'write', 'many', 'review', 'compelled', 'camera']\n"
          ]
        }
      ]
    },
    {
      "cell_type": "markdown",
      "source": [
        "PANDAS"
      ],
      "metadata": {
        "id": "BVd4ytRt_bwQ"
      }
    },
    {
      "cell_type": "code",
      "source": [
        "import numpy as np\n",
        "import pandas as pd\n",
        "import matplotlib.pyplot as plt\n",
        "from google.colab import drive\n",
        "# drive.mount('/content/drive')"
      ],
      "metadata": {
        "id": "HBho_HDmXZFx"
      },
      "execution_count": 43,
      "outputs": []
    },
    {
      "cell_type": "code",
      "source": [
        "!kaggle datasets download -d ruiromanini/mtcars"
      ],
      "metadata": {
        "id": "_aCwbULpfCjp"
      },
      "execution_count": null,
      "outputs": []
    },
    {
      "cell_type": "code",
      "source": [
        "data=pd.read_csv('/content/drive/MyDrive/mtcars.csv')\n",
        "d=pd.crosstab(index=data['cyl'],columns=\"count\",dropna=True)\n",
        "print(d)"
      ],
      "metadata": {
        "id": "32XPDwrBeIeK"
      },
      "execution_count": null,
      "outputs": []
    },
    {
      "cell_type": "code",
      "source": [
        "data.head()"
      ],
      "metadata": {
        "id": "539BYTawjQUY"
      },
      "execution_count": null,
      "outputs": []
    },
    {
      "cell_type": "code",
      "source": [
        "data.tail()"
      ],
      "metadata": {
        "id": "sFeauUhqjV2w"
      },
      "execution_count": null,
      "outputs": []
    },
    {
      "cell_type": "code",
      "source": [
        "data.describe()"
      ],
      "metadata": {
        "id": "PExKcRObjbAn"
      },
      "execution_count": null,
      "outputs": []
    },
    {
      "cell_type": "code",
      "source": [
        "data.info()"
      ],
      "metadata": {
        "id": "31v7iW_mjsLf"
      },
      "execution_count": null,
      "outputs": []
    },
    {
      "cell_type": "code",
      "source": [
        "#Count Total Null values in each column\n",
        "print(\"Total Null Data:\",data.isnull().sum())"
      ],
      "metadata": {
        "id": "5eW62gq0jyHH"
      },
      "execution_count": null,
      "outputs": []
    },
    {
      "cell_type": "code",
      "source": [
        "# Finding the Histogram\n",
        "# From the given dataset ‘mtcars.csv’, plot a histogram to check the frequency␣distributi on of the variable ‘mpg’.\n",
        "plt.hist(data['mpg'],bins=5)\n",
        "plt.show()"
      ],
      "metadata": {
        "id": "rNj6ffGoj6FX"
      },
      "execution_count": null,
      "outputs": []
    },
    {
      "cell_type": "code",
      "source": [
        "#scatter plot of ‘mpg’ (Miles per gallon) vs ‘wt’ (Weight of car)\n",
        "plt.scatter(data['mpg'],data['wt'])\n",
        "plt.show()"
      ],
      "metadata": {
        "id": "0bQ7aaCLkI-_"
      },
      "execution_count": null,
      "outputs": []
    },
    {
      "cell_type": "code",
      "source": [
        "#In the dataframe, under the variable gear count total records in each value\n",
        "df=pd.DataFrame(data,columns=['gear'])\n",
        "print(\"Count How many values:\\n\",df['gear'].value_counts())"
      ],
      "metadata": {
        "id": "Qtfqe3sskp9G"
      },
      "execution_count": null,
      "outputs": []
    },
    {
      "cell_type": "code",
      "source": [
        "data.values"
      ],
      "metadata": {
        "id": "1urJmGZFk_4O"
      },
      "execution_count": null,
      "outputs": []
    },
    {
      "cell_type": "code",
      "source": [
        "data.loc[5:'mpg']"
      ],
      "metadata": {
        "id": "SVzpvhx4lLsX"
      },
      "execution_count": null,
      "outputs": []
    },
    {
      "cell_type": "code",
      "source": [
        "display(data.loc[2 : 5])"
      ],
      "metadata": {
        "id": "hyKdSS0Rl0x2"
      },
      "execution_count": null,
      "outputs": []
    },
    {
      "cell_type": "code",
      "source": [
        "display(data.iloc[1 : 5, 2 : 5])"
      ],
      "metadata": {
        "id": "bB8UEnfXl6ZY"
      },
      "execution_count": null,
      "outputs": []
    },
    {
      "cell_type": "code",
      "source": [
        "inf=pd.read_csv('/content/drive/MyDrive/Colab Notebooks/iris.csv')"
      ],
      "metadata": {
        "id": "3HWYWkaFm_Xg"
      },
      "execution_count": null,
      "outputs": []
    },
    {
      "cell_type": "code",
      "source": [
        "from google.colab import drive\n",
        "drive.mount('/content/drive')"
      ],
      "metadata": {
        "id": "K-QwRHZnPvwr"
      },
      "execution_count": null,
      "outputs": []
    },
    {
      "cell_type": "markdown",
      "source": [
        "1)Draw Scatter Plot between SepalLengthCm and SepalWidthCm for “Iris.csv” file with proper labelling."
      ],
      "metadata": {
        "id": "0gSdHQe0nRJM"
      }
    },
    {
      "cell_type": "code",
      "source": [
        "plt.scatter(inf['SepalLengthCm'],inf['SepalWidthCm'])\n",
        "plt.show()"
      ],
      "metadata": {
        "id": "Lz2kzV3MnTad"
      },
      "execution_count": null,
      "outputs": []
    },
    {
      "cell_type": "markdown",
      "source": [
        "2) Draw Histogram of SepalLengthCm with proper labelling."
      ],
      "metadata": {
        "id": "R5o6b-J3nfJb"
      }
    },
    {
      "cell_type": "code",
      "source": [
        "plt.hist(inf['SepalLengthCm'],bins=5)\n",
        "plt.show()"
      ],
      "metadata": {
        "id": "kCj8MJ_HnjWe"
      },
      "execution_count": null,
      "outputs": []
    },
    {
      "cell_type": "markdown",
      "source": [
        "3) Plot bar chart of Species."
      ],
      "metadata": {
        "id": "SmK7jfFDnuWe"
      }
    },
    {
      "cell_type": "code",
      "source": [
        "df = pd.DataFrame(inf)\n",
        "Y = list(df.iloc[:, 0])\n",
        "X = list(df.loc[:, 'Species'])\n",
        "plt.bar(X, Y, color='r')\n",
        "plt.xlabel(\"Specis\")\n",
        "plt.ylabel(\"Id\")"
      ],
      "metadata": {
        "id": "C1IT_fJKnvVU"
      },
      "execution_count": null,
      "outputs": []
    },
    {
      "cell_type": "markdown",
      "source": [
        "4) Count total null values for each column in this dataset."
      ],
      "metadata": {
        "id": "RzzBo_g0oCxn"
      }
    },
    {
      "cell_type": "code",
      "source": [
        "print(\"Total Null Data:\",inf.isnull().sum())"
      ],
      "metadata": {
        "id": "FW3nfJAAoEM8"
      },
      "execution_count": null,
      "outputs": []
    },
    {
      "cell_type": "markdown",
      "source": [
        "5) i) Print first 5 rows of SepalLengthCm. ii) Print from 5th row and onwards and entire column of Iris.csv dataset."
      ],
      "metadata": {
        "id": "FliD_pOloJEM"
      }
    },
    {
      "cell_type": "code",
      "source": [
        "info.head()"
      ],
      "metadata": {
        "id": "Lk2LrUdooLWU"
      },
      "execution_count": null,
      "outputs": []
    },
    {
      "cell_type": "code",
      "source": [
        " # selecting range of rows from 5 to\n",
        "display(info.loc[5 : ])"
      ],
      "metadata": {
        "id": "F1iYwHByoPn8"
      },
      "execution_count": null,
      "outputs": []
    },
    {
      "cell_type": "code",
      "source": [
        "import numpy as np\n",
        "import matplotlib as plt\n",
        "from sklearn import datasets #various toy datasets\n",
        "from sklearn import metrics #Check accuracy of model\n",
        "from sklearn.linear_model import LogisticRegression #various supervised and unsupervised learning algorithms"
      ],
      "metadata": {
        "id": "kXUpYhc5oTcd"
      },
      "execution_count": null,
      "outputs": []
    },
    {
      "cell_type": "code",
      "source": [
        "iris = datasets.load_iris()"
      ],
      "metadata": {
        "id": "4MQPCQ5_oo3F"
      },
      "execution_count": null,
      "outputs": []
    },
    {
      "cell_type": "code",
      "source": [
        "X = iris.data\n",
        "y= iris.target\n",
        "feature_names = iris.feature_names\n",
        "target_names = iris.target_names\n",
        "print(\"Feature names:\", feature_names)\n",
        "print(\"Target names:\", target_names)\n",
        "print(\"\\nFirst 10 rows of X:\\n\", X[:10])"
      ],
      "metadata": {
        "id": "VJHYWWLnop18"
      },
      "execution_count": null,
      "outputs": []
    },
    {
      "cell_type": "code",
      "source": [
        "from sklearn.model_selection import train_test_split"
      ],
      "metadata": {
        "id": "UhHqDsOltAHa"
      },
      "execution_count": null,
      "outputs": []
    },
    {
      "cell_type": "code",
      "source": [
        "X_train, X_test, y_train, y_test = train_test_split(\n",
        "X, y, test_size = 0.4, random_state=1\n",
        ")"
      ],
      "metadata": {
        "id": "cuOQjMX2te60"
      },
      "execution_count": null,
      "outputs": []
    },
    {
      "cell_type": "markdown",
      "source": [
        "Exercise: Perform the above steps on any other dataset available in Sklearn library."
      ],
      "metadata": {
        "id": "sUu9naq9tkLs"
      }
    },
    {
      "cell_type": "code",
      "source": [
        "digits = datasets.load_digits()"
      ],
      "metadata": {
        "id": "TtmIUCbEtoGY"
      },
      "execution_count": null,
      "outputs": []
    },
    {
      "cell_type": "code",
      "source": [
        "X = digits.data\n",
        "y= digits.target\n",
        "feature_names = digits.feature_names\n",
        "target_names = digits.target_names\n",
        "print(\"Feature names:\", feature_names)\n",
        "print(\"Target names:\", target_names)\n",
        "print(\"\\nFirst 10 rows of X:\\n\", X[:10])\n"
      ],
      "metadata": {
        "id": "1XSqL7dLwXr7"
      },
      "execution_count": null,
      "outputs": []
    },
    {
      "cell_type": "code",
      "source": [
        "from sklearn.model_selection import train_test_split"
      ],
      "metadata": {
        "id": "AQixmqNQwasb"
      },
      "execution_count": null,
      "outputs": []
    },
    {
      "cell_type": "code",
      "source": [
        "X_train, X_test, y_train, y_test = train_test_split(\n",
        "X, y, test_size = 0.4, random_state=1\n",
        ")"
      ],
      "metadata": {
        "id": "ab6_hpXiwdzg"
      },
      "execution_count": null,
      "outputs": []
    }
  ]
}