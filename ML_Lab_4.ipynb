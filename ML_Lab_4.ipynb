{
  "nbformat": 4,
  "nbformat_minor": 0,
  "metadata": {
    "colab": {
      "provenance": [],
      "authorship_tag": "ABX9TyNOM1JmRCOmzTVxufKyvTzr",
      "include_colab_link": true
    },
    "kernelspec": {
      "name": "python3",
      "display_name": "Python 3"
    },
    "language_info": {
      "name": "python"
    }
  },
  "cells": [
    {
      "cell_type": "markdown",
      "metadata": {
        "id": "view-in-github",
        "colab_type": "text"
      },
      "source": [
        "<a href=\"https://colab.research.google.com/github/Kushalpatel3121/ML-Labs/blob/main/ML_Lab_4.ipynb\" target=\"_parent\"><img src=\"https://colab.research.google.com/assets/colab-badge.svg\" alt=\"Open In Colab\"/></a>"
      ]
    },
    {
      "cell_type": "code",
      "execution_count": null,
      "metadata": {
        "id": "xxjoh20UsK4j"
      },
      "outputs": [],
      "source": [
        "# Import Numpy & PyTorch\n",
        "import numpy as np\n",
        "import torch"
      ]
    },
    {
      "cell_type": "code",
      "source": [
        "#single feature x,target,prediction,feature,byes\n",
        "# generate model\n",
        "\n",
        "# Target (apples)\n",
        "targets = np.array([[56],\n",
        "[81],\n",
        "[119],\n",
        "[22],\n",
        "[103]], dtype='float32')\n",
        "\n",
        "#temperature\n",
        "inputs=np.array([[73],\n",
        "[91],\n",
        "[87],\n",
        "[102],\n",
        "[69]], dtype='float32') \n",
        "\n",
        "# taking random values(theta1)\n",
        "weight = np.array([[12],\n",
        "[21],\n",
        "[18],\n",
        "[32],\n",
        "[25]], dtype='float32')\n",
        "\n",
        "#bias\n",
        "bias = np.array([[1],[1],[1],[1],[1]],dtype='float32')\n",
        "\n",
        "# Generate predictions\n",
        "\n",
        "prediction = (inputs*weight) + bias\n",
        "\n",
        "print(prediction)\n",
        "MSE=np.square(np.subtract(targets,prediction)).mean()\n",
        "\n",
        "print(MSE)\n"
      ],
      "metadata": {
        "colab": {
          "base_uri": "https://localhost:8080/"
        },
        "id": "-gy2lTILvctj",
        "outputId": "d234d9ae-f3d0-49f6-b86e-e83191ffae74"
      },
      "execution_count": null,
      "outputs": [
        {
          "output_type": "stream",
          "name": "stdout",
          "text": [
            "[[ 877.]\n",
            " [1912.]\n",
            " [1567.]\n",
            " [3265.]\n",
            " [1726.]]\n",
            "3854896.8\n"
          ]
        }
      ]
    },
    {
      "cell_type": "code",
      "source": [
        "# Input (temp, rainfall, humidity)\n",
        "inputs = np.array([[73, 67, 43],\n",
        "[91, 88, 64],\n",
        "[87, 134, 58],\n",
        "[102, 43, 37],\n",
        "[69, 96, 70]], dtype='float32')\n",
        "# Target (apples)\n",
        "targets = np.array([[56],\n",
        "[81],\n",
        "[119],\n",
        "[22],\n",
        "[103]], dtype='float32')\n",
        "from torch.utils.data import TensorDataset,DataLoader\n",
        "inputs = torch.from_numpy(inputs)\n",
        "targets = torch.from_numpy(targets)\n",
        "# print(inputs)\n",
        "# print(targets)\n",
        "dataset = TensorDataset(inputs,targets)\n",
        "# print(dataset[:5])\n",
        "#divide datasets into batches\n",
        "train_loader = DataLoader(dataset, batch_size=4, shuffle=True)\n",
        "# tuple(train_loader)\n",
        "\n",
        "# generate random values with ean 0 and variance 1\n",
        "weights= torch.randn(1,3, requires_grad=True)\n",
        "biass = torch.randn(1, requires_grad=True)\n",
        "\n",
        "# print(weights)\n",
        "# print(biass)\n",
        "\n",
        "def model(X):\n",
        "  return X @ weights.t() + biass  # '@' - for matrix multiplication\n",
        "\n",
        "def MSE_loss(predictions, targets):\n",
        "  diff = predictions - targets\n",
        "  return torch.sum(diff * diff)/diff.numel() #numel return number of elements in tensor\n",
        "\n",
        "for x,y in train_loader:\n",
        "    predictions = model(x)\n",
        "    print(\"Prediction is:\\n\",predictions)\n",
        "    print(\"\\Actual target is:\\n\",y)\n",
        "    print(\"\\nLoss is: \",MSE_loss(predictions,y))\n",
        "\n",
        "  #training the model\n",
        "epochs = 100\n",
        "for i in range(epochs):\n",
        "  for x,y in train_loader:\n",
        "    pds = model(x)\n",
        "\n",
        "    loss = MSE_loss(pds,y)\n",
        "    loss.backward()\n",
        "    # Let's update the weights\n",
        "    with torch.no_grad():\n",
        "        weights -= weights.grad *1e-5\n",
        "        biass -= biass.grad * 1e-5\n",
        "        # Set the gradients to zero\n",
        "        weights.grad.zero_()\n",
        "        biass.grad.zero_()\n",
        "print(\"Loss: \",loss)\n",
        "\n",
        "for x,y in train_loader:\n",
        "  preds= model(x)\n",
        "  print(\"\\nFinal Prediction is :\\n\",preds)\n",
        "  print(\"\\nActual targets are :\\n\",y)\n",
        "  break\n",
        "    \n",
        "\n"
      ],
      "metadata": {
        "colab": {
          "base_uri": "https://localhost:8080/"
        },
        "id": "yqLSJPDq1VWJ",
        "outputId": "f58501a6-1d7e-4d85-d2f9-a00bb79cc480"
      },
      "execution_count": null,
      "outputs": [
        {
          "output_type": "stream",
          "name": "stdout",
          "text": [
            "Prediction is:\n",
            " tensor([[-95.0942],\n",
            "        [-51.3958],\n",
            "        [-38.6394],\n",
            "        [-11.8155]], grad_fn=<AddBackward0>)\n",
            "\\Actual target is:\n",
            " tensor([[119.],\n",
            "        [ 81.],\n",
            "        [ 56.],\n",
            "        [ 22.]])\n",
            "\n",
            "Loss is:  tensor(18366.2695, grad_fn=<DivBackward0>)\n",
            "Prediction is:\n",
            " tensor([[-62.2070]], grad_fn=<AddBackward0>)\n",
            "\\Actual target is:\n",
            " tensor([[103.]])\n",
            "\n",
            "Loss is:  tensor(27293.3633, grad_fn=<DivBackward0>)\n",
            "Loss:  tensor(1.2452, grad_fn=<DivBackward0>)\n",
            "\n",
            "Final Prediction is :\n",
            " tensor([[ 99.1742],\n",
            "        [ 25.4736],\n",
            "        [ 57.7655],\n",
            "        [114.8558]], grad_fn=<AddBackward0>)\n",
            "\n",
            "Actual targets are :\n",
            " tensor([[103.],\n",
            "        [ 22.],\n",
            "        [ 56.],\n",
            "        [119.]])\n"
          ]
        }
      ]
    },
    {
      "cell_type": "markdown",
      "source": [
        "# **LAB 4_1**"
      ],
      "metadata": {
        "id": "a0vjg_mhFB1n"
      }
    },
    {
      "cell_type": "code",
      "source": [
        "# Import Numpy & PyTorch\n",
        "import numpy as np\n",
        "import torch\n",
        "import torch.nn as nn\n",
        "# Input (temp, rainfall, humidity)\n",
        "inputs = np.array([[73, 67, 43], [91, 88, 64], [87, 134, 58], [102, 43, 37],[69, 96, 70], [73, 67, 43], [91, 88, 64], [87, 134, 58], [102, 43, 37], [69,96, 70], [73, 67, 43], [91, 88, 64], [87, 134, 58], [102, 43, 37], [69, 96,70]], dtype='float32')\n",
        "# Targets (apples, oranges)\n",
        "targets = np.array([[56, 70], [81, 101], [119, 133], [22, 37], [103, 119],\n",
        "[56, 70], [81, 101], [119, 133], [22, 37], [103, 119],\n",
        "[56, 70], [81, 101], [119, 133], [22, 37], [103, 119]],dtype='float32')\n",
        "inputs = torch.from_numpy(inputs)\n",
        "targets = torch.from_numpy(targets)\n",
        "# Define dataset\n",
        "train_ds = TensorDataset(inputs,targets)\n",
        "\n",
        "# Define data loader\n",
        "batch_size = 5\n",
        "train_dl = DataLoader(train_ds, batch_size, shuffle=True)\n",
        "next(iter(train_dl))\n",
        "\n",
        "# Define model\n",
        "model = nn.Linear(3,2)\n",
        "print(model.weight)\n",
        "print(model.bias)\n",
        "\n",
        "# Define optimizer\n",
        "opt = torch.optim.SGD(model.parameters(), lr=1e-5)\n",
        "\n",
        "# Define loss function\n",
        "import torch.nn.functional as F\n",
        "loss_fn = F.mse_loss\n",
        "loss = loss_fn(model(inputs), targets)\n",
        "print(loss)\n",
        "\n",
        "#definr utility function to train the model\n",
        "def fit(num_epochs,model,loss_fn,opt):\n",
        "  for epochs in range(num_epochs):\n",
        "    for xb,yb in train_dl:\n",
        "      #generate prediction\n",
        "      pred = model(xb)\n",
        "      loss = loss_fn(pred, yb)\n",
        "      #perform gradient descent\n",
        "      loss.backward()\n",
        "      opt.step()\n",
        "      opt.zero_grad()\n",
        "  print('Training loss: ', loss_fn(model(inputs), targets))\n",
        "# Train the model for 100 epochs\n",
        "fit(100, model, loss_fn, opt)\n",
        "\n",
        "\n",
        "\n",
        "\n"
      ],
      "metadata": {
        "colab": {
          "base_uri": "https://localhost:8080/"
        },
        "id": "4bY0RptV5tPY",
        "outputId": "d22de29c-91ee-4430-9c0b-86bc451ff5ec"
      },
      "execution_count": null,
      "outputs": [
        {
          "output_type": "stream",
          "name": "stdout",
          "text": [
            "Parameter containing:\n",
            "tensor([[0.0368, 0.4942, 0.0673],\n",
            "        [0.4179, 0.2445, 0.0446]], requires_grad=True)\n",
            "Parameter containing:\n",
            "tensor([ 0.2997, -0.2302], requires_grad=True)\n",
            "tensor(1569.0725, grad_fn=<MseLossBackward0>)\n",
            "Training loss:  tensor(31.5979, grad_fn=<MseLossBackward0>)\n"
          ]
        }
      ]
    },
    {
      "cell_type": "code",
      "source": [
        "# Generate predictions\n",
        "preds = model(inputs)\n",
        "preds"
      ],
      "metadata": {
        "colab": {
          "base_uri": "https://localhost:8080/"
        },
        "id": "vOIMn7IZOVPC",
        "outputId": "a55ca484-7bf6-4a04-8531-708a2ed95386"
      },
      "execution_count": null,
      "outputs": [
        {
          "output_type": "execute_result",
          "data": {
            "text/plain": [
              "tensor([[ 58.1299,  71.6908],\n",
              "        [ 79.8473,  97.5189],\n",
              "        [121.8190, 136.9782],\n",
              "        [ 26.6430,  45.5945],\n",
              "        [ 94.6789, 108.6704],\n",
              "        [ 58.1299,  71.6908],\n",
              "        [ 79.8473,  97.5189],\n",
              "        [121.8190, 136.9782],\n",
              "        [ 26.6430,  45.5945],\n",
              "        [ 94.6789, 108.6704],\n",
              "        [ 58.1299,  71.6908],\n",
              "        [ 79.8473,  97.5189],\n",
              "        [121.8190, 136.9782],\n",
              "        [ 26.6430,  45.5945],\n",
              "        [ 94.6789, 108.6704]], grad_fn=<AddmmBackward0>)"
            ]
          },
          "metadata": {},
          "execution_count": 41
        }
      ]
    },
    {
      "cell_type": "code",
      "source": [
        "# Compare with targets\n",
        "print(targets)"
      ],
      "metadata": {
        "colab": {
          "base_uri": "https://localhost:8080/"
        },
        "id": "3cHjRaC2OlqA",
        "outputId": "bac7b90c-5206-4d54-90f1-ba9f7ea0e9a2"
      },
      "execution_count": null,
      "outputs": [
        {
          "output_type": "stream",
          "name": "stdout",
          "text": [
            "tensor([[ 56.,  70.],\n",
            "        [ 81., 101.],\n",
            "        [119., 133.],\n",
            "        [ 22.,  37.],\n",
            "        [103., 119.],\n",
            "        [ 56.,  70.],\n",
            "        [ 81., 101.],\n",
            "        [119., 133.],\n",
            "        [ 22.,  37.],\n",
            "        [103., 119.],\n",
            "        [ 56.,  70.],\n",
            "        [ 81., 101.],\n",
            "        [119., 133.],\n",
            "        [ 22.,  37.],\n",
            "        [103., 119.]])\n"
          ]
        }
      ]
    },
    {
      "cell_type": "markdown",
      "source": [
        "# **Exercise 1:**\n",
        "Try Linear Regression just using numpy (Without Tensorflow/Pytorch or other torch library). You can optionally use sklearn (if you want)."
      ],
      "metadata": {
        "id": "2StIwEe5Pw7Q"
      }
    },
    {
      "cell_type": "code",
      "source": [
        "import numpy as np\n",
        "import torch\n",
        "inputs = np.array([[73,67,43],\n",
        "                   [91,88,64],\n",
        "                   [87,134,58],\n",
        "                   [102,43,37],\n",
        "                   [69,96,70]],dtype='float32')\n",
        "targets = np.array([[56],\n",
        "                    [81],\n",
        "                    [119],\n",
        "                    [22],\n",
        "                    [103]],dtype='float32')\n",
        " # Convert inputs and targets to tensors\n",
        "inputs = torch.from_numpy(inputs)\n",
        "print(inputs)\n",
        "targets = torch.from_numpy(targets)\n",
        "print(targets)"
      ],
      "metadata": {
        "id": "-xd-su2vPyVy",
        "colab": {
          "base_uri": "https://localhost:8080/"
        },
        "outputId": "46ce0329-5230-476f-dbfa-135c96096439"
      },
      "execution_count": null,
      "outputs": [
        {
          "output_type": "stream",
          "name": "stdout",
          "text": [
            "tensor([[ 73.,  67.,  43.],\n",
            "        [ 91.,  88.,  64.],\n",
            "        [ 87., 134.,  58.],\n",
            "        [102.,  43.,  37.],\n",
            "        [ 69.,  96.,  70.]])\n",
            "tensor([[ 56.],\n",
            "        [ 81.],\n",
            "        [119.],\n",
            "        [ 22.],\n",
            "        [103.]])\n"
          ]
        }
      ]
    },
    {
      "cell_type": "code",
      "source": [
        "# Weights and biases\n",
        "w = torch.randn(1,3,requires_grad =True)\n",
        "print(w)\n",
        "b = torch.randn(1,requires_grad=True)\n",
        "print(b)\n",
        "# Define the model\n",
        "def model(x):\n",
        "  return torch.mm(x,w.t(),out=None) +b\n",
        "# Generate predictions\n",
        "# Compare with targets\n",
        "\n",
        "preds = model(inputs)\n",
        "print(\"Prediction :\",preds)\n",
        "print(\"Targets :\",targets)\n",
        "# MSE loss\n",
        "# Compute loss\n",
        "def mse(P,T):\n",
        "  diff = 0\n",
        "  i=0\n",
        "  sum=0\n",
        "  n=len(T)\n",
        "  for k in range(0,n):\n",
        "    i+=1\n",
        "    diff = T[k] - P[k]\n",
        "    square = diff*diff\n",
        "    sum+=square\n",
        "  mean = sum/i\n",
        "  return mean\n",
        "\n",
        "output = mse(preds,targets)\n",
        "print(\"Loss :\",output)\n",
        "# Compute gradients\n",
        "print(\"Gradient :\",output.backward())\n",
        "# Gradients for weights\n",
        "print(w)\n",
        "print(w.grad)\n",
        "# Gradients for bias\n",
        "print(b)\n",
        "print(b.grad)\n",
        "# Compute gradients\n",
        "with torch.no_grad():\n",
        "  w-=w.grad*1e-5\n",
        "  b-=b.grad*1e-5\n",
        "  w.grad.zero_()\n",
        "  b.grad.zero_()\n",
        "print(w)\n",
        "print(b)\n",
        "# Generate predictions\n",
        "# Calculate the loss\n",
        "new_preds = model(inputs)\n",
        "new_loss = mse(new_preds,targets)\n",
        "print(\"New Loss :\",new_loss)\n",
        "# Train for 100 epochs\n",
        "for i in range(100):\n",
        "  preds = model(inputs)\n",
        "  loss = mse(preds,targets)\n",
        "  loss.backward()\n",
        "  with torch.no_grad():\n",
        "    w-=w.grad * 1e-5\n",
        "    b-=b.grad * 1e-5\n",
        "    w.grad.zero_()\n",
        "    b.grad.zero_()\n",
        "# Calculate loss\n",
        "preds = model(inputs)\n",
        "loss = mse(preds,targets)\n",
        "print(loss)"
      ],
      "metadata": {
        "colab": {
          "base_uri": "https://localhost:8080/"
        },
        "id": "m-ZagVDwIur6",
        "outputId": "fa51aa53-079c-44c8-b139-2ed336b94149"
      },
      "execution_count": null,
      "outputs": [
        {
          "output_type": "stream",
          "name": "stdout",
          "text": [
            "tensor([[1.7109, 0.8180, 0.1667]], requires_grad=True)\n",
            "tensor([-0.9276], requires_grad=True)\n",
            "Prediction : tensor([[185.9344],\n",
            "        [237.4066],\n",
            "        [267.1891],\n",
            "        [214.9186],\n",
            "        [207.3112]], grad_fn=<AddBackward0>)\n",
            "Targets : tensor([[ 56.],\n",
            "        [ 81.],\n",
            "        [119.],\n",
            "        [ 22.],\n",
            "        [103.]])\n",
            "Loss : tensor([22280.8770], grad_fn=<DivBackward0>)\n",
            "Gradient : None\n",
            "tensor([[1.7109, 0.8180, 0.1667]], requires_grad=True)\n",
            "tensor([[25394.3320, 24254.4395, 15452.7764]])\n",
            "tensor([-0.9276], requires_grad=True)\n",
            "tensor([292.7039])\n",
            "tensor([[1.4569, 0.5754, 0.0121]], requires_grad=True)\n",
            "tensor([-0.9305], requires_grad=True)\n",
            "New Loss : tensor([10189.4043], grad_fn=<DivBackward0>)\n",
            "tensor([186.1981], grad_fn=<DivBackward0>)\n"
          ]
        }
      ]
    },
    {
      "cell_type": "markdown",
      "source": [
        "Exercise 2: Try Linear regression on same prediction data using Tensorflow."
      ],
      "metadata": {
        "id": "xLwvoeqHJP8J"
      }
    },
    {
      "cell_type": "code",
      "source": [
        " # Imports\n",
        "import torch.nn as nn\n",
        "print(inputs)\n",
        "print(targets)"
      ],
      "metadata": {
        "colab": {
          "base_uri": "https://localhost:8080/"
        },
        "id": "RIbbDC19JUCJ",
        "outputId": "4561ff0b-a6b9-42e2-f4b6-8c82251729be"
      },
      "execution_count": null,
      "outputs": [
        {
          "output_type": "stream",
          "name": "stdout",
          "text": [
            "tensor([[ 73.,  67.,  43.],\n",
            "        [ 91.,  88.,  64.],\n",
            "        [ 87., 134.,  58.],\n",
            "        [102.,  43.,  37.],\n",
            "        [ 69.,  96.,  70.]])\n",
            "tensor([[ 56.],\n",
            "        [ 81.],\n",
            "        [119.],\n",
            "        [ 22.],\n",
            "        [103.]])\n"
          ]
        }
      ]
    },
    {
      "cell_type": "code",
      "source": [
        "def model1(x):\n",
        "  return x @ w.t() +b\n",
        "preds = model(inputs)\n",
        "print(\"Prediction :\",preds)\n",
        "print(\"Targets :\",targets)\n",
        "loss = nn.MSELoss()\n",
        "output = loss(preds,targets)\n",
        "output.backward()\n",
        "print(\"Loss :\",output)\n",
        "print(w)\n",
        "print(w.grad)\n",
        "print(b)\n",
        "print(b.grad)\n",
        "for i in range(100):\n",
        "    preds = model(inputs)\n",
        "    loss = mse(preds, targets)\n",
        "    loss.backward()\n",
        "    with torch.no_grad():\n",
        "        w -= w.grad * 1e-5\n",
        "        b -= b.grad * 1e-5\n",
        "        w.grad.zero_()\n",
        "        b.grad.zero_()\n",
        "preds = model1(inputs)\n",
        "loss = mse(preds,targets)\n",
        " \n",
        "print(loss)\n"
      ],
      "metadata": {
        "colab": {
          "base_uri": "https://localhost:8080/"
        },
        "id": "vJxBlXxcJaFJ",
        "outputId": "c516012f-48f5-483c-d7f0-c9c00865904b"
      },
      "execution_count": null,
      "outputs": [
        {
          "output_type": "stream",
          "name": "stdout",
          "text": [
            "Prediction : tensor([[ 56.9378],\n",
            "        [ 81.5094],\n",
            "        [118.1912],\n",
            "        [ 20.8060],\n",
            "        [101.2179]], grad_fn=<AddBackward0>)\n",
            "Targets : tensor([[ 56.],\n",
            "        [ 81.],\n",
            "        [119.],\n",
            "        [ 22.],\n",
            "        [103.]])\n",
            "Loss : tensor(1.2789, grad_fn=<MseLossBackward0>)\n",
            "tensor([[-0.1606,  0.9932,  0.1078]], requires_grad=True)\n",
            "tensor([[0., 0., 0.]])\n",
            "tensor([-0.9424], requires_grad=True)\n",
            "tensor([0.])\n",
            "tensor([48.4775], grad_fn=<DivBackward0>)\n"
          ]
        }
      ]
    },
    {
      "cell_type": "markdown",
      "source": [
        "4 Ecxercise 1.1"
      ],
      "metadata": {
        "id": "CzUDQI_rV8FD"
      }
    },
    {
      "cell_type": "markdown",
      "source": [
        "Estimate the value of model parameters(weights and bias) and MSE Loss after training for\n",
        "1000 epochs."
      ],
      "metadata": {
        "id": "rZI-VCtIWTfV"
      }
    },
    {
      "cell_type": "code",
      "source": [
        "import numpy as np\n",
        "import torch\n",
        "from torch.utils.data import TensorDataset, DataLoader\n",
        "\n",
        "input = np.array([[73, 67, 43], [91, 88, 64], [87, 134, 58], [102, 43, 37], [69, 96, 70]], dtype='float32')\n",
        "\n",
        "target = np.array([[56], [81], [119], [22], [103] ], dtype='float32')\n",
        "\n",
        "inputs = torch.from_numpy(input)\n",
        "targets = torch.from_numpy(target)\n",
        "\n",
        "dataset = TensorDataset(inputs, targets)\n",
        "\n",
        "# To divide dataset into the batches\n",
        "train_loader = DataLoader(dataset, batch_size=4, shuffle=True)\n",
        "\n",
        "# torch,randn generates random value matrix such that mean = 0 and variance = 1\n",
        "\n",
        "# 1x3 random value matrix\n",
        "weight = torch.randn(1,3, requires_grad=True)\n",
        "\n",
        "# 1x1 random value matrix\n",
        "biass = torch.rand(1, requires_grad=True)\n",
        "\n",
        "def mse_loss_function(prediction, target):\n",
        "  difference = prediction - target\n",
        "  difference_square = difference * difference\n",
        "  return torch.sum(difference_square) /difference.numel() \n",
        "\n",
        "\n",
        "\n",
        "def model(X):\n",
        "  return X @ weight.T + biass # input matrix and weight matrix multiplication and add bias\n",
        "\n",
        "for x, y in train_loader:\n",
        "  prediction = model(x)\n",
        "\n",
        "  print(\"Initial Prediction: \", prediction)\n",
        "  print(\"Actual: \", y)\n",
        "\n",
        "  print(\"Initial Loss: \", mse_loss_function(prediction, y))\n",
        "\n",
        "\n",
        "# Training\n",
        "\n",
        "epochs = 1000\n",
        "\n",
        "for i in range(epochs):\n",
        "\n",
        "  for x,y in train_loader:\n",
        "    preds = model(x)\n",
        "    loss = mse_loss_function(preds, y)\n",
        "\n",
        "    loss.backward()\n",
        "\n",
        "    with torch.no_grad():\n",
        "      weight -= weight.grad * 1e-5\n",
        "      biass -= biass.grad * 1e-5\n",
        "\n",
        "      weight.grad.zero_()\n",
        "      biass.grad.zero_()\n",
        "\n",
        "\n",
        "\n",
        "\n",
        "\n",
        "# Final\n",
        "for x, y in train_loader:\n",
        "  prediction = model(x)\n",
        "\n",
        "  print()\n",
        "  print()\n",
        "\n",
        "  print(\"Final Prediction: \", prediction)\n",
        "  print(\"Actual: \", y)\n",
        "\n",
        "  print(\"Final Loss: \", mse_loss_function(prediction, y))"
      ],
      "metadata": {
        "colab": {
          "base_uri": "https://localhost:8080/"
        },
        "id": "8wntxx0EVxNk",
        "outputId": "3e46ea8c-4f94-467e-b5e5-44f61809fb5a"
      },
      "execution_count": null,
      "outputs": [
        {
          "output_type": "stream",
          "name": "stdout",
          "text": [
            "Initial Prediction:  tensor([[-134.8450],\n",
            "        [ -85.4040],\n",
            "        [-180.2136],\n",
            "        [-118.8040]], grad_fn=<AddBackward0>)\n",
            "Actual:  tensor([[ 81.],\n",
            "        [103.],\n",
            "        [ 22.],\n",
            "        [119.]])\n",
            "Initial Loss:  tensor(44881.5469, grad_fn=<DivBackward0>)\n",
            "Initial Prediction:  tensor([[-112.8036]], grad_fn=<AddBackward0>)\n",
            "Actual:  tensor([[56.]])\n",
            "Initial Loss:  tensor(28494.6406, grad_fn=<DivBackward0>)\n",
            "\n",
            "\n",
            "Final Prediction:  tensor([[118.9919],\n",
            "        [ 57.5586],\n",
            "        [ 21.5108],\n",
            "        [102.3506]], grad_fn=<AddBackward0>)\n",
            "Actual:  tensor([[119.],\n",
            "        [ 56.],\n",
            "        [ 22.],\n",
            "        [103.]])\n",
            "Final Loss:  tensor(0.7726, grad_fn=<DivBackward0>)\n",
            "\n",
            "\n",
            "Final Prediction:  tensor([[82.6352]], grad_fn=<AddBackward0>)\n",
            "Actual:  tensor([[81.]])\n",
            "Final Loss:  tensor(2.6739, grad_fn=<DivBackward0>)\n"
          ]
        }
      ]
    },
    {
      "cell_type": "markdown",
      "source": [
        "Take the learning rate value as 0.1 and train the model. Write in brief the impact of this\n",
        "learning rate on the model."
      ],
      "metadata": {
        "id": "1qj8IKLzWX9t"
      }
    },
    {
      "cell_type": "code",
      "source": [
        "import numpy as np\n",
        "import torch\n",
        "from torch.utils.data import TensorDataset, DataLoader\n",
        "\n",
        "input = np.array([[73, 67, 43], [91, 88, 64], [87, 134, 58], [102, 43, 37], [69, 96, 70]], dtype='float32')\n",
        "\n",
        "target = np.array([[56], [81], [119], [22], [103] ], dtype='float32')\n",
        "\n",
        "inputs = torch.from_numpy(input)\n",
        "targets = torch.from_numpy(target)\n",
        "\n",
        "dataset = TensorDataset(inputs, targets)\n",
        "\n",
        "# To divide dataset into the batches\n",
        "train_loader = DataLoader(dataset, batch_size=4, shuffle=True)\n",
        "\n",
        "# torch,randn generates random value matrix such that mean = 0 and variance = 1\n",
        "\n",
        "# 1x3 random value matrix\n",
        "weight = torch.randn(1,3, requires_grad=True)\n",
        "\n",
        "# 1x1 random value matrix\n",
        "biass = torch.rand(1, requires_grad=True)\n",
        "\n",
        "def mse_loss_function(prediction, target):\n",
        "  difference = prediction - target\n",
        "  difference_square = difference * difference\n",
        "  return torch.sum(difference_square) /difference.numel() \n",
        "\n",
        "\n",
        "\n",
        "def model(X):\n",
        "  return X @ weight.T + biass # input matrix and weight matrix multiplication and add bias\n",
        "\n",
        "for x, y in train_loader:\n",
        "  prediction = model(x)\n",
        "\n",
        "  print(\"Initial Prediction: \", prediction)\n",
        "  print(\"Actual: \", y)\n",
        "\n",
        "  print(\"Initial Loss: \", mse_loss_function(prediction, y))\n",
        "\n",
        "\n",
        "# Training\n",
        "\n",
        "epochs = 1000\n",
        "\n",
        "for i in range(epochs):\n",
        "\n",
        "  for x,y in train_loader:\n",
        "    preds = model(x)\n",
        "    loss = mse_loss_function(preds, y)\n",
        "\n",
        "    loss.backward()\n",
        "\n",
        "    with torch.no_grad():\n",
        "      weight -= weight.grad * 1e-1\n",
        "      biass -= biass.grad * 1e-1\n",
        "\n",
        "      weight.grad.zero_()\n",
        "      biass.grad.zero_()\n",
        "\n",
        "\n",
        "\n",
        "\n",
        "\n",
        "# Final\n",
        "for x, y in train_loader:\n",
        "  prediction = model(x)\n",
        "\n",
        "  print()\n",
        "  print()\n",
        "\n",
        "  print(\"Final Prediction: \", prediction)\n",
        "  print(\"Actual: \", y)\n",
        "\n",
        "  print(\"Final Loss: \", mse_loss_function(prediction, y))"
      ],
      "metadata": {
        "colab": {
          "base_uri": "https://localhost:8080/"
        },
        "id": "PwfcC57pWHCr",
        "outputId": "ec5429bc-38bc-4c6f-e6fc-accb570575c7"
      },
      "execution_count": null,
      "outputs": [
        {
          "output_type": "stream",
          "name": "stdout",
          "text": [
            "Initial Prediction:  tensor([[-17.8731],\n",
            "        [-12.9354],\n",
            "        [ -8.5959],\n",
            "        [ -6.8420]], grad_fn=<AddBackward0>)\n",
            "Actual:  tensor([[119.],\n",
            "        [ 22.],\n",
            "        [ 56.],\n",
            "        [ 81.]])\n",
            "Initial Loss:  tensor(7960.8965, grad_fn=<DivBackward0>)\n",
            "Initial Prediction:  tensor([[-0.8554]], grad_fn=<AddBackward0>)\n",
            "Actual:  tensor([[103.]])\n",
            "Initial Loss:  tensor(10785.9492, grad_fn=<DivBackward0>)\n",
            "\n",
            "\n",
            "Final Prediction:  tensor([[nan],\n",
            "        [nan],\n",
            "        [nan],\n",
            "        [nan]], grad_fn=<AddBackward0>)\n",
            "Actual:  tensor([[ 22.],\n",
            "        [103.],\n",
            "        [ 56.],\n",
            "        [ 81.]])\n",
            "Final Loss:  tensor(nan, grad_fn=<DivBackward0>)\n",
            "\n",
            "\n",
            "Final Prediction:  tensor([[nan]], grad_fn=<AddBackward0>)\n",
            "Actual:  tensor([[119.]])\n",
            "Final Loss:  tensor(nan, grad_fn=<DivBackward0>)\n"
          ]
        }
      ]
    },
    {
      "cell_type": "code",
      "source": [
        "import numpy as np\n",
        "import torch\n",
        "from torch.utils.data import TensorDataset, DataLoader\n",
        "\n",
        "input = np.array([[73, 67, 43], [91, 88, 64], [87, 134, 58], [102, 43, 37], [69, 96, 70]], dtype='float32')\n",
        "\n",
        "target = np.array([[56], [81], [119], [22], [103] ], dtype='float32')\n",
        "\n",
        "inputs = torch.from_numpy(input)\n",
        "targets = torch.from_numpy(target)\n",
        "\n",
        "dataset = TensorDataset(inputs, targets)\n",
        "\n",
        "# To divide dataset into the batches\n",
        "train_loader = DataLoader(dataset, batch_size=4, shuffle=True)\n",
        "\n",
        "# torch,randn generates random value matrix such that mean = 0 and variance = 1\n",
        "\n",
        "# 1x3 random value matrix\n",
        "weight = torch.randn(1,3, requires_grad=True)\n",
        "\n",
        "# 1x1 random value matrix\n",
        "biass = torch.rand(1, requires_grad=True)\n",
        "\n",
        "def mse_loss_function(prediction, target):\n",
        "  difference = prediction - target\n",
        "  difference_square = difference * difference\n",
        "  return torch.sum(difference_square) /difference.numel() \n",
        "\n",
        "\n",
        "\n",
        "def model(X):\n",
        "  return X @ weight.T + biass # input matrix and weight matrix multiplication and add bias\n",
        "\n",
        "for x, y in train_loader:\n",
        "  prediction = model(x)\n",
        "\n",
        "  print(\"Initial Prediction: \", prediction)\n",
        "  print(\"Actual: \", y)\n",
        "\n",
        "  print(\"Initial Loss: \", mse_loss_function(prediction, y))\n",
        "\n",
        "\n",
        "# Training\n",
        "\n",
        "epochs = 1000\n",
        "\n",
        "for i in range(epochs):\n",
        "\n",
        "  for x,y in train_loader:\n",
        "    preds = model(x)\n",
        "    loss = mse_loss_function(preds, y)\n",
        "\n",
        "    loss.backward()\n",
        "\n",
        "    with torch.no_grad():\n",
        "      weight -= weight.grad * 1e-7\n",
        "      biass -= biass.grad * 1e-7\n",
        "\n",
        "      weight.grad.zero_()\n",
        "      biass.grad.zero_()\n",
        "\n",
        "\n",
        "\n",
        "\n",
        "\n",
        "# Final\n",
        "for x, y in train_loader:\n",
        "  prediction = model(x)\n",
        "\n",
        "  print()\n",
        "  print()\n",
        "\n",
        "  print(\"Final Prediction: \", prediction)\n",
        "  print(\"Actual: \", y)\n",
        "\n",
        "  print(\"Final Loss: \", mse_loss_function(prediction, y))"
      ],
      "metadata": {
        "colab": {
          "base_uri": "https://localhost:8080/"
        },
        "id": "e0u5rLtPW8AS",
        "outputId": "b0a91585-f195-48c7-83b0-ee31636530d1"
      },
      "execution_count": null,
      "outputs": [
        {
          "output_type": "stream",
          "name": "stdout",
          "text": [
            "Initial Prediction:  tensor([[-13.9154],\n",
            "        [-17.9127],\n",
            "        [  7.2425],\n",
            "        [ -6.8972]], grad_fn=<AddBackward0>)\n",
            "Actual:  tensor([[ 22.],\n",
            "        [119.],\n",
            "        [103.],\n",
            "        [ 56.]])\n",
            "Initial Loss:  tensor(8290.1406, grad_fn=<DivBackward0>)\n",
            "Initial Prediction:  tensor([[-1.9804]], grad_fn=<AddBackward0>)\n",
            "Actual:  tensor([[81.]])\n",
            "Initial Loss:  tensor(6885.7544, grad_fn=<DivBackward0>)\n",
            "\n",
            "\n",
            "Final Prediction:  tensor([[61.5998],\n",
            "        [88.6309],\n",
            "        [95.4873],\n",
            "        [97.8282]], grad_fn=<AddBackward0>)\n",
            "Actual:  tensor([[ 56.],\n",
            "        [ 81.],\n",
            "        [119.],\n",
            "        [103.]])\n",
            "Final Loss:  tensor(167.2964, grad_fn=<DivBackward0>)\n",
            "\n",
            "\n",
            "Final Prediction:  tensor([[47.6696]], grad_fn=<AddBackward0>)\n",
            "Actual:  tensor([[22.]])\n",
            "Final Loss:  tensor(658.9265, grad_fn=<DivBackward0>)\n"
          ]
        }
      ]
    },
    {
      "cell_type": "markdown",
      "source": [
        "Use the model to predict crop yield for apples if temperature is 70, Rain is 34 and Humidity\n",
        "is 45."
      ],
      "metadata": {
        "id": "FcVKXiJiXr6z"
      }
    },
    {
      "cell_type": "code",
      "source": [
        "import numpy as np\n",
        "import torch\n",
        "from torch.utils.data import TensorDataset, DataLoader\n",
        "\n",
        "input = np.array([[73, 67, 43], [91, 88, 64], [87, 134, 58], [102, 43, 37], [69, 96, 70]], dtype='float32')\n",
        "\n",
        "target = np.array([[56], [81], [119], [22], [103] ], dtype='float32')\n",
        "\n",
        "inputs = torch.from_numpy(input)\n",
        "targets = torch.from_numpy(target)\n",
        "\n",
        "dataset = TensorDataset(inputs, targets)\n",
        "\n",
        "# To divide dataset into the batches\n",
        "train_loader = DataLoader(dataset, batch_size=4, shuffle=True)\n",
        "\n",
        "# torch,randn generates random value matrix such that mean = 0 and variance = 1\n",
        "\n",
        "# 1x3 random value matrix\n",
        "weight = torch.randn(1,3, requires_grad=True)\n",
        "\n",
        "# 1x1 random value matrix\n",
        "biass = torch.rand(1, requires_grad=True)\n",
        "\n",
        "def mse_loss_function(prediction, target):\n",
        "  difference = prediction - target\n",
        "  difference_square = difference * difference\n",
        "  return torch.sum(difference_square) /difference.numel() \n",
        "\n",
        "\n",
        "\n",
        "def model(X):\n",
        "  return X @ weight.T + biass # input matrix and weight matrix multiplication and add bias\n",
        "\n",
        "for x, y in train_loader:\n",
        "  prediction = model(x)\n",
        "\n",
        "  print(\"Initial Prediction: \", prediction)\n",
        "  print(\"Actual: \", y)\n",
        "\n",
        "  print(\"Initial Loss: \", mse_loss_function(prediction, y))\n",
        "\n",
        "\n",
        "# Training\n",
        "\n",
        "epochs = 1000\n",
        "\n",
        "for i in range(epochs):\n",
        "\n",
        "  for x,y in train_loader:\n",
        "    preds = model(x)\n",
        "    loss = mse_loss_function(preds, y)\n",
        "\n",
        "    loss.backward()\n",
        "\n",
        "    with torch.no_grad():\n",
        "      weight -= weight.grad * 1e-5\n",
        "      biass -= biass.grad * 1e-5\n",
        "\n",
        "      weight.grad.zero_()\n",
        "      biass.grad.zero_()\n",
        "\n",
        "\n",
        "\n",
        "\n",
        "\n",
        "# Final\n",
        "for x, y in train_loader:\n",
        "  prediction = model(x)\n",
        "\n",
        "  print()\n",
        "  print()\n",
        "\n",
        "  print(\"Final Prediction: \", prediction)\n",
        "  print(\"Actual: \", y)\n",
        "\n",
        "  print(\"Final Loss: \", mse_loss_function(prediction, y))\n",
        "pred = model(torch.from_numpy(np.array([70, 34, 45], dtype='float32')))\n",
        "pred\n"
      ],
      "metadata": {
        "colab": {
          "base_uri": "https://localhost:8080/"
        },
        "id": "RuLERF9hXqRk",
        "outputId": "bb154204-c011-49f6-9188-48424ce0ad1b"
      },
      "execution_count": null,
      "outputs": [
        {
          "output_type": "stream",
          "name": "stdout",
          "text": [
            "Initial Prediction:  tensor([[-198.6473],\n",
            "        [-226.7035],\n",
            "        [-229.3315],\n",
            "        [-175.7090]], grad_fn=<AddBackward0>)\n",
            "Actual:  tensor([[103.],\n",
            "        [119.],\n",
            "        [ 81.],\n",
            "        [ 56.]])\n",
            "Initial Loss:  tensor(90124.1719, grad_fn=<DivBackward0>)\n",
            "Initial Prediction:  tensor([[-215.0600]], grad_fn=<AddBackward0>)\n",
            "Actual:  tensor([[22.]])\n",
            "Initial Loss:  tensor(56197.4648, grad_fn=<DivBackward0>)\n",
            "\n",
            "\n",
            "Final Prediction:  tensor([[101.2179],\n",
            "        [ 81.5094],\n",
            "        [ 20.8060],\n",
            "        [ 56.9378]], grad_fn=<AddBackward0>)\n",
            "Actual:  tensor([[103.],\n",
            "        [ 81.],\n",
            "        [ 22.],\n",
            "        [ 56.]])\n",
            "Final Loss:  tensor(1.4351, grad_fn=<DivBackward0>)\n",
            "\n",
            "\n",
            "Final Prediction:  tensor([[118.1912]], grad_fn=<AddBackward0>)\n",
            "Actual:  tensor([[119.]])\n",
            "Final Loss:  tensor(0.6541, grad_fn=<DivBackward0>)\n"
          ]
        },
        {
          "output_type": "execute_result",
          "data": {
            "text/plain": [
              "tensor([31.4602], grad_fn=<AddBackward0>)"
            ]
          },
          "metadata": {},
          "execution_count": 26
        }
      ]
    }
  ]
}