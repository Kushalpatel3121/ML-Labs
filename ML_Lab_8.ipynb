{
  "nbformat": 4,
  "nbformat_minor": 0,
  "metadata": {
    "colab": {
      "provenance": [],
      "authorship_tag": "ABX9TyOyyPe7UXhskhm59bDthAO6",
      "include_colab_link": true
    },
    "kernelspec": {
      "name": "python3",
      "display_name": "Python 3"
    },
    "language_info": {
      "name": "python"
    }
  },
  "cells": [
    {
      "cell_type": "markdown",
      "metadata": {
        "id": "view-in-github",
        "colab_type": "text"
      },
      "source": [
        "<a href=\"https://colab.research.google.com/github/Kushalpatel3121/ML-Labs/blob/main/ML_Lab_8.ipynb\" target=\"_parent\"><img src=\"https://colab.research.google.com/assets/colab-badge.svg\" alt=\"Open In Colab\"/></a>"
      ]
    },
    {
      "cell_type": "code",
      "execution_count": null,
      "metadata": {
        "id": "45leN3CNp4k_"
      },
      "outputs": [],
      "source": [
        "#Import Libraries\n",
        "import pandas as pd\n",
        "import numpy as np\n",
        "from sklearn.metrics import accuracy_score\n",
        "\n",
        "#Load Dataset \n",
        "from sklearn.datasets import load_breast_cancer\n",
        "from sklearn.model_selection import train_test_split\n",
        "\n",
        "#Import Models\n",
        "from sklearn.linear_model import LogisticRegression\n",
        "from sklearn.tree import DecisionTreeClassifier\n",
        "from sklearn.naive_bayes import GaussianNB\n",
        "from sklearn.ensemble import VotingClassifier\n",
        "\n",
        "#Initialize Models\n",
        "model1 = LogisticRegression(max_iter=2000)\n",
        "model2 = DecisionTreeClassifier()\n",
        "model3 = GaussianNB()"
      ]
    },
    {
      "cell_type": "code",
      "source": [
        "df = load_breast_cancer(return_X_y=True,as_frame=True)\n",
        "# type(df)\n",
        "# print(df[1])\n",
        "\n",
        "#Convert to a DataFrame\n",
        "# df = pd.DataFrame(data = df.data,columns=df.feature_names)\n",
        "# type(df)\n",
        "\n",
        "#Splitting the Dataset\n",
        "X_train, X_test, y_train, y_test = train_test_split(\n",
        "    df[0], df[1], test_size=0.40)\n",
        "\n",
        "print(X_train)\n",
        "print(X_test)"
      ],
      "metadata": {
        "id": "z21FnoGRyhQe",
        "colab": {
          "base_uri": "https://localhost:8080/"
        },
        "outputId": "7e1d304e-ae4b-4dbb-a0d3-b0efcd86d286"
      },
      "execution_count": null,
      "outputs": [
        {
          "output_type": "stream",
          "name": "stdout",
          "text": [
            "     mean radius  mean texture  mean perimeter  mean area  mean smoothness  \\\n",
            "11        15.780         17.89          103.60      781.0          0.09710   \n",
            "246       13.200         17.43           84.13      541.6          0.07215   \n",
            "251       11.500         18.45           73.28      407.4          0.09345   \n",
            "344       11.710         15.45           75.03      420.3          0.11500   \n",
            "362       12.760         18.84           81.87      496.6          0.09676   \n",
            "..           ...           ...             ...        ...              ...   \n",
            "17        16.130         20.68          108.10      798.8          0.11700   \n",
            "223       15.750         20.25          102.60      761.3          0.10250   \n",
            "290       14.410         19.73           96.03      651.0          0.08757   \n",
            "59         8.618         11.79           54.34      224.5          0.09752   \n",
            "206        9.876         17.27           62.92      295.4          0.10890   \n",
            "\n",
            "     mean compactness  mean concavity  mean concave points  mean symmetry  \\\n",
            "11            0.12920         0.09954             0.066060         0.1842   \n",
            "246           0.04524         0.04336             0.011050         0.1487   \n",
            "251           0.05991         0.02638             0.020690         0.1834   \n",
            "344           0.07281         0.04006             0.032500         0.2009   \n",
            "362           0.07952         0.02688             0.017810         0.1759   \n",
            "..                ...             ...                  ...            ...   \n",
            "17            0.20220         0.17220             0.102800         0.2164   \n",
            "223           0.12040         0.11470             0.064620         0.1935   \n",
            "290           0.16760         0.13620             0.066020         0.1714   \n",
            "59            0.05272         0.02061             0.007799         0.1683   \n",
            "206           0.07232         0.01756             0.019520         0.1934   \n",
            "\n",
            "     mean fractal dimension  ...  worst radius  worst texture  \\\n",
            "11                  0.06082  ...        20.420          27.28   \n",
            "246                 0.05635  ...        13.940          27.82   \n",
            "251                 0.05934  ...        12.970          22.46   \n",
            "344                 0.06506  ...        13.060          18.16   \n",
            "362                 0.06183  ...        13.750          25.99   \n",
            "..                      ...  ...           ...            ...   \n",
            "17                  0.07356  ...        20.960          31.48   \n",
            "223                 0.06303  ...        19.560          30.29   \n",
            "290                 0.07192  ...        15.770          22.13   \n",
            "59                  0.07187  ...         9.507          15.40   \n",
            "206                 0.06285  ...        10.420          23.22   \n",
            "\n",
            "     worst perimeter  worst area  worst smoothness  worst compactness  \\\n",
            "11            136.50      1299.0           0.13960             0.5609   \n",
            "246            88.28       602.0           0.11010             0.1508   \n",
            "251            83.12       508.9           0.11830             0.1049   \n",
            "344            84.16       516.4           0.14600             0.1115   \n",
            "362            87.82       579.7           0.12980             0.1839   \n",
            "..               ...         ...               ...                ...   \n",
            "17            136.80      1315.0           0.17890             0.4233   \n",
            "223           125.90      1088.0           0.15520             0.4480   \n",
            "290           101.70       767.3           0.09983             0.2472   \n",
            "59             59.90       274.9           0.17330             0.1239   \n",
            "206            67.08       331.6           0.14150             0.1247   \n",
            "\n",
            "     worst concavity  worst concave points  worst symmetry  \\\n",
            "11           0.39650               0.18100          0.3792   \n",
            "246          0.22980               0.04970          0.2767   \n",
            "251          0.08105               0.06544          0.2740   \n",
            "344          0.10870               0.07864          0.2765   \n",
            "362          0.12550               0.08312          0.2744   \n",
            "..               ...                   ...             ...   \n",
            "17           0.47840               0.20730          0.3706   \n",
            "223          0.39760               0.14790          0.3993   \n",
            "290          0.22200               0.10210          0.2272   \n",
            "59           0.11680               0.04419          0.3220   \n",
            "206          0.06213               0.05588          0.2989   \n",
            "\n",
            "     worst fractal dimension  \n",
            "11                   0.10480  \n",
            "246                  0.07198  \n",
            "251                  0.06487  \n",
            "344                  0.07806  \n",
            "362                  0.07238  \n",
            "..                       ...  \n",
            "17                   0.11420  \n",
            "223                  0.10640  \n",
            "290                  0.08799  \n",
            "59                   0.09026  \n",
            "206                  0.07380  \n",
            "\n",
            "[341 rows x 30 columns]\n",
            "     mean radius  mean texture  mean perimeter  mean area  mean smoothness  \\\n",
            "4          20.29         14.34          135.10     1297.0          0.10030   \n",
            "254        19.45         19.33          126.50     1169.0          0.10350   \n",
            "57         14.71         21.59           95.55      656.9          0.11370   \n",
            "423        13.66         19.13           89.46      575.3          0.09057   \n",
            "240        13.64         15.60           87.38      575.3          0.09423   \n",
            "..           ...           ...             ...        ...              ...   \n",
            "357        13.87         16.21           88.52      593.7          0.08743   \n",
            "256        19.55         28.77          133.60     1207.0          0.09260   \n",
            "213        17.42         25.56          114.50      948.0          0.10060   \n",
            "547        10.26         16.58           65.85      320.8          0.08877   \n",
            "489        16.69         20.20          107.10      857.6          0.07497   \n",
            "\n",
            "     mean compactness  mean concavity  mean concave points  mean symmetry  \\\n",
            "4             0.13280         0.19800              0.10430         0.1809   \n",
            "254           0.11880         0.13790              0.08591         0.1776   \n",
            "57            0.13650         0.12930              0.08123         0.2027   \n",
            "423           0.11470         0.09657              0.04812         0.1848   \n",
            "240           0.06630         0.04705              0.03731         0.1717   \n",
            "..                ...             ...                  ...            ...   \n",
            "357           0.05492         0.01502              0.02088         0.1424   \n",
            "256           0.20630         0.17840              0.11440         0.1893   \n",
            "213           0.11460         0.16820              0.06597         0.1308   \n",
            "547           0.08066         0.04358              0.02438         0.1669   \n",
            "489           0.07112         0.03649              0.02307         0.1846   \n",
            "\n",
            "     mean fractal dimension  ...  worst radius  worst texture  \\\n",
            "4                   0.05883  ...         22.54          16.67   \n",
            "254                 0.05647  ...         25.70          24.57   \n",
            "57                  0.06758  ...         17.87          30.70   \n",
            "423                 0.06181  ...         15.14          25.50   \n",
            "240                 0.05660  ...         14.85          19.05   \n",
            "..                      ...  ...           ...            ...   \n",
            "357                 0.05883  ...         15.11          25.58   \n",
            "256                 0.06232  ...         25.05          36.27   \n",
            "213                 0.05866  ...         18.07          28.07   \n",
            "547                 0.06714  ...         10.83          22.04   \n",
            "489                 0.05325  ...         19.18          26.56   \n",
            "\n",
            "     worst perimeter  worst area  worst smoothness  worst compactness  \\\n",
            "4             152.20      1575.0            0.1374             0.2050   \n",
            "254           163.10      1972.0            0.1497             0.3161   \n",
            "57            115.70       985.5            0.1368             0.4290   \n",
            "423           101.40       708.8            0.1147             0.3167   \n",
            "240            94.11       683.4            0.1278             0.1291   \n",
            "..               ...         ...               ...                ...   \n",
            "357            96.74       694.4            0.1153             0.1008   \n",
            "256           178.60      1926.0            0.1281             0.5329   \n",
            "213           120.40      1021.0            0.1243             0.1793   \n",
            "547            71.08       357.4            0.1461             0.2246   \n",
            "489           127.30      1084.0            0.1009             0.2920   \n",
            "\n",
            "     worst concavity  worst concave points  worst symmetry  \\\n",
            "4            0.40000               0.16250          0.2364   \n",
            "254          0.43170               0.19990          0.3379   \n",
            "57           0.35870               0.18340          0.3698   \n",
            "423          0.36600               0.14070          0.2744   \n",
            "240          0.15330               0.09222          0.2530   \n",
            "..               ...                   ...             ...   \n",
            "357          0.05285               0.05556          0.2362   \n",
            "256          0.42510               0.19410          0.2818   \n",
            "213          0.28030               0.10990          0.1603   \n",
            "547          0.17830               0.08333          0.2691   \n",
            "489          0.24770               0.08737          0.4677   \n",
            "\n",
            "     worst fractal dimension  \n",
            "4                    0.07678  \n",
            "254                  0.08950  \n",
            "57                   0.10940  \n",
            "423                  0.08839  \n",
            "240                  0.06510  \n",
            "..                       ...  \n",
            "357                  0.07113  \n",
            "256                  0.10050  \n",
            "213                  0.06818  \n",
            "547                  0.09479  \n",
            "489                  0.07623  \n",
            "\n",
            "[228 rows x 30 columns]\n"
          ]
        }
      ]
    },
    {
      "cell_type": "code",
      "source": [
        "final_model = VotingClassifier(estimators=[('lr', model1), ('dtc', model2), ('gnb', model3)],voting=\"hard\")\n",
        "\n",
        "final_model.fit(X_train,y_train)\n",
        "pred_final = final_model.predict(X_test)\n",
        "print(accuracy_score(y_test,pred_final))"
      ],
      "metadata": {
        "colab": {
          "base_uri": "https://localhost:8080/"
        },
        "id": "LEIyYty27uwy",
        "outputId": "f2aa866f-aece-47ae-ed3d-b94606df16aa"
      },
      "execution_count": null,
      "outputs": [
        {
          "output_type": "stream",
          "name": "stdout",
          "text": [
            "0.9429824561403509\n"
          ]
        }
      ]
    },
    {
      "cell_type": "markdown",
      "source": [
        "## StackingClassifier from sklearn"
      ],
      "metadata": {
        "id": "ADcnYHtqcCuM"
      }
    },
    {
      "cell_type": "code",
      "source": [
        "from sklearn.ensemble import StackingClassifier\n",
        "from sklearn.tree import DecisionTreeClassifier\n",
        "\n",
        "from sklearn.model_selection import train_test_split\n",
        "from sklearn.datasets import load_breast_cancer\n",
        "\n",
        "X, y = load_breast_cancer(return_X_y=True)\n",
        "\n",
        "data=load_breast_cancer()\n",
        "data_df = pd.DataFrame(data = data.data,\n",
        "                       columns = data.feature_names)\n",
        "\n",
        "X_train, X_test, y_train, y_test = train_test_split(X, y, random_state=97, train_size=0.8)\n",
        "\n",
        "\n",
        "model1 = LogisticRegression(max_iter=100000)\n",
        "model2 = DecisionTreeClassifier()\n",
        "model3 = GaussianNB()\n",
        "\n",
        "print(y_test)"
      ],
      "metadata": {
        "colab": {
          "base_uri": "https://localhost:8080/"
        },
        "id": "W1Fi5pH2cFgx",
        "outputId": "05ac8752-daf8-4902-977a-0421c3545304"
      },
      "execution_count": null,
      "outputs": [
        {
          "output_type": "stream",
          "name": "stdout",
          "text": [
            "[1 0 1 1 0 1 1 1 1 0 0 1 1 1 1 0 0 1 1 1 0 0 1 1 0 1 1 1 1 0 0 0 1 0 0 0 0\n",
            " 1 0 1 1 0 1 1 1 1 1 1 1 0 1 1 1 1 1 1 1 1 1 0 1 0 1 0 0 0 0 1 0 0 1 0 1 0\n",
            " 1 1 1 0 1 0 0 1 1 0 1 1 1 0 1 0 1 1 1 0 1 1 1 0 0 1 0 1 0 0 1 1 0 1 0 1 0\n",
            " 0 0 0]\n"
          ]
        }
      ]
    },
    {
      "cell_type": "code",
      "source": [
        "estimators = [\n",
        "     ('lr', model1),\n",
        "     ('cart', model2),\n",
        "     ('bayes', model3)\n",
        "]\n",
        "\n",
        "final_model = LogisticRegression(max_iter=100000)\n",
        "sclf = StackingClassifier(estimators=estimators,\n",
        "                            final_estimator=final_model,\n",
        "                            cv=10)"
      ],
      "metadata": {
        "id": "C6kEOsoJcLLQ"
      },
      "execution_count": null,
      "outputs": []
    },
    {
      "cell_type": "code",
      "source": [
        "sclf.fit(X_train, y_train)"
      ],
      "metadata": {
        "colab": {
          "base_uri": "https://localhost:8080/"
        },
        "id": "BcXIuO9ZcQYz",
        "outputId": "e5f6d13a-0a89-4c2d-c39e-fe4c314977eb"
      },
      "execution_count": null,
      "outputs": [
        {
          "output_type": "execute_result",
          "data": {
            "text/plain": [
              "StackingClassifier(cv=10,\n",
              "                   estimators=[('lr', LogisticRegression(max_iter=100000)),\n",
              "                               ('cart', DecisionTreeClassifier()),\n",
              "                               ('bayes', GaussianNB())],\n",
              "                   final_estimator=LogisticRegression(max_iter=100000))"
            ]
          },
          "metadata": {},
          "execution_count": 20
        }
      ]
    },
    {
      "cell_type": "code",
      "source": [
        "prediction = sclf.predict(X_test)"
      ],
      "metadata": {
        "id": "uLqkFZaTcTr9"
      },
      "execution_count": null,
      "outputs": []
    },
    {
      "cell_type": "code",
      "source": [
        "print(\"Accuracy: \",sclf.score(X_test, y_test))\n",
        "print(\"Precision: \",metrics.precision_score( y_test, prediction))\n",
        "print(\"Accuracy: \",metrics.recall_score( y_test, prediction))"
      ],
      "metadata": {
        "colab": {
          "base_uri": "https://localhost:8080/"
        },
        "id": "7LeDV6ZwcXKb",
        "outputId": "b9d4814a-b29d-4e99-fa3b-2e35ddc059b7"
      },
      "execution_count": null,
      "outputs": [
        {
          "output_type": "stream",
          "name": "stdout",
          "text": [
            "Accuracy:  0.956140350877193\n",
            "Precision:  0.9558823529411765\n",
            "Accuracy:  0.9701492537313433\n"
          ]
        }
      ]
    },
    {
      "cell_type": "markdown",
      "source": [
        "## Ada Boost"
      ],
      "metadata": {
        "id": "F0R39w7jcY1D"
      }
    },
    {
      "cell_type": "code",
      "source": [
        "from sklearn.ensemble import AdaBoostClassifier\n",
        "from sklearn.tree import DecisionTreeClassifier\n",
        "\n",
        "from sklearn.model_selection import train_test_split\n",
        "from sklearn.datasets import load_breast_cancer\n",
        "\n",
        "X, y = load_breast_cancer(return_X_y=True)\n",
        "\n",
        "data=load_breast_cancer()\n",
        "data_df = pd.DataFrame(data = data.data,\n",
        "                       columns = data.feature_names)\n",
        "\n",
        "X_train, X_test, y_train, y_test = train_test_split(X, y, random_state=97, train_size=0.8)\n",
        "\n",
        "\n",
        "model1 = LogisticRegression(max_iter=100000)\n",
        "model2 = DecisionTreeClassifier()\n",
        "model3 = GaussianNB()\n",
        "\n",
        "estimators = [\n",
        "     ('lr', model1),\n",
        "     ('cart', model2),\n",
        "     ('bayes', model3)\n",
        "]"
      ],
      "metadata": {
        "id": "JbbT2PJqcbSK"
      },
      "execution_count": null,
      "outputs": []
    },
    {
      "cell_type": "code",
      "source": [
        "abc = AdaBoostClassifier(learning_rate=1)\n",
        "abc.fit(X_train, y_train)\n",
        "\n",
        "prediction = abc.predict(X_test)"
      ],
      "metadata": {
        "id": "HRoFcGfBcech"
      },
      "execution_count": null,
      "outputs": []
    },
    {
      "cell_type": "code",
      "source": [
        "from sklearn import metrics\n",
        "\n",
        "print(\"Accuracy: \",abc.score(X_test, y_test))\n",
        "print(\"Precision: \",metrics.precision_score(y_test, prediction))\n",
        "print(\"Recall: \",metrics.recall_score( y_test, prediction))"
      ],
      "metadata": {
        "colab": {
          "base_uri": "https://localhost:8080/"
        },
        "id": "4lMr2z8iciAF",
        "outputId": "09fc1110-d4d6-451c-f05f-7163e9bc8e0e"
      },
      "execution_count": null,
      "outputs": [
        {
          "output_type": "stream",
          "name": "stdout",
          "text": [
            "Accuracy:  0.9473684210526315\n",
            "Precision:  0.9552238805970149\n",
            "Recall:  0.9552238805970149\n"
          ]
        }
      ]
    },
    {
      "cell_type": "markdown",
      "source": [
        "## Adaboost Regression on concrete_data.csv"
      ],
      "metadata": {
        "id": "nmD6v7cWcvBE"
      }
    },
    {
      "cell_type": "code",
      "source": [
        "from google.colab import drive\n",
        "drive.mount('/content/drive')"
      ],
      "metadata": {
        "colab": {
          "base_uri": "https://localhost:8080/"
        },
        "id": "QcD2cjPqc8Ck",
        "outputId": "bb7421d3-f597-4750-ef13-03d6f5992435"
      },
      "execution_count": null,
      "outputs": [
        {
          "output_type": "stream",
          "name": "stdout",
          "text": [
            "Drive already mounted at /content/drive; to attempt to forcibly remount, call drive.mount(\"/content/drive\", force_remount=True).\n"
          ]
        }
      ]
    },
    {
      "cell_type": "code",
      "source": [
        "datasets = pd.read_csv('/content/drive/MyDrive/datasets/Contrete.csv')"
      ],
      "metadata": {
        "id": "sTRpfoHUcwUV"
      },
      "execution_count": null,
      "outputs": []
    },
    {
      "cell_type": "code",
      "source": [
        "X = datasets.iloc[:, :-1].values\n",
        "\n",
        "# Only last column, 0 for 1st column and -1 for last colum,-2 for 2nd last column\n",
        "y = datasets.iloc[:, -1].values\n",
        "print(\"\\n\\nInput : \\n\", X)\n",
        "print(\"\\n\\nOutput: \\n\", y)"
      ],
      "metadata": {
        "colab": {
          "base_uri": "https://localhost:8080/"
        },
        "id": "VuibeIpOd0Hm",
        "outputId": "45160909-9154-410a-d161-bae15be5155b"
      },
      "execution_count": null,
      "outputs": [
        {
          "output_type": "stream",
          "name": "stdout",
          "text": [
            "\n",
            "\n",
            "Input : \n",
            " [[ 540.     0.     0.  ... 1040.   676.    28. ]\n",
            " [ 540.     0.     0.  ... 1055.   676.    28. ]\n",
            " [ 332.5  142.5    0.  ...  932.   594.   270. ]\n",
            " ...\n",
            " [ 148.5  139.4  108.6 ...  892.4  780.    28. ]\n",
            " [ 159.1  186.7    0.  ...  989.6  788.9   28. ]\n",
            " [ 260.9  100.5   78.3 ...  864.5  761.5   28. ]]\n",
            "\n",
            "\n",
            "Output: \n",
            " [79.99 61.89 40.27 ... 23.7  32.77 32.4 ]\n"
          ]
        }
      ]
    },
    {
      "cell_type": "code",
      "source": [
        "from sklearn.model_selection import train_test_split\n",
        "\n",
        "#split data set into train and test sets\n",
        "X_train, X_test, y_train, y_test = train_test_split(datasets, y, test_size = 0.25, random_state = 97)\n",
        "\n",
        "print(y_test)"
      ],
      "metadata": {
        "id": "IvhMuAYwd29j"
      },
      "execution_count": null,
      "outputs": []
    },
    {
      "cell_type": "code",
      "source": [
        "from sklearn.ensemble import AdaBoostRegressor\n",
        "from sklearn.tree import DecisionTreeRegressor\n",
        "\n",
        " \n",
        "#Choosing Decision Tree with 1 level as the weak learner\n",
        "DTR=DecisionTreeRegressor(max_depth=1)\n",
        "RegModel = AdaBoostRegressor(n_estimators=50, base_estimator=DTR ,learning_rate=1)"
      ],
      "metadata": {
        "id": "ssM81ljYd6Gv"
      },
      "execution_count": null,
      "outputs": []
    },
    {
      "cell_type": "code",
      "source": [
        "AB=RegModel.fit(X_train,y_train)\n",
        "y_pred=AB.predict(X_test)"
      ],
      "metadata": {
        "id": "Y5a4QUdVd8GJ"
      },
      "execution_count": null,
      "outputs": []
    },
    {
      "cell_type": "code",
      "source": [
        "#Import scikit-learn metrics module for accuracy calculation\n",
        "from sklearn import metrics\n",
        "# model_Evaluate(AB, y_test, predictions) --> doesn't work for continuous values\n",
        "print(\"Accuracy: \",RegModel.score(X_test, y_test))"
      ],
      "metadata": {
        "colab": {
          "base_uri": "https://localhost:8080/"
        },
        "id": "wWbbua62eC1r",
        "outputId": "80e8a52e-72d2-4da8-ef46-9f2aa8c7a93c"
      },
      "execution_count": null,
      "outputs": [
        {
          "output_type": "stream",
          "name": "stdout",
          "text": [
            "Accuracy:  0.739255564940275\n"
          ]
        }
      ]
    },
    {
      "cell_type": "code",
      "source": [
        "from sklearn.datasets import load_diabetes\n",
        "from sklearn.model_selection import train_test_split\n",
        "\n",
        "X,y = load_diabetes(return_X_y=True)\n",
        "\n",
        "#split data set into train and test sets\n",
        "X_train, X_test, y_train, y_test = train_test_split(X, y, test_size = 0.20, random_state = 97)\n",
        "\n",
        "\n",
        "from sklearn.ensemble import AdaBoostRegressor\n",
        "from sklearn.tree import DecisionTreeRegressor\n",
        "\n",
        " \n",
        "#Choosing Decision Tree with 1 level as the weak learner\n",
        "DTR=DecisionTreeRegressor(max_depth=10)\n",
        "RegModel = AdaBoostRegressor(n_estimators=100, base_estimator=DTR ,learning_rate=1)\n",
        "\n",
        "AB=RegModel.fit(X_train,y_train)\n",
        "y_pred=AB.predict(X_test)\n",
        "\n",
        "from sklearn import metrics\n",
        "from sklearn.metrics import mean_squared_error\n",
        "# model_Evaluate(AB, y_test, predictions) --> doesn't work for continuous values\n",
        "print(\"Accuracy: \",RegModel.score(X_test, y_test))\n",
        "\n",
        "print(\"Mean Square Error: \",mean_squared_error(y_test,y_pred))"
      ],
      "metadata": {
        "colab": {
          "base_uri": "https://localhost:8080/"
        },
        "id": "dnp7ML7YeG6b",
        "outputId": "99899fc1-f72b-41fe-8983-dea068e65728"
      },
      "execution_count": null,
      "outputs": [
        {
          "output_type": "stream",
          "name": "stdout",
          "text": [
            "Accuracy:  0.3957073474596924\n",
            "Mean Square Error:  3885.2117616365017\n"
          ]
        }
      ]
    }
  ]
}