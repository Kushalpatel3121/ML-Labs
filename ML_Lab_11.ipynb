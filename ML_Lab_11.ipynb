{
  "nbformat": 4,
  "nbformat_minor": 0,
  "metadata": {
    "colab": {
      "provenance": [],
      "authorship_tag": "ABX9TyMlE3dgYrObFD67mH6x1+rl",
      "include_colab_link": true
    },
    "kernelspec": {
      "name": "python3",
      "display_name": "Python 3"
    },
    "language_info": {
      "name": "python"
    }
  },
  "cells": [
    {
      "cell_type": "markdown",
      "metadata": {
        "id": "view-in-github",
        "colab_type": "text"
      },
      "source": [
        "<a href=\"https://colab.research.google.com/github/Kushalpatel3121/ML-Labs/blob/main/ML_Lab_11.ipynb\" target=\"_parent\"><img src=\"https://colab.research.google.com/assets/colab-badge.svg\" alt=\"Open In Colab\"/></a>"
      ]
    },
    {
      "cell_type": "code",
      "execution_count": null,
      "metadata": {
        "id": "dHMYS0zqupTY"
      },
      "outputs": [],
      "source": [
        "import sys,os\n",
        "import matplotlib.pyplot as plt\n",
        "from sklearn.model_selection import train_test_split\n",
        "import numpy as np\n",
        "import pandas as pd\n",
        "from pandas import DataFrame"
      ]
    },
    {
      "cell_type": "code",
      "source": [
        "# importing scikit learn with make_blobs\n",
        "from sklearn.datasets import make_blobs"
      ],
      "metadata": {
        "id": "sRj6rqMZuwij"
      },
      "execution_count": null,
      "outputs": []
    },
    {
      "cell_type": "code",
      "source": [
        "# creating datasets X containing n_samples\n",
        "# Y containing two classes\n",
        "X,Y = make_blobs(n_samples=100,centers=3,n_features=2);"
      ],
      "metadata": {
        "id": "RlyX6A6uu4Cw"
      },
      "execution_count": null,
      "outputs": []
    },
    {
      "cell_type": "code",
      "source": [
        "# scatter plot, dots colored by class value\n",
        "df = DataFrame(dict(x=X[:,0],y=X[:,1],label=Y))\n",
        "colors = {0:'red',1:'blue',2:'green'}\n",
        "fig,ax = plt.subplots()\n",
        "grouped = df.groupby('label')\n",
        "for key,group in grouped:\n",
        "  group.plot(ax=ax, kind='scatter',x='x',y='y',label=key,color=colors[key])\n",
        "plt.show()"
      ],
      "metadata": {
        "colab": {
          "base_uri": "https://localhost:8080/",
          "height": 314
        },
        "id": "eB9mlHtHu5Gi",
        "outputId": "7dca1d77-1601-4d50-a1ea-dc330324ae4d"
      },
      "execution_count": null,
      "outputs": [
        {
          "output_type": "stream",
          "name": "stderr",
          "text": [
            "/usr/local/lib/python3.9/dist-packages/pandas/plotting/_matplotlib/core.py:1114: UserWarning: No data for colormapping provided via 'c'. Parameters 'cmap' will be ignored\n",
            "  scatter = ax.scatter(\n"
          ]
        },
        {
          "output_type": "display_data",
          "data": {
            "text/plain": [
              "<Figure size 432x288 with 1 Axes>"
            ],
            "image/png": "[encoded data removed]"
          },
          "metadata": {
            "needs_background": "light"
          }
        }
      ]
    },
    {
      "cell_type": "code",
      "source": [
        "# Split data to train and test on 80-20 ratio\n",
        "x_train, x_test, y_train,y_test = train_test_split(X,Y,test_size=0.2)\n",
        "x_train"
      ],
      "metadata": {
        "colab": {
          "base_uri": "https://localhost:8080/"
        },
        "id": "RMbC87apu6PJ",
        "outputId": "2ed56b77-5692-455c-bb05-da7f707145dc"
      },
      "execution_count": null,
      "outputs": [
        {
          "output_type": "execute_result",
          "data": {
            "text/plain": [
              "array([[  6.42057374,  -1.34129272],\n",
              "       [  3.68027762,  -9.23186937],\n",
              "       [ -6.36720553,  -2.00186892],\n",
              "       [  5.09103493,  -6.39184125],\n",
              "       [  0.81227852,  -8.68986044],\n",
              "       [  8.19969648,   0.52816523],\n",
              "       [  6.08091755,  -0.69014873],\n",
              "       [ -0.10691354,  -8.5297272 ],\n",
              "       [ -5.36341309,  -3.15060498],\n",
              "       [  1.50555371,  -6.85619124],\n",
              "       [  9.1421744 ,  -2.09137163],\n",
              "       [  6.75380276,  -2.35508564],\n",
              "       [  3.49933158,  -8.39249497],\n",
              "       [  2.41038004,  -6.59113329],\n",
              "       [  2.7626219 ,  -7.14378202],\n",
              "       [  4.30825525,  -7.22523453],\n",
              "       [  2.78757354,  -9.19441383],\n",
              "       [  2.38779205,  -9.10741394],\n",
              "       [  5.089513  ,  -1.64433497],\n",
              "       [ -6.20333715,  -2.44945224],\n",
              "       [  2.64814866,  -8.76886758],\n",
              "       [ -6.52503327,  -4.91386625],\n",
              "       [  8.85013528,  -0.21194248],\n",
              "       [  2.72432495,  -7.9609559 ],\n",
              "       [  1.92616302,  -8.70401781],\n",
              "       [  2.64245573, -10.13078266],\n",
              "       [ -5.69054621,  -3.99274688],\n",
              "       [  8.42437838,  -1.06872072],\n",
              "       [  3.34633113,  -8.12350231],\n",
              "       [  9.61546732,  -2.13249164],\n",
              "       [ -5.66600731,  -4.1092877 ],\n",
              "       [ -5.23971436,  -3.66710787],\n",
              "       [  1.99681911,  -7.70289336],\n",
              "       [  2.99447867,  -7.35648599],\n",
              "       [  6.78676323,  -0.30210948],\n",
              "       [  8.48005059,  -1.6193442 ],\n",
              "       [  3.17446949,  -8.55248428],\n",
              "       [  8.76497935,  -0.87098533],\n",
              "       [  1.72514739,  -8.17957436],\n",
              "       [ -5.75981341,  -2.82273988],\n",
              "       [ -4.61086468,  -4.97011174],\n",
              "       [  8.06735423,  -1.65084046],\n",
              "       [  8.3974125 ,  -2.97609503],\n",
              "       [  7.28160326,  -0.02876616],\n",
              "       [ -5.68804797,  -3.56191651],\n",
              "       [ -5.70363809,  -2.66434784],\n",
              "       [  8.83625824,  -2.3751487 ],\n",
              "       [  8.47048786,  -2.51778371],\n",
              "       [ -5.93889031,  -3.49271753],\n",
              "       [ -4.94659374,  -2.08470948],\n",
              "       [  7.86639072,  -1.11501922],\n",
              "       [  0.98606822,  -9.28398895],\n",
              "       [ -4.91339763,  -2.79673784],\n",
              "       [  6.67315499,  -1.49228063],\n",
              "       [  7.46660502,  -1.12119733],\n",
              "       [ -4.56241906,  -4.62464783],\n",
              "       [  2.05141076,  -8.1320281 ],\n",
              "       [  2.66062114,  -8.51704273],\n",
              "       [ -6.8065416 ,  -2.97362037],\n",
              "       [ -5.92878844,  -3.22396847],\n",
              "       [  2.19729564,  -9.59917142],\n",
              "       [  4.59395903,  -8.29541313],\n",
              "       [  7.42201258,  -1.32149026],\n",
              "       [  2.67074174,  -9.84830692],\n",
              "       [  2.66211095,  -9.04025615],\n",
              "       [  8.43498669,  -1.02876978],\n",
              "       [  6.73218881,  -1.66089948],\n",
              "       [  1.98892222,  -8.38513672],\n",
              "       [  6.24860927,  -1.148056  ],\n",
              "       [ -6.03194882,  -2.33266924],\n",
              "       [ -6.89214123,  -3.75631264],\n",
              "       [ -5.38553265,  -4.41555193],\n",
              "       [ -5.68673875,  -2.79421817],\n",
              "       [ -6.09278672,  -3.19981364],\n",
              "       [  7.67958162,  -3.18003661],\n",
              "       [  1.75114616,  -7.99637091],\n",
              "       [  8.14637848,  -2.19275658],\n",
              "       [ -7.1018994 ,  -4.56932558],\n",
              "       [ -5.5271609 ,  -3.15912777],\n",
              "       [  8.46127819,  -1.89206597]])"
            ]
          },
          "metadata": {},
          "execution_count": 5
        }
      ]
    },
    {
      "cell_type": "code",
      "source": [
        " # Create a linear SVM classifier\n",
        "from sklearn.svm import SVC"
      ],
      "metadata": {
        "id": "0C8x8m5Uu7jM"
      },
      "execution_count": null,
      "outputs": []
    },
    {
      "cell_type": "code",
      "source": [
        "clf = SVC(kernel='linear',C=0.1)"
      ],
      "metadata": {
        "id": "BeZYbXiNu9tA"
      },
      "execution_count": null,
      "outputs": []
    },
    {
      "cell_type": "code",
      "source": [
        "clf.fit(x_train,y_train)"
      ],
      "metadata": {
        "colab": {
          "base_uri": "https://localhost:8080/",
          "height": 74
        },
        "id": "gWaH1zb4u_Cs",
        "outputId": "a9a90620-9c55-4511-decc-2ca90f87d037"
      },
      "execution_count": null,
      "outputs": [
        {
          "output_type": "execute_result",
          "data": {
            "text/plain": [
              "SVC(C=0.1, kernel='linear')"
            ],
            "text/html": [
              "<style>#sk-container-id-1 {color: black;background-color: white;}#sk-container-id-1 pre{padding: 0;}#sk-container-id-1 div.sk-toggleable {background-color: white;}#sk-container-id-1 label.sk-toggleable__label {cursor: pointer;display: block;width: 100%;margin-bottom: 0;padding: 0.3em;box-sizing: border-box;text-align: center;}#sk-container-id-1 label.sk-toggleable__label-arrow:before {content: \"▸\";float: left;margin-right: 0.25em;color: #696969;}#sk-container-id-1 label.sk-toggleable__label-arrow:hover:before {color: black;}#sk-container-id-1 div.sk-estimator:hover label.sk-toggleable__label-arrow:before {color: black;}#sk-container-id-1 div.sk-toggleable__content {max-height: 0;max-width: 0;overflow: hidden;text-align: left;background-color: #f0f8ff;}#sk-container-id-1 div.sk-toggleable__content pre {margin: 0.2em;color: black;border-radius: 0.25em;background-color: #f0f8ff;}#sk-container-id-1 input.sk-toggleable__control:checked~div.sk-toggleable__content {max-height: 200px;max-width: 100%;overflow: auto;}#sk-container-id-1 input.sk-toggleable__control:checked~label.sk-toggleable__label-arrow:before {content: \"▾\";}#sk-container-id-1 div.sk-estimator input.sk-toggleable__control:checked~label.sk-toggleable__label {background-color: #d4ebff;}#sk-container-id-1 div.sk-label input.sk-toggleable__control:checked~label.sk-toggleable__label {background-color: #d4ebff;}#sk-container-id-1 input.sk-hidden--visually {border: 0;clip: rect(1px 1px 1px 1px);clip: rect(1px, 1px, 1px, 1px);height: 1px;margin: -1px;overflow: hidden;padding: 0;position: absolute;width: 1px;}#sk-container-id-1 div.sk-estimator {font-family: monospace;background-color: #f0f8ff;border: 1px dotted black;border-radius: 0.25em;box-sizing: border-box;margin-bottom: 0.5em;}#sk-container-id-1 div.sk-estimator:hover {background-color: #d4ebff;}#sk-container-id-1 div.sk-parallel-item::after {content: \"\";width: 100%;border-bottom: 1px solid gray;flex-grow: 1;}#sk-container-id-1 div.sk-label:hover label.sk-toggleable__label {background-color: #d4ebff;}#sk-container-id-1 div.sk-serial::before {content: \"\";position: absolute;border-left: 1px solid gray;box-sizing: border-box;top: 0;bottom: 0;left: 50%;z-index: 0;}#sk-container-id-1 div.sk-serial {display: flex;flex-direction: column;align-items: center;background-color: white;padding-right: 0.2em;padding-left: 0.2em;position: relative;}#sk-container-id-1 div.sk-item {position: relative;z-index: 1;}#sk-container-id-1 div.sk-parallel {display: flex;align-items: stretch;justify-content: center;background-color: white;position: relative;}#sk-container-id-1 div.sk-item::before, #sk-container-id-1 div.sk-parallel-item::before {content: \"\";position: absolute;border-left: 1px solid gray;box-sizing: border-box;top: 0;bottom: 0;left: 50%;z-index: -1;}#sk-container-id-1 div.sk-parallel-item {display: flex;flex-direction: column;z-index: 1;position: relative;background-color: white;}#sk-container-id-1 div.sk-parallel-item:first-child::after {align-self: flex-end;width: 50%;}#sk-container-id-1 div.sk-parallel-item:last-child::after {align-self: flex-start;width: 50%;}#sk-container-id-1 div.sk-parallel-item:only-child::after {width: 0;}#sk-container-id-1 div.sk-dashed-wrapped {border: 1px dashed gray;margin: 0 0.4em 0.5em 0.4em;box-sizing: border-box;padding-bottom: 0.4em;background-color: white;}#sk-container-id-1 div.sk-label label {font-family: monospace;font-weight: bold;display: inline-block;line-height: 1.2em;}#sk-container-id-1 div.sk-label-container {text-align: center;}#sk-container-id-1 div.sk-container {/* jupyter's `normalize.less` sets `[hidden] { display: none; }` but bootstrap.min.css set `[hidden] { display: none !important; }` so we also need the `!important` here to be able to override the default hidden behavior on the sphinx rendered scikit-learn.org. See: https://github.com/scikit-learn/scikit-learn/issues/21755 */display: inline-block !important;position: relative;}#sk-container-id-1 div.sk-text-repr-fallback {display: none;}</style><div id=\"sk-container-id-1\" class=\"sk-top-container\"><div class=\"sk-text-repr-fallback\"><pre>SVC(C=0.1, kernel=&#x27;linear&#x27;)</pre><b>In a Jupyter environment, please rerun this cell to show the HTML representation or trust the notebook. <br />On GitHub, the HTML representation is unable to render, please try loading this page with nbviewer.org.</b></div><div class=\"sk-container\" hidden><div class=\"sk-item\"><div class=\"sk-estimator sk-toggleable\"><input class=\"sk-toggleable__control sk-hidden--visually\" id=\"sk-estimator-id-1\" type=\"checkbox\" checked><label for=\"sk-estimator-id-1\" class=\"sk-toggleable__label sk-toggleable__label-arrow\">SVC</label><div class=\"sk-toggleable__content\"><pre>SVC(C=0.1, kernel=&#x27;linear&#x27;)</pre></div></div></div></div></div>"
            ]
          },
          "metadata": {},
          "execution_count": 8
        }
      ]
    },
    {
      "cell_type": "code",
      "source": [
        "# mode performance\n",
        "from sklearn.metrics import accuracy_score\n",
        "y_pred = clf.predict(x_test)\n",
        "print('Accuracy: %.3f' % accuracy_score(y_test, y_pred))"
      ],
      "metadata": {
        "colab": {
          "base_uri": "https://localhost:8080/"
        },
        "id": "YPSifPbWvAEo",
        "outputId": "00c3599f-52f3-4c02-b075-6e004ddd76bc"
      },
      "execution_count": null,
      "outputs": [
        {
          "output_type": "stream",
          "name": "stdout",
          "text": [
            "Accuracy: 1.000\n"
          ]
        }
      ]
    },
    {
      "cell_type": "code",
      "source": [
        "...\n",
        "# define bounds of the domain\n",
        "min1, max1 = x_train[:, 0].min()-1, x_train[:, 0].max()+1\n",
        "min2, max2 = x_train[:, 1].min()-1, x_train[:, 1].max()+1\n",
        "h = (max1/min1)/100"
      ],
      "metadata": {
        "id": "aYI0_4hmvBJL"
      },
      "execution_count": null,
      "outputs": []
    },
    {
      "cell_type": "code",
      "source": [
        "# define the x and y scale\n",
        "x1grid = np.arange(min1, max1, 0.2)\n",
        "x2grid = np.arange(min2, max2, 0.2)"
      ],
      "metadata": {
        "id": "OqZPHFKJvCjX"
      },
      "execution_count": null,
      "outputs": []
    },
    {
      "cell_type": "code",
      "source": [
        "# create all of the lines and rows of the grid\n",
        "xx, yy = np.meshgrid(x1grid, x2grid)\n",
        "plt.subplot(1,1,1)\n",
        "Z = clf.predict(np.c_[xx.ravel(), yy.ravel()])\n",
        "Z = Z.reshape(xx.shape)\n",
        "plt.contourf(xx, yy, Z, cmap = plt.cm.coolwarm, alpha = 0.8)\n"
      ],
      "metadata": {
        "colab": {
          "base_uri": "https://localhost:8080/",
          "height": 282
        },
        "id": "zGGdtWMtvEHb",
        "outputId": "cdd219f7-6610-4cd6-b952-2b0a80c2acce"
      },
      "execution_count": null,
      "outputs": [
        {
          "output_type": "execute_result",
          "data": {
            "text/plain": [
              "<matplotlib.contour.QuadContourSet at 0x7fcf802516a0>"
            ]
          },
          "metadata": {},
          "execution_count": 12
        },
        {
          "output_type": "display_data",
          "data": {
            "text/plain": [
              "<Figure size 432x288 with 1 Axes>"
            ],
            "image/png": "[encoded data removed]"
          },
          "metadata": {
            "needs_background": "light"
          }
        }
      ]
    },
    {
      "cell_type": "code",
      "source": [
        "# create all of the lines and rows of the grid\n",
        "xx, yy = np.meshgrid(x1grid, x2grid)\n",
        "plt.subplot(1,1,1)\n",
        "Z = clf.predict(np.c_[xx.ravel(), yy.ravel()])\n",
        "Z = Z.reshape(xx.shape)\n",
        "plt.contourf(xx, yy, Z, cmap = plt.cm.coolwarm, alpha = 0.8)\n",
        "plt.scatter(x_train[:,0],x_train[:,1],c=y_train,cmap=plt.cm.coolwarm,s=20,edgecolors='k')\n",
        "plt.xlabel(\"x\")\n",
        "plt.ylabel(\"y\")\n",
        "plt.xlim(xx.min(),xx.max())\n",
        "plt.title('SVM with linear Kernel')\n",
        "plt.show()"
      ],
      "metadata": {
        "colab": {
          "base_uri": "https://localhost:8080/",
          "height": 295
        },
        "id": "Ko9da4nvvFPG",
        "outputId": "a6398811-047f-4c53-8e14-4304d77ef8c9"
      },
      "execution_count": null,
      "outputs": [
        {
          "output_type": "display_data",
          "data": {
            "text/plain": [
              "<Figure size 432x288 with 1 Axes>"
            ],
            "image/png": "[encoded data removed]"
          },
          "metadata": {
            "needs_background": "light"
          }
        }
      ]
    },
    {
      "cell_type": "code",
      "source": [
        "def make_meshgrid(x, y, h=.02):\n",
        "  x_min, x_max = x.min() - 1, x.max() + 1\n",
        "  y_min, y_max = y.min() - 1, y.max() + 1\n",
        "  xx, yy = np.meshgrid(np.arange(x_min, x_max, h), np.arange(y_min, y_max, h))\n",
        "  return xx, yy\n"
      ],
      "metadata": {
        "id": "-qYxM3NnvGh9"
      },
      "execution_count": null,
      "outputs": []
    },
    {
      "cell_type": "code",
      "source": [
        "def plot_contours(ax, clf, xx, yy, **params):\n",
        "  Z = clf.predict(np.c_[xx.ravel(), yy.ravel()])\n",
        "  Z = Z.reshape(xx.shape)\n",
        "  out = ax.contourf(xx, yy, Z, **params)\n",
        "  return out\n"
      ],
      "metadata": {
        "id": "lYPXHzXlvHzt"
      },
      "execution_count": null,
      "outputs": []
    },
    {
      "cell_type": "code",
      "source": [
        "# Make predictions on unseen test data\n",
        "#clf_predictions = #############################\n",
        "print(\"Accuracy: {}%\".format(clf.score(x_test, y_test) * 100))"
      ],
      "metadata": {
        "colab": {
          "base_uri": "https://localhost:8080/"
        },
        "id": "y7hMb0HivJXe",
        "outputId": "5c9bf279-c68b-4df1-8788-649364ec923c"
      },
      "execution_count": null,
      "outputs": [
        {
          "output_type": "stream",
          "name": "stdout",
          "text": [
            "Accuracy: 100.0%\n"
          ]
        }
      ]
    },
    {
      "cell_type": "code",
      "source": [
        "fig, ax = plt.subplots()\n",
        "# title for the plots\n",
        "title = ('Decision surface of linear SVC ')\n",
        "# Set-up grid for plotting.\n",
        "X0, X1 = X[:, 0], X[:, 1]\n",
        "xx, yy = make_meshgrid(X0, X1)\n",
        "plot_contours(ax, clf, xx, yy, cmap=plt.cm.coolwarm, alpha=0.8)\n",
        "ax.scatter(X0, X1, c=Y, cmap=plt.cm.coolwarm, s=20,edgecolors='k')\n",
        "ax.set_ylabel('y label here')\n",
        "ax.set_xlabel('x label here')\n",
        "ax.set_xticks(())\n",
        "ax.set_yticks(())\n",
        "ax.set_title(title)\n",
        "ax.legend()\n",
        "plt.show()\n"
      ],
      "metadata": {
        "colab": {
          "base_uri": "https://localhost:8080/",
          "height": 295
        },
        "id": "1DE5IoU7vKy7",
        "outputId": "8f24338f-8727-42b3-b2ce-b1a72f2e57cd"
      },
      "execution_count": null,
      "outputs": [
        {
          "output_type": "stream",
          "name": "stderr",
          "text": [
            "WARNING:matplotlib.legend:No artists with labels found to put in legend.  Note that artists whose label start with an underscore are ignored when legend() is called with no argument.\n"
          ]
        },
        {
          "output_type": "display_data",
          "data": {
            "text/plain": [
              "<Figure size 432x288 with 1 Axes>"
            ],
            "image/png": "[encoded data removed]"
          },
          "metadata": {}
        }
      ]
    },
    {
      "cell_type": "code",
      "source": [
        "# importing scikit learn with make_blobs\n",
        "from sklearn.datasets import make_blobs\n",
        "# creating datasets X containing n_samples\n",
        "# Y containing two classes\n",
        "X, Y = make_blobs(n_samples=100,n_features=2,centers=2)\n",
        "print(X.shape)\n",
        "print(Y)"
      ],
      "metadata": {
        "colab": {
          "base_uri": "https://localhost:8080/"
        },
        "id": "_oasTkaPvL18",
        "outputId": "c363ebc8-97bb-490c-d7eb-3eb1a292e7c4"
      },
      "execution_count": null,
      "outputs": [
        {
          "output_type": "stream",
          "name": "stdout",
          "text": [
            "(100, 2)\n",
            "[0 1 0 1 1 0 0 0 1 0 1 0 1 1 1 1 0 0 1 1 0 1 1 1 0 0 0 0 0 1 0 0 1 1 0 0 1\n",
            " 1 0 1 0 0 0 0 0 0 1 1 0 0 1 1 0 0 0 1 0 1 1 0 0 1 0 1 1 0 1 0 1 0 1 1 1 1\n",
            " 1 1 1 0 1 1 1 0 1 0 1 1 0 0 1 0 1 1 0 0 0 0 1 0 0 1]\n"
          ]
        }
      ]
    },
    {
      "cell_type": "code",
      "source": [
        "# plotting scatters\n",
        "plt.scatter(X[:,0],X[:,1],c=Y,s=10)"
      ],
      "metadata": {
        "colab": {
          "base_uri": "https://localhost:8080/",
          "height": 282
        },
        "id": "HFVRSSsVvNYe",
        "outputId": "e91a4943-3166-4f4f-aa0e-6c5fddfa5d1e"
      },
      "execution_count": null,
      "outputs": [
        {
          "output_type": "execute_result",
          "data": {
            "text/plain": [
              "<matplotlib.collections.PathCollection at 0x7fcf800a8730>"
            ]
          },
          "metadata": {},
          "execution_count": 19
        },
        {
          "output_type": "display_data",
          "data": {
            "text/plain": [
              "<Figure size 432x288 with 1 Axes>"
            ],
            "image/png": "[encoded data removed]"
          },
          "metadata": {
            "needs_background": "light"
          }
        }
      ]
    },
    {
      "cell_type": "code",
      "source": [
        "# Split data to train and test on 80-20 ratio\n",
        "X_train, X_test, y_train, y_test = train_test_split(X,Y, train_size=0.8)\n",
        "print(X_train.shape)\n",
        "print(X_test.shape)"
      ],
      "metadata": {
        "colab": {
          "base_uri": "https://localhost:8080/"
        },
        "id": "aUVur24EvOrZ",
        "outputId": "dcc33825-e016-4849-99fa-e68d9f2078be"
      },
      "execution_count": null,
      "outputs": [
        {
          "output_type": "stream",
          "name": "stdout",
          "text": [
            "(80, 2)\n",
            "(20, 2)\n"
          ]
        }
      ]
    },
    {
      "cell_type": "code",
      "source": [
        "from sklearn import svm\n",
        "# Create a linear SVM classifier\n",
        "clf = svm.SVC(kernel='linear')\n",
        "# Train classifier\n",
        "clf.fit(X_train,y_train)\n",
        "\n",
        "# # Plot decision function on training and test data\n",
        "# plot_decision_function(X_train, y_train, X_test, y_test, clf)"
      ],
      "metadata": {
        "colab": {
          "base_uri": "https://localhost:8080/",
          "height": 74
        },
        "id": "JDDGpjQcvP-J",
        "outputId": "d3c1a14e-d6d4-49e1-b088-c8181bab6a47"
      },
      "execution_count": null,
      "outputs": [
        {
          "output_type": "execute_result",
          "data": {
            "text/plain": [
              "SVC(kernel='linear')"
            ],
            "text/html": [
              "<style>#sk-container-id-3 {color: black;background-color: white;}#sk-container-id-3 pre{padding: 0;}#sk-container-id-3 div.sk-toggleable {background-color: white;}#sk-container-id-3 label.sk-toggleable__label {cursor: pointer;display: block;width: 100%;margin-bottom: 0;padding: 0.3em;box-sizing: border-box;text-align: center;}#sk-container-id-3 label.sk-toggleable__label-arrow:before {content: \"▸\";float: left;margin-right: 0.25em;color: #696969;}#sk-container-id-3 label.sk-toggleable__label-arrow:hover:before {color: black;}#sk-container-id-3 div.sk-estimator:hover label.sk-toggleable__label-arrow:before {color: black;}#sk-container-id-3 div.sk-toggleable__content {max-height: 0;max-width: 0;overflow: hidden;text-align: left;background-color: #f0f8ff;}#sk-container-id-3 div.sk-toggleable__content pre {margin: 0.2em;color: black;border-radius: 0.25em;background-color: #f0f8ff;}#sk-container-id-3 input.sk-toggleable__control:checked~div.sk-toggleable__content {max-height: 200px;max-width: 100%;overflow: auto;}#sk-container-id-3 input.sk-toggleable__control:checked~label.sk-toggleable__label-arrow:before {content: \"▾\";}#sk-container-id-3 div.sk-estimator input.sk-toggleable__control:checked~label.sk-toggleable__label {background-color: #d4ebff;}#sk-container-id-3 div.sk-label input.sk-toggleable__control:checked~label.sk-toggleable__label {background-color: #d4ebff;}#sk-container-id-3 input.sk-hidden--visually {border: 0;clip: rect(1px 1px 1px 1px);clip: rect(1px, 1px, 1px, 1px);height: 1px;margin: -1px;overflow: hidden;padding: 0;position: absolute;width: 1px;}#sk-container-id-3 div.sk-estimator {font-family: monospace;background-color: #f0f8ff;border: 1px dotted black;border-radius: 0.25em;box-sizing: border-box;margin-bottom: 0.5em;}#sk-container-id-3 div.sk-estimator:hover {background-color: #d4ebff;}#sk-container-id-3 div.sk-parallel-item::after {content: \"\";width: 100%;border-bottom: 1px solid gray;flex-grow: 1;}#sk-container-id-3 div.sk-label:hover label.sk-toggleable__label {background-color: #d4ebff;}#sk-container-id-3 div.sk-serial::before {content: \"\";position: absolute;border-left: 1px solid gray;box-sizing: border-box;top: 0;bottom: 0;left: 50%;z-index: 0;}#sk-container-id-3 div.sk-serial {display: flex;flex-direction: column;align-items: center;background-color: white;padding-right: 0.2em;padding-left: 0.2em;position: relative;}#sk-container-id-3 div.sk-item {position: relative;z-index: 1;}#sk-container-id-3 div.sk-parallel {display: flex;align-items: stretch;justify-content: center;background-color: white;position: relative;}#sk-container-id-3 div.sk-item::before, #sk-container-id-3 div.sk-parallel-item::before {content: \"\";position: absolute;border-left: 1px solid gray;box-sizing: border-box;top: 0;bottom: 0;left: 50%;z-index: -1;}#sk-container-id-3 div.sk-parallel-item {display: flex;flex-direction: column;z-index: 1;position: relative;background-color: white;}#sk-container-id-3 div.sk-parallel-item:first-child::after {align-self: flex-end;width: 50%;}#sk-container-id-3 div.sk-parallel-item:last-child::after {align-self: flex-start;width: 50%;}#sk-container-id-3 div.sk-parallel-item:only-child::after {width: 0;}#sk-container-id-3 div.sk-dashed-wrapped {border: 1px dashed gray;margin: 0 0.4em 0.5em 0.4em;box-sizing: border-box;padding-bottom: 0.4em;background-color: white;}#sk-container-id-3 div.sk-label label {font-family: monospace;font-weight: bold;display: inline-block;line-height: 1.2em;}#sk-container-id-3 div.sk-label-container {text-align: center;}#sk-container-id-3 div.sk-container {/* jupyter's `normalize.less` sets `[hidden] { display: none; }` but bootstrap.min.css set `[hidden] { display: none !important; }` so we also need the `!important` here to be able to override the default hidden behavior on the sphinx rendered scikit-learn.org. See: https://github.com/scikit-learn/scikit-learn/issues/21755 */display: inline-block !important;position: relative;}#sk-container-id-3 div.sk-text-repr-fallback {display: none;}</style><div id=\"sk-container-id-3\" class=\"sk-top-container\"><div class=\"sk-text-repr-fallback\"><pre>SVC(kernel=&#x27;linear&#x27;)</pre><b>In a Jupyter environment, please rerun this cell to show the HTML representation or trust the notebook. <br />On GitHub, the HTML representation is unable to render, please try loading this page with nbviewer.org.</b></div><div class=\"sk-container\" hidden><div class=\"sk-item\"><div class=\"sk-estimator sk-toggleable\"><input class=\"sk-toggleable__control sk-hidden--visually\" id=\"sk-estimator-id-3\" type=\"checkbox\" checked><label for=\"sk-estimator-id-3\" class=\"sk-toggleable__label sk-toggleable__label-arrow\">SVC</label><div class=\"sk-toggleable__content\"><pre>SVC(kernel=&#x27;linear&#x27;)</pre></div></div></div></div></div>"
            ]
          },
          "metadata": {},
          "execution_count": 22
        }
      ]
    },
    {
      "cell_type": "code",
      "source": [
        "# Make predictions on unseen test data\n",
        "clf_predictions = clf.predict(X_test)\n",
        "print(\"Accuracy: {}%\".format(clf.score(X_test, y_test) * 100 ))"
      ],
      "metadata": {
        "colab": {
          "base_uri": "https://localhost:8080/"
        },
        "id": "w5Uqw9f0vTRM",
        "outputId": "ec8f6417-927f-4b52-e347-e5623a8fef0c"
      },
      "execution_count": null,
      "outputs": [
        {
          "output_type": "stream",
          "name": "stdout",
          "text": [
            "Accuracy: 100.0%\n"
          ]
        }
      ]
    },
    {
      "cell_type": "code",
      "source": [
        "plt.scatter(X_train[:, 0], X_train[:, 1], c=y_train, s=20, cmap=plt.cm.Paired)\n",
        "from sklearn.inspection import DecisionBoundaryDisplay\n",
        "# plot the decision function\n",
        "ax = plt.gca()\n",
        "DecisionBoundaryDisplay.from_estimator(\n",
        "    clf,\n",
        "    X_train,\n",
        "    plot_method=\"contour\",\n",
        "    colors=\"k\",\n",
        "    levels=[-1, 0, 1],\n",
        "    alpha=0.5,\n",
        "    linestyles=[\"--\", \"-\", \"--\"],\n",
        "    ax=ax,\n",
        ")\n",
        "# plot support vectors\n",
        "ax.scatter(\n",
        "    clf.support_vectors_[:, 0],\n",
        "    clf.support_vectors_[:, 1],\n",
        "    s=100,\n",
        "    linewidth=1,\n",
        "    facecolors=\"none\",\n",
        "    edgecolors=\"k\",\n",
        ")\n",
        "plt.show()"
      ],
      "metadata": {
        "colab": {
          "base_uri": "https://localhost:8080/",
          "height": 265
        },
        "id": "1Y_UhrNTvTy3",
        "outputId": "03d5afbb-87cb-4911-b5ba-045eb75f72e9"
      },
      "execution_count": null,
      "outputs": [
        {
          "output_type": "display_data",
          "data": {
            "text/plain": [
              "<Figure size 432x288 with 1 Axes>"
            ],
            "image/png": "[encoded data removed]"
          },
          "metadata": {
            "needs_background": "light"
          }
        }
      ]
    },
    {
      "cell_type": "code",
      "source": [
        "plt.scatter(X_test[:, 0], X_test[:, 1], s=20, cmap=plt.cm.Paired)\n",
        "from sklearn.inspection import DecisionBoundaryDisplay\n",
        "# plot the decision function\n",
        "ax = plt.gca()\n",
        "DecisionBoundaryDisplay.from_estimator(\n",
        "    clf,\n",
        "    X_test,\n",
        "    plot_method=\"contour\",\n",
        "    colors=\"k\",\n",
        "    levels=[-1, 0, 1],\n",
        "    alpha=0.5,\n",
        "    linestyles=[\"--\", \"-\", \"--\"],\n",
        "    ax=ax,\n",
        ")\n",
        "# plot support vectors\n",
        "ax.scatter(\n",
        "    clf.support_vectors_[:, 0],\n",
        "    clf.support_vectors_[:, 1],\n",
        "    s=100,\n",
        "    linewidth=1,\n",
        "    facecolors=\"none\",\n",
        "    edgecolors=\"k\",\n",
        ")\n",
        "plt.show()"
      ],
      "metadata": {
        "colab": {
          "base_uri": "https://localhost:8080/",
          "height": 300
        },
        "id": "aXAlsGV8vU69",
        "outputId": "d41869a7-b616-4115-ce45-f75d581575d8"
      },
      "execution_count": null,
      "outputs": [
        {
          "output_type": "stream",
          "name": "stderr",
          "text": [
            "<ipython-input-25-4fe2ea898e00>:1: UserWarning: No data for colormapping provided via 'c'. Parameters 'cmap' will be ignored\n",
            "  plt.scatter(X_test[:, 0], X_test[:, 1], s=20, cmap=plt.cm.Paired)\n"
          ]
        },
        {
          "output_type": "display_data",
          "data": {
            "text/plain": [
              "<Figure size 432x288 with 1 Axes>"
            ],
            "image/png": "[encoded data removed]"
          },
          "metadata": {
            "needs_background": "light"
          }
        }
      ]
    },
    {
      "cell_type": "code",
      "source": [
        "print(\"Accuracy: {}%\".format(clf.score(X_test, y_test) * 100))"
      ],
      "metadata": {
        "colab": {
          "base_uri": "https://localhost:8080/"
        },
        "id": "B3_7vrZcvWXO",
        "outputId": "da0bfce5-dede-48ad-eef9-20d2beb27c3d"
      },
      "execution_count": null,
      "outputs": [
        {
          "output_type": "stream",
          "name": "stdout",
          "text": [
            "Accuracy: 100.0%\n"
          ]
        }
      ]
    },
    {
      "cell_type": "code",
      "source": [
        "ig, ax = plt.subplots()\n",
        "# title for the plots\n",
        "title = ('Decision surface of linear SVC ')\n",
        "# Set-up grid for plotting.\n",
        "X0, X1 = X[:, 0], X[:, 1]\n",
        "xx, yy = make_meshgrid(X0, X1)\n",
        "plot_contours(ax, clf, xx, yy, cmap=plt.cm.coolwarm, alpha=0.8)\n",
        "\n",
        "5\n",
        "\n",
        "ax.scatter(X0, X1, c=Y, cmap=plt.cm.coolwarm, s=20,edgecolors='k')\n",
        "ax.set_ylabel('y label here')\n",
        "ax.set_xlabel('x label here')\n",
        "ax.set_xticks(())\n",
        "ax.set_yticks(())\n",
        "ax.set_title(title)\n",
        "ax.legend()\n",
        "plt.show()"
      ],
      "metadata": {
        "colab": {
          "base_uri": "https://localhost:8080/",
          "height": 295
        },
        "id": "S_2AKRkivXz4",
        "outputId": "00c5fd95-45c1-44a1-a674-69bc2f67bfb5"
      },
      "execution_count": null,
      "outputs": [
        {
          "output_type": "stream",
          "name": "stderr",
          "text": [
            "WARNING:matplotlib.legend:No artists with labels found to put in legend.  Note that artists whose label start with an underscore are ignored when legend() is called with no argument.\n"
          ]
        },
        {
          "output_type": "display_data",
          "data": {
            "text/plain": [
              "<Figure size 432x288 with 1 Axes>"
            ],
            "image/png": "[encoded data removed]"
          },
          "metadata": {}
        }
      ]
    },
    {
      "cell_type": "markdown",
      "source": [
        "Breast cancer dataset"
      ],
      "metadata": {
        "id": "EpJloFoYveRg"
      }
    },
    {
      "cell_type": "code",
      "source": [
        "#Import scikit-learn dataset library\n",
        "from sklearn import datasets\n",
        "#Load dataset\n",
        "cancer = datasets.load_breast_cancer()"
      ],
      "metadata": {
        "id": "xmFdsM6yvZLN"
      },
      "execution_count": null,
      "outputs": []
    },
    {
      "cell_type": "code",
      "source": [
        "import pandas as pd"
      ],
      "metadata": {
        "id": "ovKCPjjAvjFz"
      },
      "execution_count": null,
      "outputs": []
    },
    {
      "cell_type": "code",
      "source": [
        "df = pd.DataFrame(cancer.data,columns=cancer.feature_names)\n",
        "df['target'] = cancer.target\n",
        "df.tail()"
      ],
      "metadata": {
        "colab": {
          "base_uri": "https://localhost:8080/",
          "height": 334
        },
        "id": "QffnlHkvvkPb",
        "outputId": "53e8864a-e1b3-4aab-c1ea-0a952a357562"
      },
      "execution_count": null,
      "outputs": [
        {
          "output_type": "execute_result",
          "data": {
            "text/plain": [
              "     mean radius  mean texture  mean perimeter  mean area  mean smoothness  \\\n",
              "564        21.56         22.39          142.00     1479.0          0.11100   \n",
              "565        20.13         28.25          131.20     1261.0          0.09780   \n",
              "566        16.60         28.08          108.30      858.1          0.08455   \n",
              "567        20.60         29.33          140.10     1265.0          0.11780   \n",
              "568         7.76         24.54           47.92      181.0          0.05263   \n",
              "\n",
              "     mean compactness  mean concavity  mean concave points  mean symmetry  \\\n",
              "564           0.11590         0.24390              0.13890         0.1726   \n",
              "565           0.10340         0.14400              0.09791         0.1752   \n",
              "566           0.10230         0.09251              0.05302         0.1590   \n",
              "567           0.27700         0.35140              0.15200         0.2397   \n",
              "568           0.04362         0.00000              0.00000         0.1587   \n",
              "\n",
              "     mean fractal dimension  ...  worst texture  worst perimeter  worst area  \\\n",
              "564                 0.05623  ...          26.40           166.10      2027.0   \n",
              "565                 0.05533  ...          38.25           155.00      1731.0   \n",
              "566                 0.05648  ...          34.12           126.70      1124.0   \n",
              "567                 0.07016  ...          39.42           184.60      1821.0   \n",
              "568                 0.05884  ...          30.37            59.16       268.6   \n",
              "\n",
              "     worst smoothness  worst compactness  worst concavity  \\\n",
              "564           0.14100            0.21130           0.4107   \n",
              "565           0.11660            0.19220           0.3215   \n",
              "566           0.11390            0.30940           0.3403   \n",
              "567           0.16500            0.86810           0.9387   \n",
              "568           0.08996            0.06444           0.0000   \n",
              "\n",
              "     worst concave points  worst symmetry  worst fractal dimension  target  \n",
              "564                0.2216          0.2060                  0.07115       0  \n",
              "565                0.1628          0.2572                  0.06637       0  \n",
              "566                0.1418          0.2218                  0.07820       0  \n",
              "567                0.2650          0.4087                  0.12400       0  \n",
              "568                0.0000          0.2871                  0.07039       1  \n",
              "\n",
              "[5 rows x 31 columns]"
            ],
            "text/html": [
              "\n",
              "  <div id=\"df-a58af792-1120-429d-9b3c-77960c07642e\">\n",
              "    <div class=\"colab-df-container\">\n",
              "      <div>\n",
              "<style scoped>\n",
              "    .dataframe tbody tr th:only-of-type {\n",
              "        vertical-align: middle;\n",
              "    }\n",
              "\n",
              "    .dataframe tbody tr th {\n",
              "        vertical-align: top;\n",
              "    }\n",
              "\n",
              "    .dataframe thead th {\n",
              "        text-align: right;\n",
              "    }\n",
              "</style>\n",
              "<table border=\"1\" class=\"dataframe\">\n",
              "  <thead>\n",
              "    <tr style=\"text-align: right;\">\n",
              "      <th></th>\n",
              "      <th>mean radius</th>\n",
              "      <th>mean texture</th>\n",
              "      <th>mean perimeter</th>\n",
              "      <th>mean area</th>\n",
              "      <th>mean smoothness</th>\n",
              "      <th>mean compactness</th>\n",
              "      <th>mean concavity</th>\n",
              "      <th>mean concave points</th>\n",
              "      <th>mean symmetry</th>\n",
              "      <th>mean fractal dimension</th>\n",
              "      <th>...</th>\n",
              "      <th>worst texture</th>\n",
              "      <th>worst perimeter</th>\n",
              "      <th>worst area</th>\n",
              "      <th>worst smoothness</th>\n",
              "      <th>worst compactness</th>\n",
              "      <th>worst concavity</th>\n",
              "      <th>worst concave points</th>\n",
              "      <th>worst symmetry</th>\n",
              "      <th>worst fractal dimension</th>\n",
              "      <th>target</th>\n",
              "    </tr>\n",
              "  </thead>\n",
              "  <tbody>\n",
              "    <tr>\n",
              "      <th>564</th>\n",
              "      <td>21.56</td>\n",
              "      <td>22.39</td>\n",
              "      <td>142.00</td>\n",
              "      <td>1479.0</td>\n",
              "      <td>0.11100</td>\n",
              "      <td>0.11590</td>\n",
              "      <td>0.24390</td>\n",
              "      <td>0.13890</td>\n",
              "      <td>0.1726</td>\n",
              "      <td>0.05623</td>\n",
              "      <td>...</td>\n",
              "      <td>26.40</td>\n",
              "      <td>166.10</td>\n",
              "      <td>2027.0</td>\n",
              "      <td>0.14100</td>\n",
              "      <td>0.21130</td>\n",
              "      <td>0.4107</td>\n",
              "      <td>0.2216</td>\n",
              "      <td>0.2060</td>\n",
              "      <td>0.07115</td>\n",
              "      <td>0</td>\n",
              "    </tr>\n",
              "    <tr>\n",
              "      <th>565</th>\n",
              "      <td>20.13</td>\n",
              "      <td>28.25</td>\n",
              "      <td>131.20</td>\n",
              "      <td>1261.0</td>\n",
              "      <td>0.09780</td>\n",
              "      <td>0.10340</td>\n",
              "      <td>0.14400</td>\n",
              "      <td>0.09791</td>\n",
              "      <td>0.1752</td>\n",
              "      <td>0.05533</td>\n",
              "      <td>...</td>\n",
              "      <td>38.25</td>\n",
              "      <td>155.00</td>\n",
              "      <td>1731.0</td>\n",
              "      <td>0.11660</td>\n",
              "      <td>0.19220</td>\n",
              "      <td>0.3215</td>\n",
              "      <td>0.1628</td>\n",
              "      <td>0.2572</td>\n",
              "      <td>0.06637</td>\n",
              "      <td>0</td>\n",
              "    </tr>\n",
              "    <tr>\n",
              "      <th>566</th>\n",
              "      <td>16.60</td>\n",
              "      <td>28.08</td>\n",
              "      <td>108.30</td>\n",
              "      <td>858.1</td>\n",
              "      <td>0.08455</td>\n",
              "      <td>0.10230</td>\n",
              "      <td>0.09251</td>\n",
              "      <td>0.05302</td>\n",
              "      <td>0.1590</td>\n",
              "      <td>0.05648</td>\n",
              "      <td>...</td>\n",
              "      <td>34.12</td>\n",
              "      <td>126.70</td>\n",
              "      <td>1124.0</td>\n",
              "      <td>0.11390</td>\n",
              "      <td>0.30940</td>\n",
              "      <td>0.3403</td>\n",
              "      <td>0.1418</td>\n",
              "      <td>0.2218</td>\n",
              "      <td>0.07820</td>\n",
              "      <td>0</td>\n",
              "    </tr>\n",
              "    <tr>\n",
              "      <th>567</th>\n",
              "      <td>20.60</td>\n",
              "      <td>29.33</td>\n",
              "      <td>140.10</td>\n",
              "      <td>1265.0</td>\n",
              "      <td>0.11780</td>\n",
              "      <td>0.27700</td>\n",
              "      <td>0.35140</td>\n",
              "      <td>0.15200</td>\n",
              "      <td>0.2397</td>\n",
              "      <td>0.07016</td>\n",
              "      <td>...</td>\n",
              "      <td>39.42</td>\n",
              "      <td>184.60</td>\n",
              "      <td>1821.0</td>\n",
              "      <td>0.16500</td>\n",
              "      <td>0.86810</td>\n",
              "      <td>0.9387</td>\n",
              "      <td>0.2650</td>\n",
              "      <td>0.4087</td>\n",
              "      <td>0.12400</td>\n",
              "      <td>0</td>\n",
              "    </tr>\n",
              "    <tr>\n",
              "      <th>568</th>\n",
              "      <td>7.76</td>\n",
              "      <td>24.54</td>\n",
              "      <td>47.92</td>\n",
              "      <td>181.0</td>\n",
              "      <td>0.05263</td>\n",
              "      <td>0.04362</td>\n",
              "      <td>0.00000</td>\n",
              "      <td>0.00000</td>\n",
              "      <td>0.1587</td>\n",
              "      <td>0.05884</td>\n",
              "      <td>...</td>\n",
              "      <td>30.37</td>\n",
              "      <td>59.16</td>\n",
              "      <td>268.6</td>\n",
              "      <td>0.08996</td>\n",
              "      <td>0.06444</td>\n",
              "      <td>0.0000</td>\n",
              "      <td>0.0000</td>\n",
              "      <td>0.2871</td>\n",
              "      <td>0.07039</td>\n",
              "      <td>1</td>\n",
              "    </tr>\n",
              "  </tbody>\n",
              "</table>\n",
              "<p>5 rows × 31 columns</p>\n",
              "</div>\n",
              "      <button class=\"colab-df-convert\" onclick=\"convertToInteractive('df-a58af792-1120-429d-9b3c-77960c07642e')\"\n",
              "              title=\"Convert this dataframe to an interactive table.\"\n",
              "              style=\"display:none;\">\n",
              "        \n",
              "  <svg xmlns=\"http://www.w3.org/2000/svg\" height=\"24px\"viewBox=\"0 0 24 24\"\n",
              "       width=\"24px\">\n",
              "    <path d=\"M0 0h24v24H0V0z\" fill=\"none\"/>\n",
              "    <path d=\"M18.56 5.44l.94 2.06.94-2.06 2.06-.94-2.06-.94-.94-2.06-.94 2.06-2.06.94zm-11 1L8.5 8.5l.94-2.06 2.06-.94-2.06-.94L8.5 2.5l-.94 2.06-2.06.94zm10 10l.94 2.06.94-2.06 2.06-.94-2.06-.94-.94-2.06-.94 2.06-2.06.94z\"/><path d=\"M17.41 7.96l-1.37-1.37c-.4-.4-.92-.59-1.43-.59-.52 0-1.04.2-1.43.59L10.3 9.45l-7.72 7.72c-.78.78-.78 2.05 0 2.83L4 21.41c.39.39.9.59 1.41.59.51 0 1.02-.2 1.41-.59l7.78-7.78 2.81-2.81c.8-.78.8-2.07 0-2.86zM5.41 20L4 18.59l7.72-7.72 1.47 1.35L5.41 20z\"/>\n",
              "  </svg>\n",
              "      </button>\n",
              "      \n",
              "  <style>\n",
              "    .colab-df-container {\n",
              "      display:flex;\n",
              "      flex-wrap:wrap;\n",
              "      gap: 12px;\n",
              "    }\n",
              "\n",
              "    .colab-df-convert {\n",
              "      background-color: #E8F0FE;\n",
              "      border: none;\n",
              "      border-radius: 50%;\n",
              "      cursor: pointer;\n",
              "      display: none;\n",
              "      fill: #1967D2;\n",
              "      height: 32px;\n",
              "      padding: 0 0 0 0;\n",
              "      width: 32px;\n",
              "    }\n",
              "\n",
              "    .colab-df-convert:hover {\n",
              "      background-color: #E2EBFA;\n",
              "      box-shadow: 0px 1px 2px rgba(60, 64, 67, 0.3), 0px 1px 3px 1px rgba(60, 64, 67, 0.15);\n",
              "      fill: #174EA6;\n",
              "    }\n",
              "\n",
              "    [theme=dark] .colab-df-convert {\n",
              "      background-color: #3B4455;\n",
              "      fill: #D2E3FC;\n",
              "    }\n",
              "\n",
              "    [theme=dark] .colab-df-convert:hover {\n",
              "      background-color: #434B5C;\n",
              "      box-shadow: 0px 1px 3px 1px rgba(0, 0, 0, 0.15);\n",
              "      filter: drop-shadow(0px 1px 2px rgba(0, 0, 0, 0.3));\n",
              "      fill: #FFFFFF;\n",
              "    }\n",
              "  </style>\n",
              "\n",
              "      <script>\n",
              "        const buttonEl =\n",
              "          document.querySelector('#df-a58af792-1120-429d-9b3c-77960c07642e button.colab-df-convert');\n",
              "        buttonEl.style.display =\n",
              "          google.colab.kernel.accessAllowed ? 'block' : 'none';\n",
              "\n",
              "        async function convertToInteractive(key) {\n",
              "          const element = document.querySelector('#df-a58af792-1120-429d-9b3c-77960c07642e');\n",
              "          const dataTable =\n",
              "            await google.colab.kernel.invokeFunction('convertToInteractive',\n",
              "                                                     [key], {});\n",
              "          if (!dataTable) return;\n",
              "\n",
              "          const docLinkHtml = 'Like what you see? Visit the ' +\n",
              "            '<a target=\"_blank\" href=https://colab.research.google.com/notebooks/data_table.ipynb>data table notebook</a>'\n",
              "            + ' to learn more about interactive tables.';\n",
              "          element.innerHTML = '';\n",
              "          dataTable['output_type'] = 'display_data';\n",
              "          await google.colab.output.renderOutput(dataTable, element);\n",
              "          const docLink = document.createElement('div');\n",
              "          docLink.innerHTML = docLinkHtml;\n",
              "          element.appendChild(docLink);\n",
              "        }\n",
              "      </script>\n",
              "    </div>\n",
              "  </div>\n",
              "  "
            ]
          },
          "metadata": {},
          "execution_count": 30
        }
      ]
    },
    {
      "cell_type": "code",
      "source": [
        "cancer.feature_names"
      ],
      "metadata": {
        "colab": {
          "base_uri": "https://localhost:8080/"
        },
        "id": "1Q6xLqe0vlOH",
        "outputId": "42dd00c0-530b-4a35-c638-79c45e5f305e"
      },
      "execution_count": null,
      "outputs": [
        {
          "output_type": "execute_result",
          "data": {
            "text/plain": [
              "array(['mean radius', 'mean texture', 'mean perimeter', 'mean area',\n",
              "       'mean smoothness', 'mean compactness', 'mean concavity',\n",
              "       'mean concave points', 'mean symmetry', 'mean fractal dimension',\n",
              "       'radius error', 'texture error', 'perimeter error', 'area error',\n",
              "       'smoothness error', 'compactness error', 'concavity error',\n",
              "       'concave points error', 'symmetry error',\n",
              "       'fractal dimension error', 'worst radius', 'worst texture',\n",
              "       'worst perimeter', 'worst area', 'worst smoothness',\n",
              "       'worst compactness', 'worst concavity', 'worst concave points',\n",
              "       'worst symmetry', 'worst fractal dimension'], dtype='<U23')"
            ]
          },
          "metadata": {},
          "execution_count": 31
        }
      ]
    },
    {
      "cell_type": "code",
      "source": [
        "cancer.target_names"
      ],
      "metadata": {
        "colab": {
          "base_uri": "https://localhost:8080/"
        },
        "id": "w8Sz_HHevmiy",
        "outputId": "a2d31153-5b4f-4091-dada-d861ebbf9142"
      },
      "execution_count": null,
      "outputs": [
        {
          "output_type": "execute_result",
          "data": {
            "text/plain": [
              "array(['malignant', 'benign'], dtype='<U9')"
            ]
          },
          "metadata": {},
          "execution_count": 32
        }
      ]
    },
    {
      "cell_type": "code",
      "source": [
        "cancer.target"
      ],
      "metadata": {
        "colab": {
          "base_uri": "https://localhost:8080/"
        },
        "id": "TI851dFJvns1",
        "outputId": "cacbdda0-0e79-4c3c-d13b-f546a6a355b2"
      },
      "execution_count": null,
      "outputs": [
        {
          "output_type": "execute_result",
          "data": {
            "text/plain": [
              "array([0, 0, 0, 0, 0, 0, 0, 0, 0, 0, 0, 0, 0, 0, 0, 0, 0, 0, 0, 1, 1, 1,\n",
              "       0, 0, 0, 0, 0, 0, 0, 0, 0, 0, 0, 0, 0, 0, 0, 1, 0, 0, 0, 0, 0, 0,\n",
              "       0, 0, 1, 0, 1, 1, 1, 1, 1, 0, 0, 1, 0, 0, 1, 1, 1, 1, 0, 1, 0, 0,\n",
              "       1, 1, 1, 1, 0, 1, 0, 0, 1, 0, 1, 0, 0, 1, 1, 1, 0, 0, 1, 0, 0, 0,\n",
              "       1, 1, 1, 0, 1, 1, 0, 0, 1, 1, 1, 0, 0, 1, 1, 1, 1, 0, 1, 1, 0, 1,\n",
              "       1, 1, 1, 1, 1, 1, 1, 0, 0, 0, 1, 0, 0, 1, 1, 1, 0, 0, 1, 0, 1, 0,\n",
              "       0, 1, 0, 0, 1, 1, 0, 1, 1, 0, 1, 1, 1, 1, 0, 1, 1, 1, 1, 1, 1, 1,\n",
              "       1, 1, 0, 1, 1, 1, 1, 0, 0, 1, 0, 1, 1, 0, 0, 1, 1, 0, 0, 1, 1, 1,\n",
              "       1, 0, 1, 1, 0, 0, 0, 1, 0, 1, 0, 1, 1, 1, 0, 1, 1, 0, 0, 1, 0, 0,\n",
              "       0, 0, 1, 0, 0, 0, 1, 0, 1, 0, 1, 1, 0, 1, 0, 0, 0, 0, 1, 1, 0, 0,\n",
              "       1, 1, 1, 0, 1, 1, 1, 1, 1, 0, 0, 1, 1, 0, 1, 1, 0, 0, 1, 0, 1, 1,\n",
              "       1, 1, 0, 1, 1, 1, 1, 1, 0, 1, 0, 0, 0, 0, 0, 0, 0, 0, 0, 0, 0, 0,\n",
              "       0, 0, 1, 1, 1, 1, 1, 1, 0, 1, 0, 1, 1, 0, 1, 1, 0, 1, 0, 0, 1, 1,\n",
              "       1, 1, 1, 1, 1, 1, 1, 1, 1, 1, 1, 0, 1, 1, 0, 1, 0, 1, 1, 1, 1, 1,\n",
              "       1, 1, 1, 1, 1, 1, 1, 1, 1, 0, 1, 1, 1, 0, 1, 0, 1, 1, 1, 1, 0, 0,\n",
              "       0, 1, 1, 1, 1, 0, 1, 0, 1, 0, 1, 1, 1, 0, 1, 1, 1, 1, 1, 1, 1, 0,\n",
              "       0, 0, 1, 1, 1, 1, 1, 1, 1, 1, 1, 1, 1, 0, 0, 1, 0, 0, 0, 1, 0, 0,\n",
              "       1, 1, 1, 1, 1, 0, 1, 1, 1, 1, 1, 0, 1, 1, 1, 0, 1, 1, 0, 0, 1, 1,\n",
              "       1, 1, 1, 1, 0, 1, 1, 1, 1, 1, 1, 1, 0, 1, 1, 1, 1, 1, 0, 1, 1, 0,\n",
              "       1, 1, 1, 1, 1, 1, 1, 1, 1, 1, 1, 1, 0, 1, 0, 0, 1, 0, 1, 1, 1, 1,\n",
              "       1, 0, 1, 1, 0, 1, 0, 1, 1, 0, 1, 0, 1, 1, 1, 1, 1, 1, 1, 1, 0, 0,\n",
              "       1, 1, 1, 1, 1, 1, 0, 1, 1, 1, 1, 1, 1, 1, 1, 1, 1, 0, 1, 1, 1, 1,\n",
              "       1, 1, 1, 0, 1, 0, 1, 1, 0, 1, 1, 1, 1, 1, 0, 0, 1, 0, 1, 0, 1, 1,\n",
              "       1, 1, 1, 0, 1, 1, 0, 1, 0, 1, 0, 0, 1, 1, 1, 0, 1, 1, 1, 1, 1, 1,\n",
              "       1, 1, 1, 1, 1, 0, 1, 0, 0, 1, 1, 1, 1, 1, 1, 1, 1, 1, 1, 1, 1, 1,\n",
              "       1, 1, 1, 1, 1, 1, 1, 1, 1, 1, 1, 1, 0, 0, 0, 0, 0, 0, 1])"
            ]
          },
          "metadata": {},
          "execution_count": 33
        }
      ]
    },
    {
      "cell_type": "code",
      "source": [
        "df.shape"
      ],
      "metadata": {
        "colab": {
          "base_uri": "https://localhost:8080/"
        },
        "id": "B1b0JGHovrUV",
        "outputId": "b4b29d73-56ac-4639-beda-606be20a75ce"
      },
      "execution_count": null,
      "outputs": [
        {
          "output_type": "execute_result",
          "data": {
            "text/plain": [
              "(569, 31)"
            ]
          },
          "metadata": {},
          "execution_count": 34
        }
      ]
    },
    {
      "cell_type": "code",
      "source": [
        "cancer.target_names"
      ],
      "metadata": {
        "colab": {
          "base_uri": "https://localhost:8080/"
        },
        "id": "Sz_iVFqAvsmP",
        "outputId": "15bef8be-c757-441b-db6f-b519f32a22bc"
      },
      "execution_count": null,
      "outputs": [
        {
          "output_type": "execute_result",
          "data": {
            "text/plain": [
              "array(['malignant', 'benign'], dtype='<U9')"
            ]
          },
          "metadata": {},
          "execution_count": 35
        }
      ]
    },
    {
      "cell_type": "code",
      "source": [
        "X = pd.DataFrame(cancer.data,columns=cancer.feature_names)\n",
        "Y = df['target']\n",
        "Y"
      ],
      "metadata": {
        "colab": {
          "base_uri": "https://localhost:8080/"
        },
        "id": "5A__RnTcvtl_",
        "outputId": "0c944635-26a2-4973-dc52-a20e2d3d4549"
      },
      "execution_count": null,
      "outputs": [
        {
          "output_type": "execute_result",
          "data": {
            "text/plain": [
              "0      0\n",
              "1      0\n",
              "2      0\n",
              "3      0\n",
              "4      0\n",
              "      ..\n",
              "564    0\n",
              "565    0\n",
              "566    0\n",
              "567    0\n",
              "568    1\n",
              "Name: target, Length: 569, dtype: int64"
            ]
          },
          "metadata": {},
          "execution_count": 36
        }
      ]
    },
    {
      "cell_type": "code",
      "source": [
        "import numpy as np # linear algebra\n",
        "import pandas as pd \n",
        "\n",
        "import matplotlib.pyplot as plt\n",
        "import scipy.stats as stats\n",
        "import seaborn as sns\n",
        "import xgboost as xgb\n",
        "from sklearn.model_selection import KFold\n",
        "from IPython.display import HTML, display\n",
        "from sklearn.manifold import TSNE\n",
        "from sklearn.decomposition import PCA\n",
        "from sklearn.preprocessing import StandardScaler\n"
      ],
      "metadata": {
        "id": "ueHVt4c_vueh"
      },
      "execution_count": null,
      "outputs": []
    },
    {
      "cell_type": "code",
      "source": [
        "data = datasets.load_breast_cancer()\n",
        "data = pd.DataFrame(cancer.data,columns=cancer.feature_names)\n",
        "data['target'] = cancer.target\n",
        "data.tail()"
      ],
      "metadata": {
        "colab": {
          "base_uri": "https://localhost:8080/",
          "height": 334
        },
        "id": "GIDI1RBFvwct",
        "outputId": "48c486d6-793b-482d-8f39-cf20dbc67b0c"
      },
      "execution_count": null,
      "outputs": [
        {
          "output_type": "execute_result",
          "data": {
            "text/plain": [
              "     mean radius  mean texture  mean perimeter  mean area  mean smoothness  \\\n",
              "564        21.56         22.39          142.00     1479.0          0.11100   \n",
              "565        20.13         28.25          131.20     1261.0          0.09780   \n",
              "566        16.60         28.08          108.30      858.1          0.08455   \n",
              "567        20.60         29.33          140.10     1265.0          0.11780   \n",
              "568         7.76         24.54           47.92      181.0          0.05263   \n",
              "\n",
              "     mean compactness  mean concavity  mean concave points  mean symmetry  \\\n",
              "564           0.11590         0.24390              0.13890         0.1726   \n",
              "565           0.10340         0.14400              0.09791         0.1752   \n",
              "566           0.10230         0.09251              0.05302         0.1590   \n",
              "567           0.27700         0.35140              0.15200         0.2397   \n",
              "568           0.04362         0.00000              0.00000         0.1587   \n",
              "\n",
              "     mean fractal dimension  ...  worst texture  worst perimeter  worst area  \\\n",
              "564                 0.05623  ...          26.40           166.10      2027.0   \n",
              "565                 0.05533  ...          38.25           155.00      1731.0   \n",
              "566                 0.05648  ...          34.12           126.70      1124.0   \n",
              "567                 0.07016  ...          39.42           184.60      1821.0   \n",
              "568                 0.05884  ...          30.37            59.16       268.6   \n",
              "\n",
              "     worst smoothness  worst compactness  worst concavity  \\\n",
              "564           0.14100            0.21130           0.4107   \n",
              "565           0.11660            0.19220           0.3215   \n",
              "566           0.11390            0.30940           0.3403   \n",
              "567           0.16500            0.86810           0.9387   \n",
              "568           0.08996            0.06444           0.0000   \n",
              "\n",
              "     worst concave points  worst symmetry  worst fractal dimension  target  \n",
              "564                0.2216          0.2060                  0.07115       0  \n",
              "565                0.1628          0.2572                  0.06637       0  \n",
              "566                0.1418          0.2218                  0.07820       0  \n",
              "567                0.2650          0.4087                  0.12400       0  \n",
              "568                0.0000          0.2871                  0.07039       1  \n",
              "\n",
              "[5 rows x 31 columns]"
            ],
            "text/html": [
              "\n",
              "  <div id=\"df-8a203435-7bb1-4fe3-96e9-2b63a5cfb871\">\n",
              "    <div class=\"colab-df-container\">\n",
              "      <div>\n",
              "<style scoped>\n",
              "    .dataframe tbody tr th:only-of-type {\n",
              "        vertical-align: middle;\n",
              "    }\n",
              "\n",
              "    .dataframe tbody tr th {\n",
              "        vertical-align: top;\n",
              "    }\n",
              "\n",
              "    .dataframe thead th {\n",
              "        text-align: right;\n",
              "    }\n",
              "</style>\n",
              "<table border=\"1\" class=\"dataframe\">\n",
              "  <thead>\n",
              "    <tr style=\"text-align: right;\">\n",
              "      <th></th>\n",
              "      <th>mean radius</th>\n",
              "      <th>mean texture</th>\n",
              "      <th>mean perimeter</th>\n",
              "      <th>mean area</th>\n",
              "      <th>mean smoothness</th>\n",
              "      <th>mean compactness</th>\n",
              "      <th>mean concavity</th>\n",
              "      <th>mean concave points</th>\n",
              "      <th>mean symmetry</th>\n",
              "      <th>mean fractal dimension</th>\n",
              "      <th>...</th>\n",
              "      <th>worst texture</th>\n",
              "      <th>worst perimeter</th>\n",
              "      <th>worst area</th>\n",
              "      <th>worst smoothness</th>\n",
              "      <th>worst compactness</th>\n",
              "      <th>worst concavity</th>\n",
              "      <th>worst concave points</th>\n",
              "      <th>worst symmetry</th>\n",
              "      <th>worst fractal dimension</th>\n",
              "      <th>target</th>\n",
              "    </tr>\n",
              "  </thead>\n",
              "  <tbody>\n",
              "    <tr>\n",
              "      <th>564</th>\n",
              "      <td>21.56</td>\n",
              "      <td>22.39</td>\n",
              "      <td>142.00</td>\n",
              "      <td>1479.0</td>\n",
              "      <td>0.11100</td>\n",
              "      <td>0.11590</td>\n",
              "      <td>0.24390</td>\n",
              "      <td>0.13890</td>\n",
              "      <td>0.1726</td>\n",
              "      <td>0.05623</td>\n",
              "      <td>...</td>\n",
              "      <td>26.40</td>\n",
              "      <td>166.10</td>\n",
              "      <td>2027.0</td>\n",
              "      <td>0.14100</td>\n",
              "      <td>0.21130</td>\n",
              "      <td>0.4107</td>\n",
              "      <td>0.2216</td>\n",
              "      <td>0.2060</td>\n",
              "      <td>0.07115</td>\n",
              "      <td>0</td>\n",
              "    </tr>\n",
              "    <tr>\n",
              "      <th>565</th>\n",
              "      <td>20.13</td>\n",
              "      <td>28.25</td>\n",
              "      <td>131.20</td>\n",
              "      <td>1261.0</td>\n",
              "      <td>0.09780</td>\n",
              "      <td>0.10340</td>\n",
              "      <td>0.14400</td>\n",
              "      <td>0.09791</td>\n",
              "      <td>0.1752</td>\n",
              "      <td>0.05533</td>\n",
              "      <td>...</td>\n",
              "      <td>38.25</td>\n",
              "      <td>155.00</td>\n",
              "      <td>1731.0</td>\n",
              "      <td>0.11660</td>\n",
              "      <td>0.19220</td>\n",
              "      <td>0.3215</td>\n",
              "      <td>0.1628</td>\n",
              "      <td>0.2572</td>\n",
              "      <td>0.06637</td>\n",
              "      <td>0</td>\n",
              "    </tr>\n",
              "    <tr>\n",
              "      <th>566</th>\n",
              "      <td>16.60</td>\n",
              "      <td>28.08</td>\n",
              "      <td>108.30</td>\n",
              "      <td>858.1</td>\n",
              "      <td>0.08455</td>\n",
              "      <td>0.10230</td>\n",
              "      <td>0.09251</td>\n",
              "      <td>0.05302</td>\n",
              "      <td>0.1590</td>\n",
              "      <td>0.05648</td>\n",
              "      <td>...</td>\n",
              "      <td>34.12</td>\n",
              "      <td>126.70</td>\n",
              "      <td>1124.0</td>\n",
              "      <td>0.11390</td>\n",
              "      <td>0.30940</td>\n",
              "      <td>0.3403</td>\n",
              "      <td>0.1418</td>\n",
              "      <td>0.2218</td>\n",
              "      <td>0.07820</td>\n",
              "      <td>0</td>\n",
              "    </tr>\n",
              "    <tr>\n",
              "      <th>567</th>\n",
              "      <td>20.60</td>\n",
              "      <td>29.33</td>\n",
              "      <td>140.10</td>\n",
              "      <td>1265.0</td>\n",
              "      <td>0.11780</td>\n",
              "      <td>0.27700</td>\n",
              "      <td>0.35140</td>\n",
              "      <td>0.15200</td>\n",
              "      <td>0.2397</td>\n",
              "      <td>0.07016</td>\n",
              "      <td>...</td>\n",
              "      <td>39.42</td>\n",
              "      <td>184.60</td>\n",
              "      <td>1821.0</td>\n",
              "      <td>0.16500</td>\n",
              "      <td>0.86810</td>\n",
              "      <td>0.9387</td>\n",
              "      <td>0.2650</td>\n",
              "      <td>0.4087</td>\n",
              "      <td>0.12400</td>\n",
              "      <td>0</td>\n",
              "    </tr>\n",
              "    <tr>\n",
              "      <th>568</th>\n",
              "      <td>7.76</td>\n",
              "      <td>24.54</td>\n",
              "      <td>47.92</td>\n",
              "      <td>181.0</td>\n",
              "      <td>0.05263</td>\n",
              "      <td>0.04362</td>\n",
              "      <td>0.00000</td>\n",
              "      <td>0.00000</td>\n",
              "      <td>0.1587</td>\n",
              "      <td>0.05884</td>\n",
              "      <td>...</td>\n",
              "      <td>30.37</td>\n",
              "      <td>59.16</td>\n",
              "      <td>268.6</td>\n",
              "      <td>0.08996</td>\n",
              "      <td>0.06444</td>\n",
              "      <td>0.0000</td>\n",
              "      <td>0.0000</td>\n",
              "      <td>0.2871</td>\n",
              "      <td>0.07039</td>\n",
              "      <td>1</td>\n",
              "    </tr>\n",
              "  </tbody>\n",
              "</table>\n",
              "<p>5 rows × 31 columns</p>\n",
              "</div>\n",
              "      <button class=\"colab-df-convert\" onclick=\"convertToInteractive('df-8a203435-7bb1-4fe3-96e9-2b63a5cfb871')\"\n",
              "              title=\"Convert this dataframe to an interactive table.\"\n",
              "              style=\"display:none;\">\n",
              "        \n",
              "  <svg xmlns=\"http://www.w3.org/2000/svg\" height=\"24px\"viewBox=\"0 0 24 24\"\n",
              "       width=\"24px\">\n",
              "    <path d=\"M0 0h24v24H0V0z\" fill=\"none\"/>\n",
              "    <path d=\"M18.56 5.44l.94 2.06.94-2.06 2.06-.94-2.06-.94-.94-2.06-.94 2.06-2.06.94zm-11 1L8.5 8.5l.94-2.06 2.06-.94-2.06-.94L8.5 2.5l-.94 2.06-2.06.94zm10 10l.94 2.06.94-2.06 2.06-.94-2.06-.94-.94-2.06-.94 2.06-2.06.94z\"/><path d=\"M17.41 7.96l-1.37-1.37c-.4-.4-.92-.59-1.43-.59-.52 0-1.04.2-1.43.59L10.3 9.45l-7.72 7.72c-.78.78-.78 2.05 0 2.83L4 21.41c.39.39.9.59 1.41.59.51 0 1.02-.2 1.41-.59l7.78-7.78 2.81-2.81c.8-.78.8-2.07 0-2.86zM5.41 20L4 18.59l7.72-7.72 1.47 1.35L5.41 20z\"/>\n",
              "  </svg>\n",
              "      </button>\n",
              "      \n",
              "  <style>\n",
              "    .colab-df-container {\n",
              "      display:flex;\n",
              "      flex-wrap:wrap;\n",
              "      gap: 12px;\n",
              "    }\n",
              "\n",
              "    .colab-df-convert {\n",
              "      background-color: #E8F0FE;\n",
              "      border: none;\n",
              "      border-radius: 50%;\n",
              "      cursor: pointer;\n",
              "      display: none;\n",
              "      fill: #1967D2;\n",
              "      height: 32px;\n",
              "      padding: 0 0 0 0;\n",
              "      width: 32px;\n",
              "    }\n",
              "\n",
              "    .colab-df-convert:hover {\n",
              "      background-color: #E2EBFA;\n",
              "      box-shadow: 0px 1px 2px rgba(60, 64, 67, 0.3), 0px 1px 3px 1px rgba(60, 64, 67, 0.15);\n",
              "      fill: #174EA6;\n",
              "    }\n",
              "\n",
              "    [theme=dark] .colab-df-convert {\n",
              "      background-color: #3B4455;\n",
              "      fill: #D2E3FC;\n",
              "    }\n",
              "\n",
              "    [theme=dark] .colab-df-convert:hover {\n",
              "      background-color: #434B5C;\n",
              "      box-shadow: 0px 1px 3px 1px rgba(0, 0, 0, 0.15);\n",
              "      filter: drop-shadow(0px 1px 2px rgba(0, 0, 0, 0.3));\n",
              "      fill: #FFFFFF;\n",
              "    }\n",
              "  </style>\n",
              "\n",
              "      <script>\n",
              "        const buttonEl =\n",
              "          document.querySelector('#df-8a203435-7bb1-4fe3-96e9-2b63a5cfb871 button.colab-df-convert');\n",
              "        buttonEl.style.display =\n",
              "          google.colab.kernel.accessAllowed ? 'block' : 'none';\n",
              "\n",
              "        async function convertToInteractive(key) {\n",
              "          const element = document.querySelector('#df-8a203435-7bb1-4fe3-96e9-2b63a5cfb871');\n",
              "          const dataTable =\n",
              "            await google.colab.kernel.invokeFunction('convertToInteractive',\n",
              "                                                     [key], {});\n",
              "          if (!dataTable) return;\n",
              "\n",
              "          const docLinkHtml = 'Like what you see? Visit the ' +\n",
              "            '<a target=\"_blank\" href=https://colab.research.google.com/notebooks/data_table.ipynb>data table notebook</a>'\n",
              "            + ' to learn more about interactive tables.';\n",
              "          element.innerHTML = '';\n",
              "          dataTable['output_type'] = 'display_data';\n",
              "          await google.colab.output.renderOutput(dataTable, element);\n",
              "          const docLink = document.createElement('div');\n",
              "          docLink.innerHTML = docLinkHtml;\n",
              "          element.appendChild(docLink);\n",
              "        }\n",
              "      </script>\n",
              "    </div>\n",
              "  </div>\n",
              "  "
            ]
          },
          "metadata": {},
          "execution_count": 37
        }
      ]
    },
    {
      "cell_type": "code",
      "source": [
        "def data_checks(df: pd.DataFrame):\n",
        "        \"\"\"\n",
        "        perform checks in the dataset\n",
        "\n",
        "        args: \n",
        "            df (pd.DataFrame): the DataFrame which we are performing checks\n",
        "        \n",
        "        returns:\n",
        "            dictionary of checks\n",
        "\n",
        "        \"\"\"\n",
        "        checks = {\n",
        "            \"info\":df.info(),\n",
        "            \"shape\":df.shape,\n",
        "            \"uniqueness\":df.apply(lambda x: len(x.unique())).sort_values(ascending=False).head(10),\n",
        "            \"missing_values\":df.isnull().sum(),\n",
        "            \"duplicates\":df.duplicated().sum(),\n",
        "            \"data_snapshot\":df.head()\n",
        "\n",
        "        }\n",
        "        return checks\n",
        "data_checks(data)"
      ],
      "metadata": {
        "colab": {
          "base_uri": "https://localhost:8080/"
        },
        "id": "7aRG1w7tvxzb",
        "outputId": "ff45f32f-6d8d-4231-9863-c178225bdd55"
      },
      "execution_count": null,
      "outputs": [
        {
          "output_type": "stream",
          "name": "stdout",
          "text": [
            "<class 'pandas.core.frame.DataFrame'>\n",
            "RangeIndex: 569 entries, 0 to 568\n",
            "Data columns (total 31 columns):\n",
            " #   Column                   Non-Null Count  Dtype  \n",
            "---  ------                   --------------  -----  \n",
            " 0   mean radius              569 non-null    float64\n",
            " 1   mean texture             569 non-null    float64\n",
            " 2   mean perimeter           569 non-null    float64\n",
            " 3   mean area                569 non-null    float64\n",
            " 4   mean smoothness          569 non-null    float64\n",
            " 5   mean compactness         569 non-null    float64\n",
            " 6   mean concavity           569 non-null    float64\n",
            " 7   mean concave points      569 non-null    float64\n",
            " 8   mean symmetry            569 non-null    float64\n",
            " 9   mean fractal dimension   569 non-null    float64\n",
            " 10  radius error             569 non-null    float64\n",
            " 11  texture error            569 non-null    float64\n",
            " 12  perimeter error          569 non-null    float64\n",
            " 13  area error               569 non-null    float64\n",
            " 14  smoothness error         569 non-null    float64\n",
            " 15  compactness error        569 non-null    float64\n",
            " 16  concavity error          569 non-null    float64\n",
            " 17  concave points error     569 non-null    float64\n",
            " 18  symmetry error           569 non-null    float64\n",
            " 19  fractal dimension error  569 non-null    float64\n",
            " 20  worst radius             569 non-null    float64\n",
            " 21  worst texture            569 non-null    float64\n",
            " 22  worst perimeter          569 non-null    float64\n",
            " 23  worst area               569 non-null    float64\n",
            " 24  worst smoothness         569 non-null    float64\n",
            " 25  worst compactness        569 non-null    float64\n",
            " 26  worst concavity          569 non-null    float64\n",
            " 27  worst concave points     569 non-null    float64\n",
            " 28  worst symmetry           569 non-null    float64\n",
            " 29  worst fractal dimension  569 non-null    float64\n",
            " 30  target                   569 non-null    int64  \n",
            "dtypes: float64(30), int64(1)\n",
            "memory usage: 137.9 KB\n"
          ]
        },
        {
          "output_type": "execute_result",
          "data": {
            "text/plain": [
              "{'info': None, 'shape': (569, 31), 'uniqueness': smoothness error           547\n",
              " fractal dimension error    545\n",
              " worst area                 544\n",
              " mean concave points        542\n",
              " compactness error          541\n",
              " radius error               540\n",
              " worst concavity            539\n",
              " mean area                  539\n",
              " mean concavity             537\n",
              " mean compactness           537\n",
              " dtype: int64, 'missing_values': mean radius                0\n",
              " mean texture               0\n",
              " mean perimeter             0\n",
              " mean area                  0\n",
              " mean smoothness            0\n",
              " mean compactness           0\n",
              " mean concavity             0\n",
              " mean concave points        0\n",
              " mean symmetry              0\n",
              " mean fractal dimension     0\n",
              " radius error               0\n",
              " texture error              0\n",
              " perimeter error            0\n",
              " area error                 0\n",
              " smoothness error           0\n",
              " compactness error          0\n",
              " concavity error            0\n",
              " concave points error       0\n",
              " symmetry error             0\n",
              " fractal dimension error    0\n",
              " worst radius               0\n",
              " worst texture              0\n",
              " worst perimeter            0\n",
              " worst area                 0\n",
              " worst smoothness           0\n",
              " worst compactness          0\n",
              " worst concavity            0\n",
              " worst concave points       0\n",
              " worst symmetry             0\n",
              " worst fractal dimension    0\n",
              " target                     0\n",
              " dtype: int64, 'duplicates': 0, 'data_snapshot':    mean radius  mean texture  mean perimeter  mean area  mean smoothness  \\\n",
              " 0        17.99         10.38          122.80     1001.0          0.11840   \n",
              " 1        20.57         17.77          132.90     1326.0          0.08474   \n",
              " 2        19.69         21.25          130.00     1203.0          0.10960   \n",
              " 3        11.42         20.38           77.58      386.1          0.14250   \n",
              " 4        20.29         14.34          135.10     1297.0          0.10030   \n",
              " \n",
              "    mean compactness  mean concavity  mean concave points  mean symmetry  \\\n",
              " 0           0.27760          0.3001              0.14710         0.2419   \n",
              " 1           0.07864          0.0869              0.07017         0.1812   \n",
              " 2           0.15990          0.1974              0.12790         0.2069   \n",
              " 3           0.28390          0.2414              0.10520         0.2597   \n",
              " 4           0.13280          0.1980              0.10430         0.1809   \n",
              " \n",
              "    mean fractal dimension  ...  worst texture  worst perimeter  worst area  \\\n",
              " 0                 0.07871  ...          17.33           184.60      2019.0   \n",
              " 1                 0.05667  ...          23.41           158.80      1956.0   \n",
              " 2                 0.05999  ...          25.53           152.50      1709.0   \n",
              " 3                 0.09744  ...          26.50            98.87       567.7   \n",
              " 4                 0.05883  ...          16.67           152.20      1575.0   \n",
              " \n",
              "    worst smoothness  worst compactness  worst concavity  worst concave points  \\\n",
              " 0            0.1622             0.6656           0.7119                0.2654   \n",
              " 1            0.1238             0.1866           0.2416                0.1860   \n",
              " 2            0.1444             0.4245           0.4504                0.2430   \n",
              " 3            0.2098             0.8663           0.6869                0.2575   \n",
              " 4            0.1374             0.2050           0.4000                0.1625   \n",
              " \n",
              "    worst symmetry  worst fractal dimension  target  \n",
              " 0          0.4601                  0.11890       0  \n",
              " 1          0.2750                  0.08902       0  \n",
              " 2          0.3613                  0.08758       0  \n",
              " 3          0.6638                  0.17300       0  \n",
              " 4          0.2364                  0.07678       0  \n",
              " \n",
              " [5 rows x 31 columns]}"
            ]
          },
          "metadata": {},
          "execution_count": 38
        }
      ]
    },
    {
      "cell_type": "code",
      "source": [
        "def missing_value_analysis(data:pd.DataFrame):\n",
        "    \"\"\"\n",
        "    this function is for performing analysis on missing values\n",
        "    \n",
        "    args:\n",
        "        data (pd.DataFrame): input the dataframe to perform analysis upon\n",
        "    \n",
        "    return:\n",
        "        returns a plot of all the missing value columns and their frequenct\n",
        "    \"\"\"\n",
        "    cols_with_missing = data.isnull().sum()\n",
        "    cols_with_missing = cols_with_missing[cols_with_missing>0]\n",
        "    cols_with_missing.sort_values(inplace=True)\n",
        "    fig, ax = plt.subplots(figsize=(7,6))  \n",
        "    width = 0.70 # the width of the bars \n",
        "    ind = np.arange(len(cols_with_missing))  # the x locations for the groups\n",
        "    ax.barh(ind, cols_with_missing, width, color=\"blue\")\n",
        "    ax.set_yticks(ind+width/2)\n",
        "    ax.set_yticklabels(cols_with_missing.index, minor=False)\n",
        "    plt.xlabel('Count')\n",
        "    plt.ylabel('Features')\n",
        "missing_value_analysis(data)"
      ],
      "metadata": {
        "id": "HcUHWkgwvzD-"
      },
      "execution_count": null,
      "outputs": []
    },
    {
      "cell_type": "code",
      "source": [
        "# Get column names\n",
        "col = data.columns\n",
        "print(col)"
      ],
      "metadata": {
        "colab": {
          "base_uri": "https://localhost:8080/"
        },
        "id": "I4c87Enwv0x7",
        "outputId": "24b95187-a260-4587-a148-38bec6290c65"
      },
      "execution_count": null,
      "outputs": [
        {
          "output_type": "stream",
          "name": "stdout",
          "text": [
            "Index(['mean radius', 'mean texture', 'mean perimeter', 'mean area',\n",
            "       'mean smoothness', 'mean compactness', 'mean concavity',\n",
            "       'mean concave points', 'mean symmetry', 'mean fractal dimension',\n",
            "       'radius error', 'texture error', 'perimeter error', 'area error',\n",
            "       'smoothness error', 'compactness error', 'concavity error',\n",
            "       'concave points error', 'symmetry error', 'fractal dimension error',\n",
            "       'worst radius', 'worst texture', 'worst perimeter', 'worst area',\n",
            "       'worst smoothness', 'worst compactness', 'worst concavity',\n",
            "       'worst concave points', 'worst symmetry', 'worst fractal dimension',\n",
            "       'target'],\n",
            "      dtype='object')\n"
          ]
        }
      ]
    },
    {
      "cell_type": "code",
      "source": [
        "def get_xy(data:pd.DataFrame):\n",
        "    \"\"\"\n",
        "    set the x and y column\n",
        "    \n",
        "    args:\n",
        "        data(pd.DataFrame): the dataFrame which we are extracting the x and y\n",
        "    \n",
        "    returns:\n",
        "        y and X in form of pandas series\n",
        "    \n",
        "    \"\"\"\n",
        "    y = cancer.target # M or B \n",
        "    X = pd.DataFrame(cancer.data,columns=cancer.feature_names)\n",
        "    return y,X\n",
        "y,X = get_xy(data)"
      ],
      "metadata": {
        "id": "HKrvIrnWv3Oi"
      },
      "execution_count": null,
      "outputs": []
    },
    {
      "cell_type": "code",
      "source": [
        "def describe_independent(X):\n",
        "    \"\"\"\n",
        "    gets data subset to describe and performs simple descriptive measures\n",
        "    on the independent variable\n",
        "    \n",
        "    args:\n",
        "        X (pd.DataFrame): a subset of the main data\n",
        "    \n",
        "    returns:\n",
        "        description in form of a dataframe\n",
        "    \"\"\"\n",
        "    return X.describe().T.style.bar(subset=['mean'], color='#205ff2')\\\n",
        "                            .background_gradient(subset=['std'], cmap='Reds')\\\n",
        "                            .background_gradient(subset=['50%'], cmap='coolwarm')\n",
        "describe_independent(X)"
      ],
      "metadata": {
        "colab": {
          "base_uri": "https://localhost:8080/",
          "height": 990
        },
        "id": "5GZEUhM2v4gX",
        "outputId": "376b4f94-ea9b-433e-da25-19e820e54b86"
      },
      "execution_count": null,
      "outputs": [
        {
          "output_type": "execute_result",
          "data": {
            "text/plain": [
              "<pandas.io.formats.style.Styler at 0x7fcf7efff8b0>"
            ],
            "text/html": [
              "<style type=\"text/css\">\n",
              "#T_f425d_row0_col1 {\n",
              "  width: 10em;\n",
              "  background: linear-gradient(90deg, #205ff2 1.6%, transparent 1.6%);\n",
              "}\n",
              "#T_f425d_row0_col2, #T_f425d_row1_col2 {\n",
              "  background-color: #fff4ef;\n",
              "  color: #000000;\n",
              "}\n",
              "#T_f425d_row0_col5 {\n",
              "  background-color: #3f53c6;\n",
              "  color: #f1f1f1;\n",
              "}\n",
              "#T_f425d_row1_col1 {\n",
              "  width: 10em;\n",
              "  background: linear-gradient(90deg, #205ff2 2.2%, transparent 2.2%);\n",
              "}\n",
              "#T_f425d_row1_col5 {\n",
              "  background-color: #4358cb;\n",
              "  color: #f1f1f1;\n",
              "}\n",
              "#T_f425d_row2_col1 {\n",
              "  width: 10em;\n",
              "  background: linear-gradient(90deg, #205ff2 10.4%, transparent 10.4%);\n",
              "}\n",
              "#T_f425d_row2_col2 {\n",
              "  background-color: #ffeee7;\n",
              "  color: #000000;\n",
              "}\n",
              "#T_f425d_row2_col5 {\n",
              "  background-color: #6282ea;\n",
              "  color: #f1f1f1;\n",
              "}\n",
              "#T_f425d_row3_col1 {\n",
              "  width: 10em;\n",
              "  background: linear-gradient(90deg, #205ff2 74.4%, transparent 74.4%);\n",
              "}\n",
              "#T_f425d_row3_col2 {\n",
              "  background-color: #f03d2d;\n",
              "  color: #f1f1f1;\n",
              "}\n",
              "#T_f425d_row3_col5 {\n",
              "  background-color: #ed8366;\n",
              "  color: #f1f1f1;\n",
              "}\n",
              "#T_f425d_row4_col1, #T_f425d_row5_col1, #T_f425d_row6_col1, #T_f425d_row7_col1, #T_f425d_row8_col1, #T_f425d_row9_col1, #T_f425d_row10_col1, #T_f425d_row14_col1, #T_f425d_row15_col1, #T_f425d_row16_col1, #T_f425d_row17_col1, #T_f425d_row18_col1, #T_f425d_row19_col1, #T_f425d_row24_col1, #T_f425d_row25_col1, #T_f425d_row26_col1, #T_f425d_row27_col1, #T_f425d_row28_col1, #T_f425d_row29_col1 {\n",
              "  width: 10em;\n",
              "  background: linear-gradient(90deg, #205ff2 0.0%, transparent 0.0%);\n",
              "}\n",
              "#T_f425d_row4_col2, #T_f425d_row5_col2, #T_f425d_row6_col2, #T_f425d_row7_col2, #T_f425d_row8_col2, #T_f425d_row9_col2, #T_f425d_row10_col2, #T_f425d_row11_col2, #T_f425d_row12_col2, #T_f425d_row14_col2, #T_f425d_row15_col2, #T_f425d_row16_col2, #T_f425d_row17_col2, #T_f425d_row18_col2, #T_f425d_row19_col2, #T_f425d_row24_col2, #T_f425d_row25_col2, #T_f425d_row26_col2, #T_f425d_row27_col2, #T_f425d_row28_col2, #T_f425d_row29_col2 {\n",
              "  background-color: #fff5f0;\n",
              "  color: #000000;\n",
              "}\n",
              "#T_f425d_row4_col5, #T_f425d_row5_col5, #T_f425d_row6_col5, #T_f425d_row7_col5, #T_f425d_row8_col5, #T_f425d_row9_col5, #T_f425d_row10_col5, #T_f425d_row11_col5, #T_f425d_row12_col5, #T_f425d_row14_col5, #T_f425d_row15_col5, #T_f425d_row16_col5, #T_f425d_row17_col5, #T_f425d_row18_col5, #T_f425d_row19_col5, #T_f425d_row24_col5, #T_f425d_row25_col5, #T_f425d_row26_col5, #T_f425d_row27_col5, #T_f425d_row28_col5, #T_f425d_row29_col5 {\n",
              "  background-color: #3b4cc0;\n",
              "  color: #f1f1f1;\n",
              "}\n",
              "#T_f425d_row11_col1 {\n",
              "  width: 10em;\n",
              "  background: linear-gradient(90deg, #205ff2 0.1%, transparent 0.1%);\n",
              "}\n",
              "#T_f425d_row12_col1 {\n",
              "  width: 10em;\n",
              "  background: linear-gradient(90deg, #205ff2 0.3%, transparent 0.3%);\n",
              "}\n",
              "#T_f425d_row13_col1 {\n",
              "  width: 10em;\n",
              "  background: linear-gradient(90deg, #205ff2 4.6%, transparent 4.6%);\n",
              "}\n",
              "#T_f425d_row13_col2 {\n",
              "  background-color: #fee8dd;\n",
              "  color: #000000;\n",
              "}\n",
              "#T_f425d_row13_col5, #T_f425d_row21_col5 {\n",
              "  background-color: #455cce;\n",
              "  color: #f1f1f1;\n",
              "}\n",
              "#T_f425d_row20_col1 {\n",
              "  width: 10em;\n",
              "  background: linear-gradient(90deg, #205ff2 1.8%, transparent 1.8%);\n",
              "}\n",
              "#T_f425d_row20_col2, #T_f425d_row21_col2 {\n",
              "  background-color: #fff4ee;\n",
              "  color: #000000;\n",
              "}\n",
              "#T_f425d_row20_col5 {\n",
              "  background-color: #4055c8;\n",
              "  color: #f1f1f1;\n",
              "}\n",
              "#T_f425d_row21_col1 {\n",
              "  width: 10em;\n",
              "  background: linear-gradient(90deg, #205ff2 2.9%, transparent 2.9%);\n",
              "}\n",
              "#T_f425d_row22_col1 {\n",
              "  width: 10em;\n",
              "  background: linear-gradient(90deg, #205ff2 12.2%, transparent 12.2%);\n",
              "}\n",
              "#T_f425d_row22_col2 {\n",
              "  background-color: #ffebe2;\n",
              "  color: #000000;\n",
              "}\n",
              "#T_f425d_row22_col5 {\n",
              "  background-color: #6788ee;\n",
              "  color: #f1f1f1;\n",
              "}\n",
              "#T_f425d_row23_col1 {\n",
              "  width: 10em;\n",
              "  background: linear-gradient(90deg, #205ff2 100.0%, transparent 100.0%);\n",
              "}\n",
              "#T_f425d_row23_col2 {\n",
              "  background-color: #67000d;\n",
              "  color: #f1f1f1;\n",
              "}\n",
              "#T_f425d_row23_col5 {\n",
              "  background-color: #b40426;\n",
              "  color: #f1f1f1;\n",
              "}\n",
              "</style>\n",
              "<table id=\"T_f425d\" class=\"dataframe\">\n",
              "  <thead>\n",
              "    <tr>\n",
              "      <th class=\"blank level0\" >&nbsp;</th>\n",
              "      <th id=\"T_f425d_level0_col0\" class=\"col_heading level0 col0\" >count</th>\n",
              "      <th id=\"T_f425d_level0_col1\" class=\"col_heading level0 col1\" >mean</th>\n",
              "      <th id=\"T_f425d_level0_col2\" class=\"col_heading level0 col2\" >std</th>\n",
              "      <th id=\"T_f425d_level0_col3\" class=\"col_heading level0 col3\" >min</th>\n",
              "      <th id=\"T_f425d_level0_col4\" class=\"col_heading level0 col4\" >25%</th>\n",
              "      <th id=\"T_f425d_level0_col5\" class=\"col_heading level0 col5\" >50%</th>\n",
              "      <th id=\"T_f425d_level0_col6\" class=\"col_heading level0 col6\" >75%</th>\n",
              "      <th id=\"T_f425d_level0_col7\" class=\"col_heading level0 col7\" >max</th>\n",
              "    </tr>\n",
              "  </thead>\n",
              "  <tbody>\n",
              "    <tr>\n",
              "      <th id=\"T_f425d_level0_row0\" class=\"row_heading level0 row0\" >mean radius</th>\n",
              "      <td id=\"T_f425d_row0_col0\" class=\"data row0 col0\" >569.000000</td>\n",
              "      <td id=\"T_f425d_row0_col1\" class=\"data row0 col1\" >14.127292</td>\n",
              "      <td id=\"T_f425d_row0_col2\" class=\"data row0 col2\" >3.524049</td>\n",
              "      <td id=\"T_f425d_row0_col3\" class=\"data row0 col3\" >6.981000</td>\n",
              "      <td id=\"T_f425d_row0_col4\" class=\"data row0 col4\" >11.700000</td>\n",
              "      <td id=\"T_f425d_row0_col5\" class=\"data row0 col5\" >13.370000</td>\n",
              "      <td id=\"T_f425d_row0_col6\" class=\"data row0 col6\" >15.780000</td>\n",
              "      <td id=\"T_f425d_row0_col7\" class=\"data row0 col7\" >28.110000</td>\n",
              "    </tr>\n",
              "    <tr>\n",
              "      <th id=\"T_f425d_level0_row1\" class=\"row_heading level0 row1\" >mean texture</th>\n",
              "      <td id=\"T_f425d_row1_col0\" class=\"data row1 col0\" >569.000000</td>\n",
              "      <td id=\"T_f425d_row1_col1\" class=\"data row1 col1\" >19.289649</td>\n",
              "      <td id=\"T_f425d_row1_col2\" class=\"data row1 col2\" >4.301036</td>\n",
              "      <td id=\"T_f425d_row1_col3\" class=\"data row1 col3\" >9.710000</td>\n",
              "      <td id=\"T_f425d_row1_col4\" class=\"data row1 col4\" >16.170000</td>\n",
              "      <td id=\"T_f425d_row1_col5\" class=\"data row1 col5\" >18.840000</td>\n",
              "      <td id=\"T_f425d_row1_col6\" class=\"data row1 col6\" >21.800000</td>\n",
              "      <td id=\"T_f425d_row1_col7\" class=\"data row1 col7\" >39.280000</td>\n",
              "    </tr>\n",
              "    <tr>\n",
              "      <th id=\"T_f425d_level0_row2\" class=\"row_heading level0 row2\" >mean perimeter</th>\n",
              "      <td id=\"T_f425d_row2_col0\" class=\"data row2 col0\" >569.000000</td>\n",
              "      <td id=\"T_f425d_row2_col1\" class=\"data row2 col1\" >91.969033</td>\n",
              "      <td id=\"T_f425d_row2_col2\" class=\"data row2 col2\" >24.298981</td>\n",
              "      <td id=\"T_f425d_row2_col3\" class=\"data row2 col3\" >43.790000</td>\n",
              "      <td id=\"T_f425d_row2_col4\" class=\"data row2 col4\" >75.170000</td>\n",
              "      <td id=\"T_f425d_row2_col5\" class=\"data row2 col5\" >86.240000</td>\n",
              "      <td id=\"T_f425d_row2_col6\" class=\"data row2 col6\" >104.100000</td>\n",
              "      <td id=\"T_f425d_row2_col7\" class=\"data row2 col7\" >188.500000</td>\n",
              "    </tr>\n",
              "    <tr>\n",
              "      <th id=\"T_f425d_level0_row3\" class=\"row_heading level0 row3\" >mean area</th>\n",
              "      <td id=\"T_f425d_row3_col0\" class=\"data row3 col0\" >569.000000</td>\n",
              "      <td id=\"T_f425d_row3_col1\" class=\"data row3 col1\" >654.889104</td>\n",
              "      <td id=\"T_f425d_row3_col2\" class=\"data row3 col2\" >351.914129</td>\n",
              "      <td id=\"T_f425d_row3_col3\" class=\"data row3 col3\" >143.500000</td>\n",
              "      <td id=\"T_f425d_row3_col4\" class=\"data row3 col4\" >420.300000</td>\n",
              "      <td id=\"T_f425d_row3_col5\" class=\"data row3 col5\" >551.100000</td>\n",
              "      <td id=\"T_f425d_row3_col6\" class=\"data row3 col6\" >782.700000</td>\n",
              "      <td id=\"T_f425d_row3_col7\" class=\"data row3 col7\" >2501.000000</td>\n",
              "    </tr>\n",
              "    <tr>\n",
              "      <th id=\"T_f425d_level0_row4\" class=\"row_heading level0 row4\" >mean smoothness</th>\n",
              "      <td id=\"T_f425d_row4_col0\" class=\"data row4 col0\" >569.000000</td>\n",
              "      <td id=\"T_f425d_row4_col1\" class=\"data row4 col1\" >0.096360</td>\n",
              "      <td id=\"T_f425d_row4_col2\" class=\"data row4 col2\" >0.014064</td>\n",
              "      <td id=\"T_f425d_row4_col3\" class=\"data row4 col3\" >0.052630</td>\n",
              "      <td id=\"T_f425d_row4_col4\" class=\"data row4 col4\" >0.086370</td>\n",
              "      <td id=\"T_f425d_row4_col5\" class=\"data row4 col5\" >0.095870</td>\n",
              "      <td id=\"T_f425d_row4_col6\" class=\"data row4 col6\" >0.105300</td>\n",
              "      <td id=\"T_f425d_row4_col7\" class=\"data row4 col7\" >0.163400</td>\n",
              "    </tr>\n",
              "    <tr>\n",
              "      <th id=\"T_f425d_level0_row5\" class=\"row_heading level0 row5\" >mean compactness</th>\n",
              "      <td id=\"T_f425d_row5_col0\" class=\"data row5 col0\" >569.000000</td>\n",
              "      <td id=\"T_f425d_row5_col1\" class=\"data row5 col1\" >0.104341</td>\n",
              "      <td id=\"T_f425d_row5_col2\" class=\"data row5 col2\" >0.052813</td>\n",
              "      <td id=\"T_f425d_row5_col3\" class=\"data row5 col3\" >0.019380</td>\n",
              "      <td id=\"T_f425d_row5_col4\" class=\"data row5 col4\" >0.064920</td>\n",
              "      <td id=\"T_f425d_row5_col5\" class=\"data row5 col5\" >0.092630</td>\n",
              "      <td id=\"T_f425d_row5_col6\" class=\"data row5 col6\" >0.130400</td>\n",
              "      <td id=\"T_f425d_row5_col7\" class=\"data row5 col7\" >0.345400</td>\n",
              "    </tr>\n",
              "    <tr>\n",
              "      <th id=\"T_f425d_level0_row6\" class=\"row_heading level0 row6\" >mean concavity</th>\n",
              "      <td id=\"T_f425d_row6_col0\" class=\"data row6 col0\" >569.000000</td>\n",
              "      <td id=\"T_f425d_row6_col1\" class=\"data row6 col1\" >0.088799</td>\n",
              "      <td id=\"T_f425d_row6_col2\" class=\"data row6 col2\" >0.079720</td>\n",
              "      <td id=\"T_f425d_row6_col3\" class=\"data row6 col3\" >0.000000</td>\n",
              "      <td id=\"T_f425d_row6_col4\" class=\"data row6 col4\" >0.029560</td>\n",
              "      <td id=\"T_f425d_row6_col5\" class=\"data row6 col5\" >0.061540</td>\n",
              "      <td id=\"T_f425d_row6_col6\" class=\"data row6 col6\" >0.130700</td>\n",
              "      <td id=\"T_f425d_row6_col7\" class=\"data row6 col7\" >0.426800</td>\n",
              "    </tr>\n",
              "    <tr>\n",
              "      <th id=\"T_f425d_level0_row7\" class=\"row_heading level0 row7\" >mean concave points</th>\n",
              "      <td id=\"T_f425d_row7_col0\" class=\"data row7 col0\" >569.000000</td>\n",
              "      <td id=\"T_f425d_row7_col1\" class=\"data row7 col1\" >0.048919</td>\n",
              "      <td id=\"T_f425d_row7_col2\" class=\"data row7 col2\" >0.038803</td>\n",
              "      <td id=\"T_f425d_row7_col3\" class=\"data row7 col3\" >0.000000</td>\n",
              "      <td id=\"T_f425d_row7_col4\" class=\"data row7 col4\" >0.020310</td>\n",
              "      <td id=\"T_f425d_row7_col5\" class=\"data row7 col5\" >0.033500</td>\n",
              "      <td id=\"T_f425d_row7_col6\" class=\"data row7 col6\" >0.074000</td>\n",
              "      <td id=\"T_f425d_row7_col7\" class=\"data row7 col7\" >0.201200</td>\n",
              "    </tr>\n",
              "    <tr>\n",
              "      <th id=\"T_f425d_level0_row8\" class=\"row_heading level0 row8\" >mean symmetry</th>\n",
              "      <td id=\"T_f425d_row8_col0\" class=\"data row8 col0\" >569.000000</td>\n",
              "      <td id=\"T_f425d_row8_col1\" class=\"data row8 col1\" >0.181162</td>\n",
              "      <td id=\"T_f425d_row8_col2\" class=\"data row8 col2\" >0.027414</td>\n",
              "      <td id=\"T_f425d_row8_col3\" class=\"data row8 col3\" >0.106000</td>\n",
              "      <td id=\"T_f425d_row8_col4\" class=\"data row8 col4\" >0.161900</td>\n",
              "      <td id=\"T_f425d_row8_col5\" class=\"data row8 col5\" >0.179200</td>\n",
              "      <td id=\"T_f425d_row8_col6\" class=\"data row8 col6\" >0.195700</td>\n",
              "      <td id=\"T_f425d_row8_col7\" class=\"data row8 col7\" >0.304000</td>\n",
              "    </tr>\n",
              "    <tr>\n",
              "      <th id=\"T_f425d_level0_row9\" class=\"row_heading level0 row9\" >mean fractal dimension</th>\n",
              "      <td id=\"T_f425d_row9_col0\" class=\"data row9 col0\" >569.000000</td>\n",
              "      <td id=\"T_f425d_row9_col1\" class=\"data row9 col1\" >0.062798</td>\n",
              "      <td id=\"T_f425d_row9_col2\" class=\"data row9 col2\" >0.007060</td>\n",
              "      <td id=\"T_f425d_row9_col3\" class=\"data row9 col3\" >0.049960</td>\n",
              "      <td id=\"T_f425d_row9_col4\" class=\"data row9 col4\" >0.057700</td>\n",
              "      <td id=\"T_f425d_row9_col5\" class=\"data row9 col5\" >0.061540</td>\n",
              "      <td id=\"T_f425d_row9_col6\" class=\"data row9 col6\" >0.066120</td>\n",
              "      <td id=\"T_f425d_row9_col7\" class=\"data row9 col7\" >0.097440</td>\n",
              "    </tr>\n",
              "    <tr>\n",
              "      <th id=\"T_f425d_level0_row10\" class=\"row_heading level0 row10\" >radius error</th>\n",
              "      <td id=\"T_f425d_row10_col0\" class=\"data row10 col0\" >569.000000</td>\n",
              "      <td id=\"T_f425d_row10_col1\" class=\"data row10 col1\" >0.405172</td>\n",
              "      <td id=\"T_f425d_row10_col2\" class=\"data row10 col2\" >0.277313</td>\n",
              "      <td id=\"T_f425d_row10_col3\" class=\"data row10 col3\" >0.111500</td>\n",
              "      <td id=\"T_f425d_row10_col4\" class=\"data row10 col4\" >0.232400</td>\n",
              "      <td id=\"T_f425d_row10_col5\" class=\"data row10 col5\" >0.324200</td>\n",
              "      <td id=\"T_f425d_row10_col6\" class=\"data row10 col6\" >0.478900</td>\n",
              "      <td id=\"T_f425d_row10_col7\" class=\"data row10 col7\" >2.873000</td>\n",
              "    </tr>\n",
              "    <tr>\n",
              "      <th id=\"T_f425d_level0_row11\" class=\"row_heading level0 row11\" >texture error</th>\n",
              "      <td id=\"T_f425d_row11_col0\" class=\"data row11 col0\" >569.000000</td>\n",
              "      <td id=\"T_f425d_row11_col1\" class=\"data row11 col1\" >1.216853</td>\n",
              "      <td id=\"T_f425d_row11_col2\" class=\"data row11 col2\" >0.551648</td>\n",
              "      <td id=\"T_f425d_row11_col3\" class=\"data row11 col3\" >0.360200</td>\n",
              "      <td id=\"T_f425d_row11_col4\" class=\"data row11 col4\" >0.833900</td>\n",
              "      <td id=\"T_f425d_row11_col5\" class=\"data row11 col5\" >1.108000</td>\n",
              "      <td id=\"T_f425d_row11_col6\" class=\"data row11 col6\" >1.474000</td>\n",
              "      <td id=\"T_f425d_row11_col7\" class=\"data row11 col7\" >4.885000</td>\n",
              "    </tr>\n",
              "    <tr>\n",
              "      <th id=\"T_f425d_level0_row12\" class=\"row_heading level0 row12\" >perimeter error</th>\n",
              "      <td id=\"T_f425d_row12_col0\" class=\"data row12 col0\" >569.000000</td>\n",
              "      <td id=\"T_f425d_row12_col1\" class=\"data row12 col1\" >2.866059</td>\n",
              "      <td id=\"T_f425d_row12_col2\" class=\"data row12 col2\" >2.021855</td>\n",
              "      <td id=\"T_f425d_row12_col3\" class=\"data row12 col3\" >0.757000</td>\n",
              "      <td id=\"T_f425d_row12_col4\" class=\"data row12 col4\" >1.606000</td>\n",
              "      <td id=\"T_f425d_row12_col5\" class=\"data row12 col5\" >2.287000</td>\n",
              "      <td id=\"T_f425d_row12_col6\" class=\"data row12 col6\" >3.357000</td>\n",
              "      <td id=\"T_f425d_row12_col7\" class=\"data row12 col7\" >21.980000</td>\n",
              "    </tr>\n",
              "    <tr>\n",
              "      <th id=\"T_f425d_level0_row13\" class=\"row_heading level0 row13\" >area error</th>\n",
              "      <td id=\"T_f425d_row13_col0\" class=\"data row13 col0\" >569.000000</td>\n",
              "      <td id=\"T_f425d_row13_col1\" class=\"data row13 col1\" >40.337079</td>\n",
              "      <td id=\"T_f425d_row13_col2\" class=\"data row13 col2\" >45.491006</td>\n",
              "      <td id=\"T_f425d_row13_col3\" class=\"data row13 col3\" >6.802000</td>\n",
              "      <td id=\"T_f425d_row13_col4\" class=\"data row13 col4\" >17.850000</td>\n",
              "      <td id=\"T_f425d_row13_col5\" class=\"data row13 col5\" >24.530000</td>\n",
              "      <td id=\"T_f425d_row13_col6\" class=\"data row13 col6\" >45.190000</td>\n",
              "      <td id=\"T_f425d_row13_col7\" class=\"data row13 col7\" >542.200000</td>\n",
              "    </tr>\n",
              "    <tr>\n",
              "      <th id=\"T_f425d_level0_row14\" class=\"row_heading level0 row14\" >smoothness error</th>\n",
              "      <td id=\"T_f425d_row14_col0\" class=\"data row14 col0\" >569.000000</td>\n",
              "      <td id=\"T_f425d_row14_col1\" class=\"data row14 col1\" >0.007041</td>\n",
              "      <td id=\"T_f425d_row14_col2\" class=\"data row14 col2\" >0.003003</td>\n",
              "      <td id=\"T_f425d_row14_col3\" class=\"data row14 col3\" >0.001713</td>\n",
              "      <td id=\"T_f425d_row14_col4\" class=\"data row14 col4\" >0.005169</td>\n",
              "      <td id=\"T_f425d_row14_col5\" class=\"data row14 col5\" >0.006380</td>\n",
              "      <td id=\"T_f425d_row14_col6\" class=\"data row14 col6\" >0.008146</td>\n",
              "      <td id=\"T_f425d_row14_col7\" class=\"data row14 col7\" >0.031130</td>\n",
              "    </tr>\n",
              "    <tr>\n",
              "      <th id=\"T_f425d_level0_row15\" class=\"row_heading level0 row15\" >compactness error</th>\n",
              "      <td id=\"T_f425d_row15_col0\" class=\"data row15 col0\" >569.000000</td>\n",
              "      <td id=\"T_f425d_row15_col1\" class=\"data row15 col1\" >0.025478</td>\n",
              "      <td id=\"T_f425d_row15_col2\" class=\"data row15 col2\" >0.017908</td>\n",
              "      <td id=\"T_f425d_row15_col3\" class=\"data row15 col3\" >0.002252</td>\n",
              "      <td id=\"T_f425d_row15_col4\" class=\"data row15 col4\" >0.013080</td>\n",
              "      <td id=\"T_f425d_row15_col5\" class=\"data row15 col5\" >0.020450</td>\n",
              "      <td id=\"T_f425d_row15_col6\" class=\"data row15 col6\" >0.032450</td>\n",
              "      <td id=\"T_f425d_row15_col7\" class=\"data row15 col7\" >0.135400</td>\n",
              "    </tr>\n",
              "    <tr>\n",
              "      <th id=\"T_f425d_level0_row16\" class=\"row_heading level0 row16\" >concavity error</th>\n",
              "      <td id=\"T_f425d_row16_col0\" class=\"data row16 col0\" >569.000000</td>\n",
              "      <td id=\"T_f425d_row16_col1\" class=\"data row16 col1\" >0.031894</td>\n",
              "      <td id=\"T_f425d_row16_col2\" class=\"data row16 col2\" >0.030186</td>\n",
              "      <td id=\"T_f425d_row16_col3\" class=\"data row16 col3\" >0.000000</td>\n",
              "      <td id=\"T_f425d_row16_col4\" class=\"data row16 col4\" >0.015090</td>\n",
              "      <td id=\"T_f425d_row16_col5\" class=\"data row16 col5\" >0.025890</td>\n",
              "      <td id=\"T_f425d_row16_col6\" class=\"data row16 col6\" >0.042050</td>\n",
              "      <td id=\"T_f425d_row16_col7\" class=\"data row16 col7\" >0.396000</td>\n",
              "    </tr>\n",
              "    <tr>\n",
              "      <th id=\"T_f425d_level0_row17\" class=\"row_heading level0 row17\" >concave points error</th>\n",
              "      <td id=\"T_f425d_row17_col0\" class=\"data row17 col0\" >569.000000</td>\n",
              "      <td id=\"T_f425d_row17_col1\" class=\"data row17 col1\" >0.011796</td>\n",
              "      <td id=\"T_f425d_row17_col2\" class=\"data row17 col2\" >0.006170</td>\n",
              "      <td id=\"T_f425d_row17_col3\" class=\"data row17 col3\" >0.000000</td>\n",
              "      <td id=\"T_f425d_row17_col4\" class=\"data row17 col4\" >0.007638</td>\n",
              "      <td id=\"T_f425d_row17_col5\" class=\"data row17 col5\" >0.010930</td>\n",
              "      <td id=\"T_f425d_row17_col6\" class=\"data row17 col6\" >0.014710</td>\n",
              "      <td id=\"T_f425d_row17_col7\" class=\"data row17 col7\" >0.052790</td>\n",
              "    </tr>\n",
              "    <tr>\n",
              "      <th id=\"T_f425d_level0_row18\" class=\"row_heading level0 row18\" >symmetry error</th>\n",
              "      <td id=\"T_f425d_row18_col0\" class=\"data row18 col0\" >569.000000</td>\n",
              "      <td id=\"T_f425d_row18_col1\" class=\"data row18 col1\" >0.020542</td>\n",
              "      <td id=\"T_f425d_row18_col2\" class=\"data row18 col2\" >0.008266</td>\n",
              "      <td id=\"T_f425d_row18_col3\" class=\"data row18 col3\" >0.007882</td>\n",
              "      <td id=\"T_f425d_row18_col4\" class=\"data row18 col4\" >0.015160</td>\n",
              "      <td id=\"T_f425d_row18_col5\" class=\"data row18 col5\" >0.018730</td>\n",
              "      <td id=\"T_f425d_row18_col6\" class=\"data row18 col6\" >0.023480</td>\n",
              "      <td id=\"T_f425d_row18_col7\" class=\"data row18 col7\" >0.078950</td>\n",
              "    </tr>\n",
              "    <tr>\n",
              "      <th id=\"T_f425d_level0_row19\" class=\"row_heading level0 row19\" >fractal dimension error</th>\n",
              "      <td id=\"T_f425d_row19_col0\" class=\"data row19 col0\" >569.000000</td>\n",
              "      <td id=\"T_f425d_row19_col1\" class=\"data row19 col1\" >0.003795</td>\n",
              "      <td id=\"T_f425d_row19_col2\" class=\"data row19 col2\" >0.002646</td>\n",
              "      <td id=\"T_f425d_row19_col3\" class=\"data row19 col3\" >0.000895</td>\n",
              "      <td id=\"T_f425d_row19_col4\" class=\"data row19 col4\" >0.002248</td>\n",
              "      <td id=\"T_f425d_row19_col5\" class=\"data row19 col5\" >0.003187</td>\n",
              "      <td id=\"T_f425d_row19_col6\" class=\"data row19 col6\" >0.004558</td>\n",
              "      <td id=\"T_f425d_row19_col7\" class=\"data row19 col7\" >0.029840</td>\n",
              "    </tr>\n",
              "    <tr>\n",
              "      <th id=\"T_f425d_level0_row20\" class=\"row_heading level0 row20\" >worst radius</th>\n",
              "      <td id=\"T_f425d_row20_col0\" class=\"data row20 col0\" >569.000000</td>\n",
              "      <td id=\"T_f425d_row20_col1\" class=\"data row20 col1\" >16.269190</td>\n",
              "      <td id=\"T_f425d_row20_col2\" class=\"data row20 col2\" >4.833242</td>\n",
              "      <td id=\"T_f425d_row20_col3\" class=\"data row20 col3\" >7.930000</td>\n",
              "      <td id=\"T_f425d_row20_col4\" class=\"data row20 col4\" >13.010000</td>\n",
              "      <td id=\"T_f425d_row20_col5\" class=\"data row20 col5\" >14.970000</td>\n",
              "      <td id=\"T_f425d_row20_col6\" class=\"data row20 col6\" >18.790000</td>\n",
              "      <td id=\"T_f425d_row20_col7\" class=\"data row20 col7\" >36.040000</td>\n",
              "    </tr>\n",
              "    <tr>\n",
              "      <th id=\"T_f425d_level0_row21\" class=\"row_heading level0 row21\" >worst texture</th>\n",
              "      <td id=\"T_f425d_row21_col0\" class=\"data row21 col0\" >569.000000</td>\n",
              "      <td id=\"T_f425d_row21_col1\" class=\"data row21 col1\" >25.677223</td>\n",
              "      <td id=\"T_f425d_row21_col2\" class=\"data row21 col2\" >6.146258</td>\n",
              "      <td id=\"T_f425d_row21_col3\" class=\"data row21 col3\" >12.020000</td>\n",
              "      <td id=\"T_f425d_row21_col4\" class=\"data row21 col4\" >21.080000</td>\n",
              "      <td id=\"T_f425d_row21_col5\" class=\"data row21 col5\" >25.410000</td>\n",
              "      <td id=\"T_f425d_row21_col6\" class=\"data row21 col6\" >29.720000</td>\n",
              "      <td id=\"T_f425d_row21_col7\" class=\"data row21 col7\" >49.540000</td>\n",
              "    </tr>\n",
              "    <tr>\n",
              "      <th id=\"T_f425d_level0_row22\" class=\"row_heading level0 row22\" >worst perimeter</th>\n",
              "      <td id=\"T_f425d_row22_col0\" class=\"data row22 col0\" >569.000000</td>\n",
              "      <td id=\"T_f425d_row22_col1\" class=\"data row22 col1\" >107.261213</td>\n",
              "      <td id=\"T_f425d_row22_col2\" class=\"data row22 col2\" >33.602542</td>\n",
              "      <td id=\"T_f425d_row22_col3\" class=\"data row22 col3\" >50.410000</td>\n",
              "      <td id=\"T_f425d_row22_col4\" class=\"data row22 col4\" >84.110000</td>\n",
              "      <td id=\"T_f425d_row22_col5\" class=\"data row22 col5\" >97.660000</td>\n",
              "      <td id=\"T_f425d_row22_col6\" class=\"data row22 col6\" >125.400000</td>\n",
              "      <td id=\"T_f425d_row22_col7\" class=\"data row22 col7\" >251.200000</td>\n",
              "    </tr>\n",
              "    <tr>\n",
              "      <th id=\"T_f425d_level0_row23\" class=\"row_heading level0 row23\" >worst area</th>\n",
              "      <td id=\"T_f425d_row23_col0\" class=\"data row23 col0\" >569.000000</td>\n",
              "      <td id=\"T_f425d_row23_col1\" class=\"data row23 col1\" >880.583128</td>\n",
              "      <td id=\"T_f425d_row23_col2\" class=\"data row23 col2\" >569.356993</td>\n",
              "      <td id=\"T_f425d_row23_col3\" class=\"data row23 col3\" >185.200000</td>\n",
              "      <td id=\"T_f425d_row23_col4\" class=\"data row23 col4\" >515.300000</td>\n",
              "      <td id=\"T_f425d_row23_col5\" class=\"data row23 col5\" >686.500000</td>\n",
              "      <td id=\"T_f425d_row23_col6\" class=\"data row23 col6\" >1084.000000</td>\n",
              "      <td id=\"T_f425d_row23_col7\" class=\"data row23 col7\" >4254.000000</td>\n",
              "    </tr>\n",
              "    <tr>\n",
              "      <th id=\"T_f425d_level0_row24\" class=\"row_heading level0 row24\" >worst smoothness</th>\n",
              "      <td id=\"T_f425d_row24_col0\" class=\"data row24 col0\" >569.000000</td>\n",
              "      <td id=\"T_f425d_row24_col1\" class=\"data row24 col1\" >0.132369</td>\n",
              "      <td id=\"T_f425d_row24_col2\" class=\"data row24 col2\" >0.022832</td>\n",
              "      <td id=\"T_f425d_row24_col3\" class=\"data row24 col3\" >0.071170</td>\n",
              "      <td id=\"T_f425d_row24_col4\" class=\"data row24 col4\" >0.116600</td>\n",
              "      <td id=\"T_f425d_row24_col5\" class=\"data row24 col5\" >0.131300</td>\n",
              "      <td id=\"T_f425d_row24_col6\" class=\"data row24 col6\" >0.146000</td>\n",
              "      <td id=\"T_f425d_row24_col7\" class=\"data row24 col7\" >0.222600</td>\n",
              "    </tr>\n",
              "    <tr>\n",
              "      <th id=\"T_f425d_level0_row25\" class=\"row_heading level0 row25\" >worst compactness</th>\n",
              "      <td id=\"T_f425d_row25_col0\" class=\"data row25 col0\" >569.000000</td>\n",
              "      <td id=\"T_f425d_row25_col1\" class=\"data row25 col1\" >0.254265</td>\n",
              "      <td id=\"T_f425d_row25_col2\" class=\"data row25 col2\" >0.157336</td>\n",
              "      <td id=\"T_f425d_row25_col3\" class=\"data row25 col3\" >0.027290</td>\n",
              "      <td id=\"T_f425d_row25_col4\" class=\"data row25 col4\" >0.147200</td>\n",
              "      <td id=\"T_f425d_row25_col5\" class=\"data row25 col5\" >0.211900</td>\n",
              "      <td id=\"T_f425d_row25_col6\" class=\"data row25 col6\" >0.339100</td>\n",
              "      <td id=\"T_f425d_row25_col7\" class=\"data row25 col7\" >1.058000</td>\n",
              "    </tr>\n",
              "    <tr>\n",
              "      <th id=\"T_f425d_level0_row26\" class=\"row_heading level0 row26\" >worst concavity</th>\n",
              "      <td id=\"T_f425d_row26_col0\" class=\"data row26 col0\" >569.000000</td>\n",
              "      <td id=\"T_f425d_row26_col1\" class=\"data row26 col1\" >0.272188</td>\n",
              "      <td id=\"T_f425d_row26_col2\" class=\"data row26 col2\" >0.208624</td>\n",
              "      <td id=\"T_f425d_row26_col3\" class=\"data row26 col3\" >0.000000</td>\n",
              "      <td id=\"T_f425d_row26_col4\" class=\"data row26 col4\" >0.114500</td>\n",
              "      <td id=\"T_f425d_row26_col5\" class=\"data row26 col5\" >0.226700</td>\n",
              "      <td id=\"T_f425d_row26_col6\" class=\"data row26 col6\" >0.382900</td>\n",
              "      <td id=\"T_f425d_row26_col7\" class=\"data row26 col7\" >1.252000</td>\n",
              "    </tr>\n",
              "    <tr>\n",
              "      <th id=\"T_f425d_level0_row27\" class=\"row_heading level0 row27\" >worst concave points</th>\n",
              "      <td id=\"T_f425d_row27_col0\" class=\"data row27 col0\" >569.000000</td>\n",
              "      <td id=\"T_f425d_row27_col1\" class=\"data row27 col1\" >0.114606</td>\n",
              "      <td id=\"T_f425d_row27_col2\" class=\"data row27 col2\" >0.065732</td>\n",
              "      <td id=\"T_f425d_row27_col3\" class=\"data row27 col3\" >0.000000</td>\n",
              "      <td id=\"T_f425d_row27_col4\" class=\"data row27 col4\" >0.064930</td>\n",
              "      <td id=\"T_f425d_row27_col5\" class=\"data row27 col5\" >0.099930</td>\n",
              "      <td id=\"T_f425d_row27_col6\" class=\"data row27 col6\" >0.161400</td>\n",
              "      <td id=\"T_f425d_row27_col7\" class=\"data row27 col7\" >0.291000</td>\n",
              "    </tr>\n",
              "    <tr>\n",
              "      <th id=\"T_f425d_level0_row28\" class=\"row_heading level0 row28\" >worst symmetry</th>\n",
              "      <td id=\"T_f425d_row28_col0\" class=\"data row28 col0\" >569.000000</td>\n",
              "      <td id=\"T_f425d_row28_col1\" class=\"data row28 col1\" >0.290076</td>\n",
              "      <td id=\"T_f425d_row28_col2\" class=\"data row28 col2\" >0.061867</td>\n",
              "      <td id=\"T_f425d_row28_col3\" class=\"data row28 col3\" >0.156500</td>\n",
              "      <td id=\"T_f425d_row28_col4\" class=\"data row28 col4\" >0.250400</td>\n",
              "      <td id=\"T_f425d_row28_col5\" class=\"data row28 col5\" >0.282200</td>\n",
              "      <td id=\"T_f425d_row28_col6\" class=\"data row28 col6\" >0.317900</td>\n",
              "      <td id=\"T_f425d_row28_col7\" class=\"data row28 col7\" >0.663800</td>\n",
              "    </tr>\n",
              "    <tr>\n",
              "      <th id=\"T_f425d_level0_row29\" class=\"row_heading level0 row29\" >worst fractal dimension</th>\n",
              "      <td id=\"T_f425d_row29_col0\" class=\"data row29 col0\" >569.000000</td>\n",
              "      <td id=\"T_f425d_row29_col1\" class=\"data row29 col1\" >0.083946</td>\n",
              "      <td id=\"T_f425d_row29_col2\" class=\"data row29 col2\" >0.018061</td>\n",
              "      <td id=\"T_f425d_row29_col3\" class=\"data row29 col3\" >0.055040</td>\n",
              "      <td id=\"T_f425d_row29_col4\" class=\"data row29 col4\" >0.071460</td>\n",
              "      <td id=\"T_f425d_row29_col5\" class=\"data row29 col5\" >0.080040</td>\n",
              "      <td id=\"T_f425d_row29_col6\" class=\"data row29 col6\" >0.092080</td>\n",
              "      <td id=\"T_f425d_row29_col7\" class=\"data row29 col7\" >0.207500</td>\n",
              "    </tr>\n",
              "  </tbody>\n",
              "</table>\n"
            ]
          },
          "metadata": {},
          "execution_count": 42
        }
      ]
    },
    {
      "cell_type": "code",
      "source": [],
      "metadata": {
        "id": "6aJqDsTcv5bz"
      },
      "execution_count": null,
      "outputs": []
    }
  ]
}